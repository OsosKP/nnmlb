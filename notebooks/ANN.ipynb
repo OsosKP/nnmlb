{
 "cells": [
  {
   "cell_type": "code",
   "execution_count": 1,
   "metadata": {},
   "outputs": [],
   "source": [
    "import os\n",
    "import joblib\n",
    "import pandas as pd\n",
    "import numpy as np\n",
    "import matplotlib.pyplot as plt\n",
    "from sklearn.preprocessing import MinMaxScaler\n",
    "from tensorflow.keras import regularizers\n",
    "from sklearn.model_selection import train_test_split\n",
    "from tensorflow.keras.callbacks import EarlyStopping\n",
    "from tensorflow.keras.layers import Dense, Dropout\n",
    "from tensorflow.keras.models import Sequential"
   ]
  },
  {
   "cell_type": "code",
   "execution_count": 2,
   "metadata": {},
   "outputs": [],
   "source": [
    "X = []\n",
    "y = []\n",
    "for year in range(1919, 2020):\n",
    "    df = pd.read_csv('../core/tensors/games/{}.csv'.format(year), header=None)\n",
    "    for index in range(0, df.shape[0]):\n",
    "        game = list(df.iloc[index])\n",
    "        y_sample = int(game[-1])\n",
    "        game = game[:-1]\n",
    "        X.append(game)\n",
    "        y.append(y_sample)\n",
    "X = np.array(X)\n",
    "y = np.array(y)\n",
    "y = y[..., np.newaxis]"
   ]
  },
  {
   "cell_type": "code",
   "execution_count": 3,
   "metadata": {},
   "outputs": [
    {
     "data": {
      "text/plain": [
       "(176687, 540)"
      ]
     },
     "execution_count": 3,
     "metadata": {},
     "output_type": "execute_result"
    }
   ],
   "source": [
    "X.shape"
   ]
  },
  {
   "cell_type": "code",
   "execution_count": 4,
   "metadata": {},
   "outputs": [
    {
     "data": {
      "text/plain": [
       "(176687, 1)"
      ]
     },
     "execution_count": 4,
     "metadata": {},
     "output_type": "execute_result"
    }
   ],
   "source": [
    "y.shape"
   ]
  },
  {
   "cell_type": "code",
   "execution_count": 5,
   "metadata": {},
   "outputs": [],
   "source": [
    "X_train, X_test, y_train, y_test = train_test_split(\n",
    "    X, y, test_size=0.2, random_state=42)"
   ]
  },
  {
   "cell_type": "code",
   "execution_count": 6,
   "metadata": {},
   "outputs": [],
   "source": [
    "scaler = MinMaxScaler()\n",
    "X_train = scaler.fit_transform(X_train)\n",
    "X_test = scaler.transform(X_test)"
   ]
  },
  {
   "cell_type": "code",
   "execution_count": 7,
   "metadata": {},
   "outputs": [],
   "source": [
    "epochs = 4000\n",
    "batch_size = 2048\n",
    "loss_param = 'binary_crossentropy'\n",
    "optimizer_param = 'adam'\n",
    "stop_monitor = 'val_loss'\n",
    "metric = 'accuracy'\n",
    "stop_patience = 15"
   ]
  },
  {
   "cell_type": "code",
   "execution_count": 8,
   "metadata": {},
   "outputs": [],
   "source": [
    "model = Sequential()\n",
    "\n",
    "model.add(Dense(128, activation='relu', kernel_regularizer=regularizers.l2(0.0001), \n",
    "                input_shape=X_train.shape[1:]))\n",
    "model.add(Dropout(0.5))\n",
    "\n",
    "model.add(Dense(64, activation='relu', kernel_regularizer=regularizers.l2(0.0001)))\n",
    "model.add(Dropout(0.5))\n",
    "\n",
    "model.add(Dense(32, activation='relu', kernel_regularizer=regularizers.l2(0.0001)))\n",
    "model.add(Dropout(0.5))\n",
    "\n",
    "model.add(Dense(units=1, activation='sigmoid'))\n",
    "\n",
    "model.compile(loss=loss_param, optimizer=optimizer_param)"
   ]
  },
  {
   "cell_type": "code",
   "execution_count": 9,
   "metadata": {},
   "outputs": [],
   "source": [
    "early_stop = EarlyStopping(monitor=stop_monitor, patience=stop_patience)"
   ]
  },
  {
   "cell_type": "code",
   "execution_count": 11,
   "metadata": {},
   "outputs": [
    {
     "name": "stdout",
     "output_type": "stream",
     "text": [
      "Train on 141349 samples, validate on 35338 samples\n",
      "Epoch 1/4000\n",
      "141349/141349 [==============================] - 2s 16us/sample - loss: 0.7246 - val_loss: 0.7154\n",
      "Epoch 2/4000\n",
      "141349/141349 [==============================] - 1s 10us/sample - loss: 0.7119 - val_loss: 0.7068\n",
      "Epoch 3/4000\n",
      "141349/141349 [==============================] - 1s 9us/sample - loss: 0.7048 - val_loss: 0.7016\n",
      "Epoch 4/4000\n",
      "141349/141349 [==============================] - 1s 9us/sample - loss: 0.7004 - val_loss: 0.6975\n",
      "Epoch 5/4000\n",
      "141349/141349 [==============================] - 1s 8us/sample - loss: 0.6967 - val_loss: 0.6958\n",
      "Epoch 6/4000\n",
      "141349/141349 [==============================] - 1s 8us/sample - loss: 0.6949 - val_loss: 0.6939\n",
      "Epoch 7/4000\n",
      "141349/141349 [==============================] - 1s 8us/sample - loss: 0.6927 - val_loss: 0.6912\n",
      "Epoch 8/4000\n",
      "141349/141349 [==============================] - 1s 9us/sample - loss: 0.6909 - val_loss: 0.6900\n",
      "Epoch 9/4000\n",
      "141349/141349 [==============================] - 1s 8us/sample - loss: 0.6893 - val_loss: 0.6904\n",
      "Epoch 10/4000\n",
      "141349/141349 [==============================] - 1s 9us/sample - loss: 0.6882 - val_loss: 0.6879\n",
      "Epoch 11/4000\n",
      "141349/141349 [==============================] - 2s 12us/sample - loss: 0.6875 - val_loss: 0.6886\n",
      "Epoch 12/4000\n",
      "141349/141349 [==============================] - 1s 10us/sample - loss: 0.6870 - val_loss: 0.6868\n",
      "Epoch 13/4000\n",
      "141349/141349 [==============================] - 1s 9us/sample - loss: 0.6861 - val_loss: 0.6882\n",
      "Epoch 14/4000\n",
      "141349/141349 [==============================] - 1s 9us/sample - loss: 0.6860 - val_loss: 0.6869\n",
      "Epoch 15/4000\n",
      "141349/141349 [==============================] - 1s 9us/sample - loss: 0.6850 - val_loss: 0.6865\n",
      "Epoch 16/4000\n",
      "141349/141349 [==============================] - 1s 9us/sample - loss: 0.6848 - val_loss: 0.6882\n",
      "Epoch 17/4000\n",
      "141349/141349 [==============================] - 1s 9us/sample - loss: 0.6857 - val_loss: 0.6868\n",
      "Epoch 18/4000\n",
      "141349/141349 [==============================] - 1s 10us/sample - loss: 0.6846 - val_loss: 0.6860\n",
      "Epoch 19/4000\n",
      "141349/141349 [==============================] - 1s 10us/sample - loss: 0.6847 - val_loss: 0.6848\n",
      "Epoch 20/4000\n",
      "141349/141349 [==============================] - 1s 10us/sample - loss: 0.6844 - val_loss: 0.6867\n",
      "Epoch 21/4000\n",
      "141349/141349 [==============================] - 1s 10us/sample - loss: 0.6837 - val_loss: 0.6853\n",
      "Epoch 22/4000\n",
      "141349/141349 [==============================] - 1s 10us/sample - loss: 0.6841 - val_loss: 0.6864\n",
      "Epoch 23/4000\n",
      "141349/141349 [==============================] - 1s 9us/sample - loss: 0.6834 - val_loss: 0.6858\n",
      "Epoch 24/4000\n",
      "141349/141349 [==============================] - 1s 9us/sample - loss: 0.6833 - val_loss: 0.6866\n",
      "Epoch 25/4000\n",
      "141349/141349 [==============================] - 1s 9us/sample - loss: 0.6830 - val_loss: 0.6851\n",
      "Epoch 26/4000\n",
      "141349/141349 [==============================] - 1s 10us/sample - loss: 0.6839 - val_loss: 0.6856\n",
      "Epoch 27/4000\n",
      "141349/141349 [==============================] - 1s 10us/sample - loss: 0.6838 - val_loss: 0.6867\n",
      "Epoch 28/4000\n",
      "141349/141349 [==============================] - 1s 10us/sample - loss: 0.6829 - val_loss: 0.6838\n",
      "Epoch 29/4000\n",
      "141349/141349 [==============================] - 1s 9us/sample - loss: 0.6829 - val_loss: 0.6850\n",
      "Epoch 30/4000\n",
      "141349/141349 [==============================] - 1s 9us/sample - loss: 0.6831 - val_loss: 0.6839\n",
      "Epoch 31/4000\n",
      "141349/141349 [==============================] - 1s 9us/sample - loss: 0.6828 - val_loss: 0.6857\n",
      "Epoch 32/4000\n",
      "141349/141349 [==============================] - 1s 9us/sample - loss: 0.6833 - val_loss: 0.6852\n",
      "Epoch 33/4000\n",
      "141349/141349 [==============================] - 1s 10us/sample - loss: 0.6827 - val_loss: 0.6862\n",
      "Epoch 34/4000\n",
      "141349/141349 [==============================] - 2s 13us/sample - loss: 0.6837 - val_loss: 0.6845\n",
      "Epoch 35/4000\n",
      "141349/141349 [==============================] - 2s 11us/sample - loss: 0.6834 - val_loss: 0.6870\n",
      "Epoch 36/4000\n",
      "141349/141349 [==============================] - 1s 9us/sample - loss: 0.6830 - val_loss: 0.6841\n",
      "Epoch 37/4000\n",
      "141349/141349 [==============================] - 1s 9us/sample - loss: 0.6831 - val_loss: 0.6840\n",
      "Epoch 38/4000\n",
      "141349/141349 [==============================] - 1s 9us/sample - loss: 0.6826 - val_loss: 0.6860\n",
      "Epoch 39/4000\n",
      "141349/141349 [==============================] - 1s 9us/sample - loss: 0.6823 - val_loss: 0.6848\n",
      "Epoch 40/4000\n",
      "141349/141349 [==============================] - 1s 9us/sample - loss: 0.6830 - val_loss: 0.6845\n",
      "Epoch 41/4000\n",
      "141349/141349 [==============================] - 1s 9us/sample - loss: 0.6828 - val_loss: 0.6863\n",
      "Epoch 42/4000\n",
      "141349/141349 [==============================] - 1s 10us/sample - loss: 0.6832 - val_loss: 0.6860\n",
      "Epoch 43/4000\n",
      "141349/141349 [==============================] - 1s 11us/sample - loss: 0.6823 - val_loss: 0.6864\n"
     ]
    }
   ],
   "source": [
    "results = model.fit(x=X_train, y=y_train,\n",
    "                    epochs=epochs,\n",
    "                    batch_size=batch_size,\n",
    "                    validation_data=(X_test, y_test),\n",
    "                    callbacks=[early_stop]\n",
    "                    )"
   ]
  },
  {
   "cell_type": "code",
   "execution_count": 12,
   "metadata": {},
   "outputs": [],
   "source": [
    "losses = model.history.history\n",
    "losses['loss'] = np.asarray(losses['loss'])\n",
    "losses['val_loss'] = np.asarray(losses['val_loss'])\n",
    "final_number_of_epochs = len(losses['loss'])\n",
    "min_loss = losses['loss'].min()\n",
    "mean_loss = losses['loss'].mean()\n",
    "final_loss = losses['loss'][-1]\n",
    "min_val_loss = losses['val_loss'].min()\n",
    "mean_val_loss = losses['val_loss'].mean()\n",
    "final_val_loss = losses['val_loss'][-1]\n",
    "\n",
    "\n",
    "def get_model_summary():\n",
    "    output = []\n",
    "    model.summary(print_fn=lambda line: output.append(line))\n",
    "    return str(output).strip('[]')\n",
    "\n",
    "\n",
    "summary = get_model_summary()\n",
    "\n",
    "record = {\n",
    "    'Epochs': final_number_of_epochs,\n",
    "    'Batch_Size': batch_size,\n",
    "    'Loss_Func': loss_param,\n",
    "    'Optimizer': optimizer_param,\n",
    "    'Early_Stop_Monitor': stop_monitor,\n",
    "    'Early_Stop_Patience': stop_patience,\n",
    "    'Min_Loss': min_loss,\n",
    "    'Mean_Loss': mean_loss,\n",
    "    'Final_Loss': final_loss,\n",
    "    'Min_Val_Loss': min_val_loss,\n",
    "    'Mean_Val_Loss': mean_val_loss,\n",
    "    'Final_Val_Loss': final_val_loss,\n",
    "    'Model': summary\n",
    "}"
   ]
  },
  {
   "cell_type": "code",
   "execution_count": 13,
   "metadata": {},
   "outputs": [],
   "source": [
    "new_data = pd.DataFrame(record, index=[0])\n",
    "if os.path.exists('../core/records/games_ann.csv'):\n",
    "    df_records = pd.read_csv('../core/records/games_ann.csv')\n",
    "    df_records = df_records.append(new_data)\n",
    "else:\n",
    "    df_records = pd.DataFrame(new_data)\n",
    "\n",
    "df_records.to_csv('../core/records/games_ann.csv',\n",
    "                  index=False, float_format='%g')\n",
    "\n",
    "model.save('../core/models/games_ann.h5')"
   ]
  },
  {
   "cell_type": "code",
   "execution_count": 14,
   "metadata": {},
   "outputs": [],
   "source": [
    "losses = pd.DataFrame(model.history.history)"
   ]
  },
  {
   "cell_type": "code",
   "execution_count": 15,
   "metadata": {},
   "outputs": [
    {
     "data": {
      "text/plain": [
       "<matplotlib.axes._subplots.AxesSubplot at 0x139561a50>"
      ]
     },
     "execution_count": 15,
     "metadata": {},
     "output_type": "execute_result"
    },
    {
     "data": {
      "image/png": "[encoded data removed]",
      "text/plain": [
       "<Figure size 432x288 with 1 Axes>"
      ]
     },
     "metadata": {
      "needs_background": "light"
     },
     "output_type": "display_data"
    }
   ],
   "source": [
    "losses.plot()"
   ]
  },
  {
   "cell_type": "code",
   "execution_count": null,
   "metadata": {},
   "outputs": [],
   "source": []
  },
  {
   "cell_type": "code",
   "execution_count": null,
   "metadata": {},
   "outputs": [],
   "source": []
  }
 ],
 "metadata": {
  "kernelspec": {
   "display_name": "Python 3.7.6 64-bit ('tf2env': conda)",
   "language": "python",
   "name": "python37664bittf2envconda7a5d2b04ce96452f92a2890aed430c66"
  },
  "language_info": {
   "codemirror_mode": {
    "name": "ipython",
    "version": 3
   },
   "file_extension": ".py",
   "mimetype": "text/x-python",
   "name": "python",
   "nbconvert_exporter": "python",
   "pygments_lexer": "ipython3",
   "version": "3.7.7"
  }
 },
 "nbformat": 4,
 "nbformat_minor": 4
}
