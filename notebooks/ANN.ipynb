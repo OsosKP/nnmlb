{
 "cells": [
  {
   "cell_type": "code",
   "execution_count": 1,
   "metadata": {},
   "outputs": [],
   "source": [
    "import os\n",
    "import joblib\n",
    "import pandas as pd\n",
    "import numpy as np\n",
    "import matplotlib.pyplot as plt\n",
    "from sklearn.preprocessing import MinMaxScaler\n",
    "from tensorflow.keras import regularizers\n",
    "from sklearn.model_selection import train_test_split\n",
    "from tensorflow.keras.callbacks import EarlyStopping\n",
    "from tensorflow.keras.layers import Dense, Dropout\n",
    "from tensorflow.keras.models import Sequential"
   ]
  },
  {
   "cell_type": "code",
   "execution_count": 2,
   "metadata": {},
   "outputs": [],
   "source": [
    "X = []\n",
    "y = []\n",
    "for year in range(1919, 2020):\n",
    "    df = pd.read_csv('../core/tensors/games/{}.csv'.format(year), header=None)\n",
    "    for index in range(0, df.shape[0]):\n",
    "        game = list(df.iloc[index])\n",
    "        y_sample = int(game[-1])\n",
    "        game = game[:-1]\n",
    "        X.append(game)\n",
    "        y.append(y_sample)\n",
    "X = np.array(X)\n",
    "y = np.array(y)\n",
    "y = y[..., np.newaxis]"
   ]
  },
  {
   "cell_type": "code",
   "execution_count": 3,
   "metadata": {},
   "outputs": [
    {
     "data": {
      "text/plain": [
       "(176687, 540)"
      ]
     },
     "execution_count": 3,
     "metadata": {},
     "output_type": "execute_result"
    }
   ],
   "source": [
    "X.shape"
   ]
  },
  {
   "cell_type": "code",
   "execution_count": 4,
   "metadata": {},
   "outputs": [
    {
     "data": {
      "text/plain": [
       "(176687, 1)"
      ]
     },
     "execution_count": 4,
     "metadata": {},
     "output_type": "execute_result"
    }
   ],
   "source": [
    "y.shape"
   ]
  },
  {
   "cell_type": "code",
   "execution_count": 5,
   "metadata": {},
   "outputs": [],
   "source": [
    "X_train, X_test, y_train, y_test = train_test_split(\n",
    "    X, y, test_size=0.2, random_state=42)"
   ]
  },
  {
   "cell_type": "code",
   "execution_count": 6,
   "metadata": {},
   "outputs": [],
   "source": [
    "scaler = MinMaxScaler()\n",
    "X_train = scaler.fit_transform(X_train)\n",
    "X_test = scaler.transform(X_test)"
   ]
  },
  {
   "cell_type": "code",
   "execution_count": 7,
   "metadata": {},
   "outputs": [],
   "source": [
    "epochs = 4000\n",
    "batch_size = 8\n",
    "loss_param = 'binary_crossentropy'\n",
    "optimizer_param = 'adam'\n",
    "stop_monitor = 'val_loss'\n",
    "metric = 'accuracy'\n",
    "stop_patience = 15"
   ]
  },
  {
   "cell_type": "code",
   "execution_count": 8,
   "metadata": {},
   "outputs": [],
   "source": [
    "model = Sequential()\n",
    "\n",
    "model.add(Dense(16, activation='relu', kernel_regularizer=regularizers.l2(0.0001), \n",
    "                input_shape=X_train.shape[1:]))\n",
    "model.add(Dropout(0.5))\n",
    "\n",
    "model.add(Dense(32, activation='relu', kernel_regularizer=regularizers.l2(0.0001), \n",
    "                input_shape=X_train.shape[1:]))\n",
    "model.add(Dropout(0.5))\n",
    "\n",
    "model.add(Dense(64, activation='relu', kernel_regularizer=regularizers.l2(0.0001), \n",
    "                input_shape=X_train.shape[1:]))\n",
    "\n",
    "model.add(Dense(32, activation='relu',\n",
    "                kernel_regularizer=regularizers.l2(0.0001)))\n",
    "model.add(Dropout(0.5))\n",
    "\n",
    "model.add(Dense(16, activation='relu',\n",
    "                kernel_regularizer=regularizers.l2(0.0001)))\n",
    "model.add(Dropout(0.5))\n",
    "\n",
    "model.add(Dense(units=1, activation='sigmoid'))\n",
    "\n",
    "model.compile(loss=loss_param, optimizer=optimizer_param)"
   ]
  },
  {
   "cell_type": "code",
   "execution_count": 9,
   "metadata": {},
   "outputs": [],
   "source": [
    "early_stop = EarlyStopping(monitor=stop_monitor, patience=stop_patience)"
   ]
  },
  {
   "cell_type": "code",
   "execution_count": 10,
   "metadata": {},
   "outputs": [
    {
     "name": "stdout",
     "output_type": "stream",
     "text": [
      "Train on 141349 samples, validate on 35338 samples\n",
      "Epoch 1/4000\n",
      "141349/141349 [==============================] - 34s 238us/sample - loss: 0.6921 - val_loss: 0.6897\n",
      "Epoch 2/4000\n",
      "141349/141349 [==============================] - 33s 237us/sample - loss: 0.6902 - val_loss: 0.6897\n",
      "Epoch 3/4000\n",
      "141349/141349 [==============================] - 35s 248us/sample - loss: 0.6902 - val_loss: 0.6898\n",
      "Epoch 4/4000\n",
      "141349/141349 [==============================] - 32s 226us/sample - loss: 0.6902 - val_loss: 0.6897\n",
      "Epoch 5/4000\n",
      "141349/141349 [==============================] - 33s 236us/sample - loss: 0.6902 - val_loss: 0.6897\n",
      "Epoch 6/4000\n",
      "141349/141349 [==============================] - 36s 254us/sample - loss: 0.6902 - val_loss: 0.6897\n",
      "Epoch 7/4000\n",
      "141349/141349 [==============================] - 33s 234us/sample - loss: 0.6902 - val_loss: 0.6898\n",
      "Epoch 8/4000\n",
      "141349/141349 [==============================] - 34s 244us/sample - loss: 0.6902 - val_loss: 0.6897\n",
      "Epoch 9/4000\n",
      "141349/141349 [==============================] - 37s 263us/sample - loss: 0.6902 - val_loss: 0.6897\n",
      "Epoch 10/4000\n",
      "141349/141349 [==============================] - 40s 286us/sample - loss: 0.6902 - val_loss: 0.6898\n",
      "Epoch 11/4000\n",
      "141349/141349 [==============================] - 33s 232us/sample - loss: 0.6902 - val_loss: 0.6897\n",
      "Epoch 12/4000\n",
      "141349/141349 [==============================] - 34s 240us/sample - loss: 0.6902 - val_loss: 0.6897\n",
      "Epoch 13/4000\n",
      "141349/141349 [==============================] - 32s 230us/sample - loss: 0.6902 - val_loss: 0.6897\n",
      "Epoch 14/4000\n",
      "141349/141349 [==============================] - 33s 233us/sample - loss: 0.6902 - val_loss: 0.6897\n",
      "Epoch 15/4000\n",
      "141349/141349 [==============================] - 33s 235us/sample - loss: 0.6902 - val_loss: 0.6897\n",
      "Epoch 16/4000\n",
      "141349/141349 [==============================] - 34s 240us/sample - loss: 0.6902 - val_loss: 0.6898\n",
      "Epoch 17/4000\n",
      "141349/141349 [==============================] - 32s 225us/sample - loss: 0.6902 - val_loss: 0.6898\n",
      "Epoch 18/4000\n",
      "141349/141349 [==============================] - 32s 228us/sample - loss: 0.6902 - val_loss: 0.6898\n",
      "Epoch 19/4000\n",
      "141349/141349 [==============================] - 35s 246us/sample - loss: 0.6902 - val_loss: 0.6897\n",
      "Epoch 20/4000\n",
      "141349/141349 [==============================] - 38s 269us/sample - loss: 0.6902 - val_loss: 0.6897\n",
      "Epoch 21/4000\n",
      "141349/141349 [==============================] - 40s 282us/sample - loss: 0.6902 - val_loss: 0.6897\n",
      "Epoch 22/4000\n",
      "141349/141349 [==============================] - 31s 221us/sample - loss: 0.6902 - val_loss: 0.6898\n",
      "Epoch 23/4000\n",
      "141349/141349 [==============================] - 34s 241us/sample - loss: 0.6902 - val_loss: 0.6898\n",
      "Epoch 24/4000\n",
      "141349/141349 [==============================] - 68s 482us/sample - loss: 0.6902 - val_loss: 0.6897\n",
      "Epoch 25/4000\n",
      "141349/141349 [==============================] - 59s 420us/sample - loss: 0.6902 - val_loss: 0.6897\n",
      "Epoch 26/4000\n",
      "141349/141349 [==============================] - 59s 417us/sample - loss: 0.6902 - val_loss: 0.6899\n",
      "Epoch 27/4000\n",
      "141349/141349 [==============================] - 48s 343us/sample - loss: 0.6902 - val_loss: 0.6898\n",
      "Epoch 28/4000\n",
      "141349/141349 [==============================] - 36s 252us/sample - loss: 0.6902 - val_loss: 0.6897\n",
      "Epoch 29/4000\n",
      "141349/141349 [==============================] - 45s 321us/sample - loss: 0.6902 - val_loss: 0.6898\n",
      "Epoch 30/4000\n",
      "141349/141349 [==============================] - 54s 379us/sample - loss: 0.6902 - val_loss: 0.6897\n",
      "Epoch 31/4000\n",
      "141349/141349 [==============================] - 51s 364us/sample - loss: 0.6902 - val_loss: 0.6898\n",
      "Epoch 32/4000\n",
      "141349/141349 [==============================] - 60s 422us/sample - loss: 0.6902 - val_loss: 0.6897\n",
      "Epoch 33/4000\n",
      "141349/141349 [==============================] - 47s 332us/sample - loss: 0.6902 - val_loss: 0.6897\n",
      "Epoch 34/4000\n",
      "141349/141349 [==============================] - 42s 294us/sample - loss: 0.6902 - val_loss: 0.6898\n",
      "Epoch 35/4000\n",
      "141349/141349 [==============================] - 43s 302us/sample - loss: 0.6902 - val_loss: 0.6897\n",
      "Epoch 36/4000\n",
      "141349/141349 [==============================] - 39s 276us/sample - loss: 0.6902 - val_loss: 0.6897\n",
      "Epoch 37/4000\n",
      "141349/141349 [==============================] - 35s 249us/sample - loss: 0.6902 - val_loss: 0.6897\n",
      "Epoch 38/4000\n",
      "141349/141349 [==============================] - 46s 328us/sample - loss: 0.6902 - val_loss: 0.6897\n",
      "Epoch 39/4000\n",
      "141349/141349 [==============================] - 50s 352us/sample - loss: 0.6902 - val_loss: 0.6897\n",
      "Epoch 40/4000\n",
      "141349/141349 [==============================] - 53s 376us/sample - loss: 0.6902 - val_loss: 0.6897\n",
      "Epoch 41/4000\n",
      "141349/141349 [==============================] - 44s 311us/sample - loss: 0.6902 - val_loss: 0.6897\n",
      "Epoch 42/4000\n",
      "141349/141349 [==============================] - 40s 284us/sample - loss: 0.6902 - val_loss: 0.6898\n",
      "Epoch 43/4000\n",
      "141349/141349 [==============================] - 37s 263us/sample - loss: 0.6902 - val_loss: 0.6897\n",
      "Epoch 44/4000\n",
      "141349/141349 [==============================] - 43s 307us/sample - loss: 0.6902 - val_loss: 0.6897\n",
      "Epoch 45/4000\n",
      "141320/141349 [============================>.] - ETA: 0s - loss: 0.6902WARNING:tensorflow:Early stopping conditioned on metric `val_loss` which is not available. Available metrics are: loss\n",
      "141349/141349 [==============================] - 41s 292us/sample - loss: 0.6902\n"
     ]
    },
    {
     "ename": "KeyboardInterrupt",
     "evalue": "",
     "output_type": "error",
     "traceback": [
      "\u001b[0;31m---------------------------------------------------------------------------\u001b[0m",
      "\u001b[0;31mKeyboardInterrupt\u001b[0m                         Traceback (most recent call last)",
      "\u001b[0;32m<ipython-input-10-ae5667573632>\u001b[0m in \u001b[0;36m<module>\u001b[0;34m\u001b[0m\n\u001b[1;32m      3\u001b[0m                     \u001b[0mbatch_size\u001b[0m\u001b[0;34m=\u001b[0m\u001b[0mbatch_size\u001b[0m\u001b[0;34m,\u001b[0m\u001b[0;34m\u001b[0m\u001b[0;34m\u001b[0m\u001b[0m\n\u001b[1;32m      4\u001b[0m                     \u001b[0mvalidation_data\u001b[0m\u001b[0;34m=\u001b[0m\u001b[0;34m(\u001b[0m\u001b[0mX_test\u001b[0m\u001b[0;34m,\u001b[0m \u001b[0my_test\u001b[0m\u001b[0;34m)\u001b[0m\u001b[0;34m,\u001b[0m\u001b[0;34m\u001b[0m\u001b[0;34m\u001b[0m\u001b[0m\n\u001b[0;32m----> 5\u001b[0;31m                     \u001b[0mcallbacks\u001b[0m\u001b[0;34m=\u001b[0m\u001b[0;34m[\u001b[0m\u001b[0mearly_stop\u001b[0m\u001b[0;34m]\u001b[0m\u001b[0;34m\u001b[0m\u001b[0;34m\u001b[0m\u001b[0m\n\u001b[0m\u001b[1;32m      6\u001b[0m                     )\n",
      "\u001b[0;32m~/opt/anaconda3/envs/tf2env/lib/python3.7/site-packages/tensorflow_core/python/keras/engine/training.py\u001b[0m in \u001b[0;36mfit\u001b[0;34m(self, x, y, batch_size, epochs, verbose, callbacks, validation_split, validation_data, shuffle, class_weight, sample_weight, initial_epoch, steps_per_epoch, validation_steps, validation_freq, max_queue_size, workers, use_multiprocessing, **kwargs)\u001b[0m\n\u001b[1;32m    726\u001b[0m         \u001b[0mmax_queue_size\u001b[0m\u001b[0;34m=\u001b[0m\u001b[0mmax_queue_size\u001b[0m\u001b[0;34m,\u001b[0m\u001b[0;34m\u001b[0m\u001b[0;34m\u001b[0m\u001b[0m\n\u001b[1;32m    727\u001b[0m         \u001b[0mworkers\u001b[0m\u001b[0;34m=\u001b[0m\u001b[0mworkers\u001b[0m\u001b[0;34m,\u001b[0m\u001b[0;34m\u001b[0m\u001b[0;34m\u001b[0m\u001b[0m\n\u001b[0;32m--> 728\u001b[0;31m         use_multiprocessing=use_multiprocessing)\n\u001b[0m\u001b[1;32m    729\u001b[0m \u001b[0;34m\u001b[0m\u001b[0m\n\u001b[1;32m    730\u001b[0m   def evaluate(self,\n",
      "\u001b[0;32m~/opt/anaconda3/envs/tf2env/lib/python3.7/site-packages/tensorflow_core/python/keras/engine/training_v2.py\u001b[0m in \u001b[0;36mfit\u001b[0;34m(self, model, x, y, batch_size, epochs, verbose, callbacks, validation_split, validation_data, shuffle, class_weight, sample_weight, initial_epoch, steps_per_epoch, validation_steps, validation_freq, **kwargs)\u001b[0m\n\u001b[1;32m    368\u001b[0m                       \u001b[0mmode\u001b[0m\u001b[0;34m=\u001b[0m\u001b[0mModeKeys\u001b[0m\u001b[0;34m.\u001b[0m\u001b[0mTEST\u001b[0m\u001b[0;34m,\u001b[0m\u001b[0;34m\u001b[0m\u001b[0;34m\u001b[0m\u001b[0m\n\u001b[1;32m    369\u001b[0m                       \u001b[0mtraining_context\u001b[0m\u001b[0;34m=\u001b[0m\u001b[0meval_context\u001b[0m\u001b[0;34m,\u001b[0m\u001b[0;34m\u001b[0m\u001b[0;34m\u001b[0m\u001b[0m\n\u001b[0;32m--> 370\u001b[0;31m                       total_epochs=1)\n\u001b[0m\u001b[1;32m    371\u001b[0m                   cbks.make_logs(model, epoch_logs, eval_result, ModeKeys.TEST,\n\u001b[1;32m    372\u001b[0m                                  prefix='val_')\n",
      "\u001b[0;32m~/opt/anaconda3/envs/tf2env/lib/python3.7/site-packages/tensorflow_core/python/keras/engine/training_v2.py\u001b[0m in \u001b[0;36mrun_one_epoch\u001b[0;34m(model, iterator, execution_function, dataset_size, batch_size, strategy, steps_per_epoch, num_samples, mode, training_context, total_epochs)\u001b[0m\n\u001b[1;32m    170\u001b[0m             \u001b[0mbatch_outs\u001b[0m\u001b[0;34m,\u001b[0m\u001b[0;34m\u001b[0m\u001b[0;34m\u001b[0m\u001b[0m\n\u001b[1;32m    171\u001b[0m             \u001b[0mbatch_start\u001b[0m\u001b[0;34m=\u001b[0m\u001b[0mstep\u001b[0m \u001b[0;34m*\u001b[0m \u001b[0mbatch_size\u001b[0m\u001b[0;34m,\u001b[0m\u001b[0;34m\u001b[0m\u001b[0;34m\u001b[0m\u001b[0m\n\u001b[0;32m--> 172\u001b[0;31m             batch_end=step * batch_size + current_batch_size)\n\u001b[0m\u001b[1;32m    173\u001b[0m       \u001b[0mcbks\u001b[0m\u001b[0;34m.\u001b[0m\u001b[0mmake_logs\u001b[0m\u001b[0;34m(\u001b[0m\u001b[0mmodel\u001b[0m\u001b[0;34m,\u001b[0m \u001b[0mbatch_logs\u001b[0m\u001b[0;34m,\u001b[0m \u001b[0mbatch_outs\u001b[0m\u001b[0;34m,\u001b[0m \u001b[0mmode\u001b[0m\u001b[0;34m)\u001b[0m\u001b[0;34m\u001b[0m\u001b[0;34m\u001b[0m\u001b[0m\n\u001b[1;32m    174\u001b[0m       \u001b[0mstep\u001b[0m \u001b[0;34m+=\u001b[0m \u001b[0;36m1\u001b[0m\u001b[0;34m\u001b[0m\u001b[0;34m\u001b[0m\u001b[0m\n",
      "\u001b[0;32m~/opt/anaconda3/envs/tf2env/lib/python3.7/site-packages/tensorflow_core/python/keras/engine/training_utils.py\u001b[0m in \u001b[0;36maggregate\u001b[0;34m(self, batch_outs, batch_start, batch_end)\u001b[0m\n\u001b[1;32m    132\u001b[0m       \u001b[0mself\u001b[0m\u001b[0;34m.\u001b[0m\u001b[0mresults\u001b[0m\u001b[0;34m[\u001b[0m\u001b[0;36m0\u001b[0m\u001b[0;34m]\u001b[0m \u001b[0;34m+=\u001b[0m \u001b[0mbatch_outs\u001b[0m\u001b[0;34m[\u001b[0m\u001b[0;36m0\u001b[0m\u001b[0;34m]\u001b[0m\u001b[0;34m\u001b[0m\u001b[0;34m\u001b[0m\u001b[0m\n\u001b[1;32m    133\u001b[0m     \u001b[0;32melse\u001b[0m\u001b[0;34m:\u001b[0m\u001b[0;34m\u001b[0m\u001b[0;34m\u001b[0m\u001b[0m\n\u001b[0;32m--> 134\u001b[0;31m       \u001b[0mself\u001b[0m\u001b[0;34m.\u001b[0m\u001b[0mresults\u001b[0m\u001b[0;34m[\u001b[0m\u001b[0;36m0\u001b[0m\u001b[0;34m]\u001b[0m \u001b[0;34m+=\u001b[0m \u001b[0mbatch_outs\u001b[0m\u001b[0;34m[\u001b[0m\u001b[0;36m0\u001b[0m\u001b[0;34m]\u001b[0m \u001b[0;34m*\u001b[0m \u001b[0;34m(\u001b[0m\u001b[0mbatch_end\u001b[0m \u001b[0;34m-\u001b[0m \u001b[0mbatch_start\u001b[0m\u001b[0;34m)\u001b[0m\u001b[0;34m\u001b[0m\u001b[0;34m\u001b[0m\u001b[0m\n\u001b[0m\u001b[1;32m    135\u001b[0m     \u001b[0;31m# Metrics (always stateful, just grab current values.)\u001b[0m\u001b[0;34m\u001b[0m\u001b[0;34m\u001b[0m\u001b[0;34m\u001b[0m\u001b[0m\n\u001b[1;32m    136\u001b[0m     \u001b[0mself\u001b[0m\u001b[0;34m.\u001b[0m\u001b[0mresults\u001b[0m\u001b[0;34m[\u001b[0m\u001b[0;36m1\u001b[0m\u001b[0;34m:\u001b[0m\u001b[0;34m]\u001b[0m \u001b[0;34m=\u001b[0m \u001b[0mbatch_outs\u001b[0m\u001b[0;34m[\u001b[0m\u001b[0;36m1\u001b[0m\u001b[0;34m:\u001b[0m\u001b[0;34m]\u001b[0m\u001b[0;34m\u001b[0m\u001b[0;34m\u001b[0m\u001b[0m\n",
      "\u001b[0;31mKeyboardInterrupt\u001b[0m: "
     ]
    }
   ],
   "source": [
    "results = model.fit(x=X_train, y=y_train,\n",
    "                    epochs=epochs,\n",
    "                    batch_size=batch_size,\n",
    "                    validation_data=(X_test, y_test),\n",
    "                    callbacks=[early_stop]\n",
    "                    )"
   ]
  },
  {
   "cell_type": "code",
   "execution_count": 143,
   "metadata": {},
   "outputs": [],
   "source": [
    "losses = model.history.history\n",
    "losses['loss'] = np.asarray(losses['loss'])\n",
    "losses['val_loss'] = np.asarray(losses['val_loss'])\n",
    "final_number_of_epochs = len(losses['loss'])\n",
    "min_loss = losses['loss'].min()\n",
    "mean_loss = losses['loss'].mean()\n",
    "final_loss = losses['loss'][-1]\n",
    "min_val_loss = losses['val_loss'].min()\n",
    "mean_val_loss = losses['val_loss'].mean()\n",
    "final_val_loss = losses['val_loss'][-1]\n",
    "\n",
    "\n",
    "def get_model_summary():\n",
    "    output = []\n",
    "    model.summary(print_fn=lambda line: output.append(line))\n",
    "    return str(output).strip('[]')\n",
    "\n",
    "\n",
    "summary = get_model_summary()\n",
    "\n",
    "record = {\n",
    "    'Epochs': final_number_of_epochs,\n",
    "    'Batch_Size': batch_size,\n",
    "    'Loss_Func': loss_param,\n",
    "    'Optimizer': optimizer_param,\n",
    "    'Early_Stop_Monitor': stop_monitor,\n",
    "    'Early_Stop_Patience': stop_patience,\n",
    "    'Min_Loss': min_loss,\n",
    "    'Mean_Loss': mean_loss,\n",
    "    'Final_Loss': final_loss,\n",
    "    'Min_Val_Loss': min_val_loss,\n",
    "    'Mean_Val_Loss': mean_val_loss,\n",
    "    'Final_Val_Loss': final_val_loss,\n",
    "    'Model': summary\n",
    "}"
   ]
  },
  {
   "cell_type": "code",
   "execution_count": 144,
   "metadata": {},
   "outputs": [],
   "source": [
    "new_data = pd.DataFrame(record, index=[0])\n",
    "if os.path.exists('../core/records/games_ann.csv'):\n",
    "    df_records = pd.read_csv('../core/records/games_ann.csv')\n",
    "    df_records = df_records.append(new_data)\n",
    "else:\n",
    "    df_records = pd.DataFrame(new_data)\n",
    "\n",
    "df_records.to_csv('../core/records/games_ann.csv',\n",
    "                  index=False, float_format='%g')\n",
    "\n",
    "model.save('../core/models/games_ann.h5')"
   ]
  },
  {
   "cell_type": "code",
   "execution_count": 145,
   "metadata": {},
   "outputs": [],
   "source": [
    "losses = pd.DataFrame(model.history.history)"
   ]
  },
  {
   "cell_type": "code",
   "execution_count": 146,
   "metadata": {},
   "outputs": [
    {
     "data": {
      "text/plain": [
       "<matplotlib.axes._subplots.AxesSubplot at 0x12dd5f550>"
      ]
     },
     "execution_count": 146,
     "metadata": {},
     "output_type": "execute_result"
    },
    {
     "data": {
      "image/png": "[encoded data removed]",
      "text/plain": [
       "<Figure size 432x288 with 1 Axes>"
      ]
     },
     "metadata": {
      "needs_background": "light"
     },
     "output_type": "display_data"
    }
   ],
   "source": [
    "losses.plot()"
   ]
  },
  {
   "cell_type": "code",
   "execution_count": null,
   "metadata": {},
   "outputs": [],
   "source": []
  },
  {
   "cell_type": "code",
   "execution_count": null,
   "metadata": {},
   "outputs": [],
   "source": []
  }
 ],
 "metadata": {
  "kernelspec": {
   "display_name": "Python 3.7.6 64-bit ('tf2env': conda)",
   "language": "python",
   "name": "python37664bittf2envconda7a5d2b04ce96452f92a2890aed430c66"
  },
  "language_info": {
   "codemirror_mode": {
    "name": "ipython",
    "version": 3
   },
   "file_extension": ".py",
   "mimetype": "text/x-python",
   "name": "python",
   "nbconvert_exporter": "python",
   "pygments_lexer": "ipython3",
   "version": "3.7.7"
  }
 },
 "nbformat": 4,
 "nbformat_minor": 4
}
