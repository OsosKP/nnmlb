{
 "cells": [
  {
   "cell_type": "code",
   "execution_count": 1,
   "metadata": {},
   "outputs": [],
   "source": [
    "import os\n",
    "import pandas as pd\n",
    "import numpy as np"
   ]
  },
  {
   "cell_type": "markdown",
   "metadata": {},
   "source": [
    "<p>Test on a single year to ensure the method works.</p>"
   ]
  },
  {
   "cell_type": "code",
   "execution_count": 2,
   "metadata": {},
   "outputs": [],
   "source": [
    "df = pd.read_csv('../core/tensors/games/2015.csv', header=None)"
   ]
  },
  {
   "cell_type": "code",
   "execution_count": 3,
   "metadata": {},
   "outputs": [
    {
     "data": {
      "text/html": [
       "<div>\n",
       "<style scoped>\n",
       "    .dataframe tbody tr th:only-of-type {\n",
       "        vertical-align: middle;\n",
       "    }\n",
       "\n",
       "    .dataframe tbody tr th {\n",
       "        vertical-align: top;\n",
       "    }\n",
       "\n",
       "    .dataframe thead th {\n",
       "        text-align: right;\n",
       "    }\n",
       "</style>\n",
       "<table border=\"1\" class=\"dataframe\">\n",
       "  <thead>\n",
       "    <tr style=\"text-align: right;\">\n",
       "      <th></th>\n",
       "      <th>0</th>\n",
       "      <th>1</th>\n",
       "      <th>2</th>\n",
       "      <th>3</th>\n",
       "      <th>4</th>\n",
       "      <th>5</th>\n",
       "      <th>6</th>\n",
       "      <th>7</th>\n",
       "      <th>8</th>\n",
       "      <th>9</th>\n",
       "      <th>...</th>\n",
       "      <th>531</th>\n",
       "      <th>532</th>\n",
       "      <th>533</th>\n",
       "      <th>534</th>\n",
       "      <th>535</th>\n",
       "      <th>536</th>\n",
       "      <th>537</th>\n",
       "      <th>538</th>\n",
       "      <th>539</th>\n",
       "      <th>540</th>\n",
       "    </tr>\n",
       "  </thead>\n",
       "  <tbody>\n",
       "    <tr>\n",
       "      <th>0</th>\n",
       "      <td>0.446721</td>\n",
       "      <td>0.40</td>\n",
       "      <td>0.0</td>\n",
       "      <td>0.0</td>\n",
       "      <td>0.0</td>\n",
       "      <td>0.0</td>\n",
       "      <td>1.0</td>\n",
       "      <td>0.0</td>\n",
       "      <td>0.0</td>\n",
       "      <td>0.0</td>\n",
       "      <td>...</td>\n",
       "      <td>0.136311</td>\n",
       "      <td>0.008721</td>\n",
       "      <td>0.140351</td>\n",
       "      <td>0.089219</td>\n",
       "      <td>0.101562</td>\n",
       "      <td>0.164557</td>\n",
       "      <td>1.0</td>\n",
       "      <td>0.164568</td>\n",
       "      <td>0.116185</td>\n",
       "      <td>1.0</td>\n",
       "    </tr>\n",
       "    <tr>\n",
       "      <th>1</th>\n",
       "      <td>0.467213</td>\n",
       "      <td>0.40</td>\n",
       "      <td>0.0</td>\n",
       "      <td>0.0</td>\n",
       "      <td>0.0</td>\n",
       "      <td>0.0</td>\n",
       "      <td>1.0</td>\n",
       "      <td>0.0</td>\n",
       "      <td>0.0</td>\n",
       "      <td>1.0</td>\n",
       "      <td>...</td>\n",
       "      <td>0.212168</td>\n",
       "      <td>0.007267</td>\n",
       "      <td>0.098246</td>\n",
       "      <td>0.070632</td>\n",
       "      <td>0.085938</td>\n",
       "      <td>0.065823</td>\n",
       "      <td>1.0</td>\n",
       "      <td>0.160971</td>\n",
       "      <td>0.084971</td>\n",
       "      <td>1.0</td>\n",
       "    </tr>\n",
       "    <tr>\n",
       "      <th>2</th>\n",
       "      <td>0.409836</td>\n",
       "      <td>0.30</td>\n",
       "      <td>0.0</td>\n",
       "      <td>0.0</td>\n",
       "      <td>0.0</td>\n",
       "      <td>0.0</td>\n",
       "      <td>1.0</td>\n",
       "      <td>0.0</td>\n",
       "      <td>0.0</td>\n",
       "      <td>1.0</td>\n",
       "      <td>...</td>\n",
       "      <td>0.298806</td>\n",
       "      <td>0.015988</td>\n",
       "      <td>0.049123</td>\n",
       "      <td>0.237918</td>\n",
       "      <td>0.414062</td>\n",
       "      <td>0.225316</td>\n",
       "      <td>1.0</td>\n",
       "      <td>0.167266</td>\n",
       "      <td>0.124277</td>\n",
       "      <td>1.0</td>\n",
       "    </tr>\n",
       "    <tr>\n",
       "      <th>3</th>\n",
       "      <td>0.487705</td>\n",
       "      <td>0.45</td>\n",
       "      <td>0.0</td>\n",
       "      <td>0.0</td>\n",
       "      <td>0.0</td>\n",
       "      <td>0.0</td>\n",
       "      <td>0.0</td>\n",
       "      <td>0.0</td>\n",
       "      <td>1.0</td>\n",
       "      <td>0.0</td>\n",
       "      <td>...</td>\n",
       "      <td>0.185214</td>\n",
       "      <td>0.021802</td>\n",
       "      <td>0.129825</td>\n",
       "      <td>0.052045</td>\n",
       "      <td>0.250000</td>\n",
       "      <td>0.096203</td>\n",
       "      <td>1.0</td>\n",
       "      <td>0.178058</td>\n",
       "      <td>0.150867</td>\n",
       "      <td>0.0</td>\n",
       "    </tr>\n",
       "    <tr>\n",
       "      <th>4</th>\n",
       "      <td>0.508197</td>\n",
       "      <td>0.55</td>\n",
       "      <td>0.0</td>\n",
       "      <td>0.0</td>\n",
       "      <td>0.0</td>\n",
       "      <td>0.0</td>\n",
       "      <td>1.0</td>\n",
       "      <td>0.0</td>\n",
       "      <td>0.0</td>\n",
       "      <td>1.0</td>\n",
       "      <td>...</td>\n",
       "      <td>0.112437</td>\n",
       "      <td>0.011628</td>\n",
       "      <td>0.056140</td>\n",
       "      <td>0.070632</td>\n",
       "      <td>0.085938</td>\n",
       "      <td>0.091139</td>\n",
       "      <td>1.0</td>\n",
       "      <td>0.163669</td>\n",
       "      <td>0.076879</td>\n",
       "      <td>1.0</td>\n",
       "    </tr>\n",
       "    <tr>\n",
       "      <th>...</th>\n",
       "      <td>...</td>\n",
       "      <td>...</td>\n",
       "      <td>...</td>\n",
       "      <td>...</td>\n",
       "      <td>...</td>\n",
       "      <td>...</td>\n",
       "      <td>...</td>\n",
       "      <td>...</td>\n",
       "      <td>...</td>\n",
       "      <td>...</td>\n",
       "      <td>...</td>\n",
       "      <td>...</td>\n",
       "      <td>...</td>\n",
       "      <td>...</td>\n",
       "      <td>...</td>\n",
       "      <td>...</td>\n",
       "      <td>...</td>\n",
       "      <td>...</td>\n",
       "      <td>...</td>\n",
       "      <td>...</td>\n",
       "      <td>...</td>\n",
       "    </tr>\n",
       "    <tr>\n",
       "      <th>2423</th>\n",
       "      <td>0.500000</td>\n",
       "      <td>0.50</td>\n",
       "      <td>0.0</td>\n",
       "      <td>0.0</td>\n",
       "      <td>0.0</td>\n",
       "      <td>0.0</td>\n",
       "      <td>1.0</td>\n",
       "      <td>0.0</td>\n",
       "      <td>0.0</td>\n",
       "      <td>0.0</td>\n",
       "      <td>...</td>\n",
       "      <td>0.001155</td>\n",
       "      <td>0.000000</td>\n",
       "      <td>0.000000</td>\n",
       "      <td>0.007435</td>\n",
       "      <td>0.000000</td>\n",
       "      <td>0.000000</td>\n",
       "      <td>1.0</td>\n",
       "      <td>0.103417</td>\n",
       "      <td>0.049711</td>\n",
       "      <td>0.0</td>\n",
       "    </tr>\n",
       "    <tr>\n",
       "      <th>2424</th>\n",
       "      <td>0.508197</td>\n",
       "      <td>0.50</td>\n",
       "      <td>0.0</td>\n",
       "      <td>0.0</td>\n",
       "      <td>1.0</td>\n",
       "      <td>0.0</td>\n",
       "      <td>0.0</td>\n",
       "      <td>0.0</td>\n",
       "      <td>0.0</td>\n",
       "      <td>0.0</td>\n",
       "      <td>...</td>\n",
       "      <td>0.041201</td>\n",
       "      <td>0.000000</td>\n",
       "      <td>0.000000</td>\n",
       "      <td>0.085502</td>\n",
       "      <td>0.000000</td>\n",
       "      <td>0.020253</td>\n",
       "      <td>1.0</td>\n",
       "      <td>0.114209</td>\n",
       "      <td>0.062428</td>\n",
       "      <td>1.0</td>\n",
       "    </tr>\n",
       "    <tr>\n",
       "      <th>2425</th>\n",
       "      <td>0.385246</td>\n",
       "      <td>0.40</td>\n",
       "      <td>0.0</td>\n",
       "      <td>1.0</td>\n",
       "      <td>0.0</td>\n",
       "      <td>0.0</td>\n",
       "      <td>0.0</td>\n",
       "      <td>0.0</td>\n",
       "      <td>0.0</td>\n",
       "      <td>1.0</td>\n",
       "      <td>...</td>\n",
       "      <td>0.006931</td>\n",
       "      <td>0.000000</td>\n",
       "      <td>0.000000</td>\n",
       "      <td>0.022305</td>\n",
       "      <td>0.000000</td>\n",
       "      <td>0.000000</td>\n",
       "      <td>1.0</td>\n",
       "      <td>0.107014</td>\n",
       "      <td>0.051445</td>\n",
       "      <td>1.0</td>\n",
       "    </tr>\n",
       "    <tr>\n",
       "      <th>2426</th>\n",
       "      <td>0.487705</td>\n",
       "      <td>0.30</td>\n",
       "      <td>0.0</td>\n",
       "      <td>0.0</td>\n",
       "      <td>0.0</td>\n",
       "      <td>0.0</td>\n",
       "      <td>1.0</td>\n",
       "      <td>0.0</td>\n",
       "      <td>0.0</td>\n",
       "      <td>0.0</td>\n",
       "      <td>...</td>\n",
       "      <td>0.033115</td>\n",
       "      <td>0.000000</td>\n",
       "      <td>0.000000</td>\n",
       "      <td>0.115242</td>\n",
       "      <td>0.000000</td>\n",
       "      <td>0.002532</td>\n",
       "      <td>1.0</td>\n",
       "      <td>0.064748</td>\n",
       "      <td>0.046243</td>\n",
       "      <td>1.0</td>\n",
       "    </tr>\n",
       "    <tr>\n",
       "      <th>2427</th>\n",
       "      <td>0.590164</td>\n",
       "      <td>0.60</td>\n",
       "      <td>0.0</td>\n",
       "      <td>0.0</td>\n",
       "      <td>0.0</td>\n",
       "      <td>0.0</td>\n",
       "      <td>1.0</td>\n",
       "      <td>0.0</td>\n",
       "      <td>0.0</td>\n",
       "      <td>1.0</td>\n",
       "      <td>...</td>\n",
       "      <td>0.118598</td>\n",
       "      <td>0.000000</td>\n",
       "      <td>0.003509</td>\n",
       "      <td>0.271375</td>\n",
       "      <td>0.015625</td>\n",
       "      <td>0.002532</td>\n",
       "      <td>1.0</td>\n",
       "      <td>0.075540</td>\n",
       "      <td>0.047399</td>\n",
       "      <td>0.0</td>\n",
       "    </tr>\n",
       "  </tbody>\n",
       "</table>\n",
       "<p>2428 rows × 541 columns</p>\n",
       "</div>"
      ],
      "text/plain": [
       "           0     1    2    3    4    5    6    7    8    9    ...       531  \\\n",
       "0     0.446721  0.40  0.0  0.0  0.0  0.0  1.0  0.0  0.0  0.0  ...  0.136311   \n",
       "1     0.467213  0.40  0.0  0.0  0.0  0.0  1.0  0.0  0.0  1.0  ...  0.212168   \n",
       "2     0.409836  0.30  0.0  0.0  0.0  0.0  1.0  0.0  0.0  1.0  ...  0.298806   \n",
       "3     0.487705  0.45  0.0  0.0  0.0  0.0  0.0  0.0  1.0  0.0  ...  0.185214   \n",
       "4     0.508197  0.55  0.0  0.0  0.0  0.0  1.0  0.0  0.0  1.0  ...  0.112437   \n",
       "...        ...   ...  ...  ...  ...  ...  ...  ...  ...  ...  ...       ...   \n",
       "2423  0.500000  0.50  0.0  0.0  0.0  0.0  1.0  0.0  0.0  0.0  ...  0.001155   \n",
       "2424  0.508197  0.50  0.0  0.0  1.0  0.0  0.0  0.0  0.0  0.0  ...  0.041201   \n",
       "2425  0.385246  0.40  0.0  1.0  0.0  0.0  0.0  0.0  0.0  1.0  ...  0.006931   \n",
       "2426  0.487705  0.30  0.0  0.0  0.0  0.0  1.0  0.0  0.0  0.0  ...  0.033115   \n",
       "2427  0.590164  0.60  0.0  0.0  0.0  0.0  1.0  0.0  0.0  1.0  ...  0.118598   \n",
       "\n",
       "           532       533       534       535       536  537       538  \\\n",
       "0     0.008721  0.140351  0.089219  0.101562  0.164557  1.0  0.164568   \n",
       "1     0.007267  0.098246  0.070632  0.085938  0.065823  1.0  0.160971   \n",
       "2     0.015988  0.049123  0.237918  0.414062  0.225316  1.0  0.167266   \n",
       "3     0.021802  0.129825  0.052045  0.250000  0.096203  1.0  0.178058   \n",
       "4     0.011628  0.056140  0.070632  0.085938  0.091139  1.0  0.163669   \n",
       "...        ...       ...       ...       ...       ...  ...       ...   \n",
       "2423  0.000000  0.000000  0.007435  0.000000  0.000000  1.0  0.103417   \n",
       "2424  0.000000  0.000000  0.085502  0.000000  0.020253  1.0  0.114209   \n",
       "2425  0.000000  0.000000  0.022305  0.000000  0.000000  1.0  0.107014   \n",
       "2426  0.000000  0.000000  0.115242  0.000000  0.002532  1.0  0.064748   \n",
       "2427  0.000000  0.003509  0.271375  0.015625  0.002532  1.0  0.075540   \n",
       "\n",
       "           539  540  \n",
       "0     0.116185  1.0  \n",
       "1     0.084971  1.0  \n",
       "2     0.124277  1.0  \n",
       "3     0.150867  0.0  \n",
       "4     0.076879  1.0  \n",
       "...        ...  ...  \n",
       "2423  0.049711  0.0  \n",
       "2424  0.062428  1.0  \n",
       "2425  0.051445  1.0  \n",
       "2426  0.046243  1.0  \n",
       "2427  0.047399  0.0  \n",
       "\n",
       "[2428 rows x 541 columns]"
      ]
     },
     "execution_count": 3,
     "metadata": {},
     "output_type": "execute_result"
    }
   ],
   "source": [
    "df"
   ]
  },
  {
   "cell_type": "code",
   "execution_count": 4,
   "metadata": {},
   "outputs": [],
   "source": [
    "game0 = list(df.iloc[0])"
   ]
  },
  {
   "cell_type": "code",
   "execution_count": 5,
   "metadata": {},
   "outputs": [
    {
     "data": {
      "text/plain": [
       "541"
      ]
     },
     "execution_count": 5,
     "metadata": {},
     "output_type": "execute_result"
    }
   ],
   "source": [
    "len(game0)"
   ]
  },
  {
   "cell_type": "code",
   "execution_count": 6,
   "metadata": {},
   "outputs": [],
   "source": [
    "y0 = int(game0[-1])"
   ]
  },
  {
   "cell_type": "code",
   "execution_count": 7,
   "metadata": {},
   "outputs": [
    {
     "data": {
      "text/plain": [
       "1"
      ]
     },
     "execution_count": 7,
     "metadata": {},
     "output_type": "execute_result"
    }
   ],
   "source": [
    "y0"
   ]
  },
  {
   "cell_type": "code",
   "execution_count": 8,
   "metadata": {},
   "outputs": [
    {
     "data": {
      "text/plain": [
       "list"
      ]
     },
     "execution_count": 8,
     "metadata": {},
     "output_type": "execute_result"
    }
   ],
   "source": [
    "type(game0)"
   ]
  },
  {
   "cell_type": "code",
   "execution_count": 9,
   "metadata": {},
   "outputs": [],
   "source": [
    "game0 = game0[:-1]"
   ]
  },
  {
   "cell_type": "code",
   "execution_count": 10,
   "metadata": {},
   "outputs": [],
   "source": [
    "game0 = np.reshape(game0, (18, 30, 1))"
   ]
  },
  {
   "cell_type": "code",
   "execution_count": 11,
   "metadata": {},
   "outputs": [
    {
     "data": {
      "text/plain": [
       "(18, 30, 1)"
      ]
     },
     "execution_count": 11,
     "metadata": {},
     "output_type": "execute_result"
    }
   ],
   "source": [
    "game0.shape"
   ]
  },
  {
   "cell_type": "code",
   "execution_count": 12,
   "metadata": {},
   "outputs": [],
   "source": [
    "game1 = list(df.iloc[1])"
   ]
  },
  {
   "cell_type": "code",
   "execution_count": 13,
   "metadata": {},
   "outputs": [],
   "source": [
    "y1 = int(game1[-1])"
   ]
  },
  {
   "cell_type": "code",
   "execution_count": 14,
   "metadata": {},
   "outputs": [],
   "source": [
    "game1 = game1[:-1]"
   ]
  },
  {
   "cell_type": "code",
   "execution_count": 15,
   "metadata": {},
   "outputs": [],
   "source": [
    "game1 = np.reshape(game1, (18, 30, 1))"
   ]
  },
  {
   "cell_type": "code",
   "execution_count": 16,
   "metadata": {},
   "outputs": [],
   "source": [
    "games = [game0, game1]"
   ]
  },
  {
   "cell_type": "code",
   "execution_count": 17,
   "metadata": {},
   "outputs": [],
   "source": [
    "rows = len(games)\n",
    "cols = len(games[0])\n",
    "fors = len(games[0][0])\n",
    "last = len(games[0][0][0])"
   ]
  },
  {
   "cell_type": "code",
   "execution_count": 18,
   "metadata": {},
   "outputs": [
    {
     "data": {
      "text/plain": [
       "(2, 18, 30, 1)"
      ]
     },
     "execution_count": 18,
     "metadata": {},
     "output_type": "execute_result"
    }
   ],
   "source": [
    "(rows, cols, fors, last)"
   ]
  },
  {
   "cell_type": "code",
   "execution_count": 19,
   "metadata": {},
   "outputs": [],
   "source": [
    "game2 = list(df.iloc[2])\n",
    "y2 = int(game2[-1])\n",
    "game2 = game2[:-1]\n",
    "game2 = np.reshape(game2, (18, 30))"
   ]
  },
  {
   "cell_type": "code",
   "execution_count": 20,
   "metadata": {},
   "outputs": [],
   "source": [
    "games.append(game2)"
   ]
  },
  {
   "cell_type": "code",
   "execution_count": 21,
   "metadata": {},
   "outputs": [
    {
     "data": {
      "text/plain": [
       "(3, 18, 30)"
      ]
     },
     "execution_count": 21,
     "metadata": {},
     "output_type": "execute_result"
    }
   ],
   "source": [
    "rows = len(games)\n",
    "cols = len(games[0])\n",
    "fors = len(games[0][0])\n",
    "(rows, cols, fors)"
   ]
  },
  {
   "cell_type": "markdown",
   "metadata": {},
   "source": [
    "<p>We've shown that this is an effective method of getting games as 3D tables from the .csv files, as well as combining them into a list of tables. We can scale this to get a list of every game, and this will be our CNN input.</p>"
   ]
  },
  {
   "cell_type": "code",
   "execution_count": 22,
   "metadata": {},
   "outputs": [
    {
     "data": {
      "text/plain": [
       "(2428, 541)"
      ]
     },
     "execution_count": 22,
     "metadata": {},
     "output_type": "execute_result"
    }
   ],
   "source": [
    "df.shape"
   ]
  },
  {
   "cell_type": "code",
   "execution_count": 23,
   "metadata": {},
   "outputs": [],
   "source": [
    "X = []\n",
    "y = []\n",
    "for index in range(0, df.shape[0]):\n",
    "    game = list(df.iloc[index])\n",
    "    y_sample = int(game[-1])\n",
    "    game = game[:-1]\n",
    "    game = np.reshape(game, ([18, 30, 1]))\n",
    "    X.append(game)\n",
    "    y.append(y_sample)\n",
    "X = np.array(X)\n",
    "y = np.array(y)"
   ]
  },
  {
   "cell_type": "code",
   "execution_count": 24,
   "metadata": {},
   "outputs": [],
   "source": [
    "y = y[..., np.newaxis]"
   ]
  },
  {
   "cell_type": "code",
   "execution_count": 25,
   "metadata": {},
   "outputs": [
    {
     "data": {
      "text/plain": [
       "(2428, 18, 30, 1)"
      ]
     },
     "execution_count": 25,
     "metadata": {},
     "output_type": "execute_result"
    }
   ],
   "source": [
    "X.shape"
   ]
  },
  {
   "cell_type": "code",
   "execution_count": 26,
   "metadata": {},
   "outputs": [
    {
     "data": {
      "text/plain": [
       "(2428, 1)"
      ]
     },
     "execution_count": 26,
     "metadata": {},
     "output_type": "execute_result"
    }
   ],
   "source": [
    "y.shape"
   ]
  },
  {
   "cell_type": "code",
   "execution_count": 27,
   "metadata": {},
   "outputs": [
    {
     "data": {
      "text/plain": [
       "(3, 18, 30, 1)"
      ]
     },
     "execution_count": 27,
     "metadata": {},
     "output_type": "execute_result"
    }
   ],
   "source": [
    "rows = len(games)\n",
    "cols = len(games[0])\n",
    "fors = len(games[0][0])\n",
    "last = len(games[0][0][0])\n",
    "(rows, cols, fors, last)"
   ]
  },
  {
   "cell_type": "code",
   "execution_count": 28,
   "metadata": {},
   "outputs": [
    {
     "data": {
      "text/plain": [
       "2428"
      ]
     },
     "execution_count": 28,
     "metadata": {},
     "output_type": "execute_result"
    }
   ],
   "source": [
    "len(y)"
   ]
  },
  {
   "cell_type": "code",
   "execution_count": 29,
   "metadata": {},
   "outputs": [],
   "source": [
    "input_shape = (18, 30, 1)"
   ]
  },
  {
   "cell_type": "markdown",
   "metadata": {},
   "source": [
    "<p>Now we can extrapolate this to pull all games from all years into one list. This will be the last step before running our predictive model.</p>"
   ]
  },
  {
   "cell_type": "code",
   "execution_count": 30,
   "metadata": {},
   "outputs": [],
   "source": [
    "X = []\n",
    "y = []\n",
    "for year in range(1919, 2020):\n",
    "    df = pd.read_csv('../core/tensors/games/{}.csv'.format(year), header=None)\n",
    "    for index in range(0, df.shape[0]):\n",
    "        game = list(df.iloc[index])\n",
    "        y_sample = int(game[-1])\n",
    "        game = game[:-1]\n",
    "        game = np.reshape(game, ([18, 30, 1]))\n",
    "        X.append(game)\n",
    "        y.append(y_sample)"
   ]
  },
  {
   "cell_type": "code",
   "execution_count": 31,
   "metadata": {},
   "outputs": [],
   "source": [
    "X = np.array(X)\n",
    "y = np.array(y)"
   ]
  },
  {
   "cell_type": "code",
   "execution_count": 32,
   "metadata": {},
   "outputs": [],
   "source": [
    "y = y[..., np.newaxis]"
   ]
  },
  {
   "cell_type": "code",
   "execution_count": 33,
   "metadata": {},
   "outputs": [
    {
     "data": {
      "text/plain": [
       "(176687, 18, 30, 1)"
      ]
     },
     "execution_count": 33,
     "metadata": {},
     "output_type": "execute_result"
    }
   ],
   "source": [
    "rows = len(X)\n",
    "cols = len(X[0])\n",
    "fors = len(X[0][0])\n",
    "last = len(X[0][0][0])\n",
    "(rows, cols, fors, last)"
   ]
  },
  {
   "cell_type": "code",
   "execution_count": 34,
   "metadata": {},
   "outputs": [
    {
     "data": {
      "text/plain": [
       "176687"
      ]
     },
     "execution_count": 34,
     "metadata": {},
     "output_type": "execute_result"
    }
   ],
   "source": [
    "len(y)"
   ]
  },
  {
   "cell_type": "code",
   "execution_count": 35,
   "metadata": {},
   "outputs": [],
   "source": [
    "from sklearn.model_selection import train_test_split"
   ]
  },
  {
   "cell_type": "code",
   "execution_count": 36,
   "metadata": {},
   "outputs": [],
   "source": [
    "X_train, X_test, y_train, y_test = train_test_split(X, y, test_size=0.2, random_state=42)"
   ]
  },
  {
   "cell_type": "code",
   "execution_count": 37,
   "metadata": {},
   "outputs": [
    {
     "data": {
      "text/plain": [
       "141349"
      ]
     },
     "execution_count": 37,
     "metadata": {},
     "output_type": "execute_result"
    }
   ],
   "source": [
    "len(X_train)"
   ]
  },
  {
   "cell_type": "code",
   "execution_count": 38,
   "metadata": {},
   "outputs": [
    {
     "data": {
      "text/plain": [
       "(141349, 18, 30, 1)"
      ]
     },
     "execution_count": 38,
     "metadata": {},
     "output_type": "execute_result"
    }
   ],
   "source": [
    "X_train.shape"
   ]
  },
  {
   "cell_type": "code",
   "execution_count": 39,
   "metadata": {},
   "outputs": [
    {
     "data": {
      "text/plain": [
       "35338"
      ]
     },
     "execution_count": 39,
     "metadata": {},
     "output_type": "execute_result"
    }
   ],
   "source": [
    "len(X_test)"
   ]
  },
  {
   "cell_type": "code",
   "execution_count": 40,
   "metadata": {},
   "outputs": [
    {
     "data": {
      "text/plain": [
       "141349"
      ]
     },
     "execution_count": 40,
     "metadata": {},
     "output_type": "execute_result"
    }
   ],
   "source": [
    "len(y_train)"
   ]
  },
  {
   "cell_type": "code",
   "execution_count": 41,
   "metadata": {},
   "outputs": [
    {
     "data": {
      "text/plain": [
       "(141349, 1)"
      ]
     },
     "execution_count": 41,
     "metadata": {},
     "output_type": "execute_result"
    }
   ],
   "source": [
    "y_train.shape"
   ]
  },
  {
   "cell_type": "code",
   "execution_count": 42,
   "metadata": {},
   "outputs": [
    {
     "data": {
      "text/plain": [
       "35338"
      ]
     },
     "execution_count": 42,
     "metadata": {},
     "output_type": "execute_result"
    }
   ],
   "source": [
    "len(y_test)"
   ]
  },
  {
   "cell_type": "code",
   "execution_count": 43,
   "metadata": {},
   "outputs": [
    {
     "data": {
      "text/plain": [
       "array([[0],\n",
       "       [0],\n",
       "       [0],\n",
       "       ...,\n",
       "       [0],\n",
       "       [1],\n",
       "       [1]])"
      ]
     },
     "execution_count": 43,
     "metadata": {},
     "output_type": "execute_result"
    }
   ],
   "source": [
    "y_train"
   ]
  },
  {
   "cell_type": "markdown",
   "metadata": {},
   "source": [
    "<h1>Building the CNN</h1>"
   ]
  },
  {
   "cell_type": "code",
   "execution_count": 44,
   "metadata": {},
   "outputs": [],
   "source": [
    "from tensorflow.keras.models import Sequential\n",
    "from tensorflow.keras.layers import Dense, Conv2D, MaxPool2D, Dropout, Flatten"
   ]
  },
  {
   "cell_type": "code",
   "execution_count": 45,
   "metadata": {},
   "outputs": [],
   "source": [
    "image_shape=(18, 30, 1)"
   ]
  },
  {
   "cell_type": "code",
   "execution_count": 46,
   "metadata": {},
   "outputs": [],
   "source": [
    "epochs = 4000\n",
    "batch_size = 16\n",
    "loss_param = 'binary_crossentropy'\n",
    "optimizer_param = 'adam'\n",
    "stop_monitor = 'val_loss'\n",
    "metric = 'accuracy'\n",
    "stop_patience = 20"
   ]
  },
  {
   "cell_type": "code",
   "execution_count": 47,
   "metadata": {},
   "outputs": [],
   "source": [
    "model = Sequential()\n",
    "\n",
    "model.add(Conv2D(filters=32, kernel_size=(1, 1),\n",
    "                 input_shape=image_shape, activation='tanh'))\n",
    "model.add(MaxPool2D(pool_size=(1, 1)))\n",
    "\n",
    "model.add(Conv2D(filters=32, kernel_size=(3, 3),\n",
    "                 input_shape=image_shape, activation='tanh'))\n",
    "model.add(MaxPool2D(pool_size=(3, 3)))\n",
    "model.add(Dropout(0.5))\n",
    "\n",
    "model.add(Conv2D(filters=64, kernel_size=(3, 3),\n",
    "                 activation='relu', padding=\"same\"))\n",
    "model.add(MaxPool2D(pool_size=(2, 2)))\n",
    "\n",
    "model.add(Conv2D(filters=128, kernel_size=(3, 3),\n",
    "                 activation='relu', padding=\"same\"))\n",
    "model.add(MaxPool2D(pool_size=(2, 2)))\n",
    "model.add(Dropout(0.5))\n",
    "\n",
    "model.add(Flatten())\n",
    "\n",
    "model.add(Dense(256, activation='relu'))\n",
    "model.add(Dropout(0.5))\n",
    "\n",
    "model.add(Dense(1, activation='sigmoid'))\n",
    "\n",
    "model.compile(loss=loss_param, optimizer=optimizer_param,\n",
    "             metrics=[metric])"
   ]
  },
  {
   "cell_type": "code",
   "execution_count": 48,
   "metadata": {},
   "outputs": [
    {
     "name": "stdout",
     "output_type": "stream",
     "text": [
      "Model: \"sequential\"\n",
      "_________________________________________________________________\n",
      "Layer (type)                 Output Shape              Param #   \n",
      "=================================================================\n",
      "conv2d (Conv2D)              (None, 18, 30, 32)        64        \n",
      "_________________________________________________________________\n",
      "max_pooling2d (MaxPooling2D) (None, 18, 30, 32)        0         \n",
      "_________________________________________________________________\n",
      "conv2d_1 (Conv2D)            (None, 16, 28, 32)        9248      \n",
      "_________________________________________________________________\n",
      "max_pooling2d_1 (MaxPooling2 (None, 5, 9, 32)          0         \n",
      "_________________________________________________________________\n",
      "dropout (Dropout)            (None, 5, 9, 32)          0         \n",
      "_________________________________________________________________\n",
      "conv2d_2 (Conv2D)            (None, 5, 9, 64)          18496     \n",
      "_________________________________________________________________\n",
      "max_pooling2d_2 (MaxPooling2 (None, 2, 4, 64)          0         \n",
      "_________________________________________________________________\n",
      "conv2d_3 (Conv2D)            (None, 2, 4, 128)         73856     \n",
      "_________________________________________________________________\n",
      "max_pooling2d_3 (MaxPooling2 (None, 1, 2, 128)         0         \n",
      "_________________________________________________________________\n",
      "dropout_1 (Dropout)          (None, 1, 2, 128)         0         \n",
      "_________________________________________________________________\n",
      "flatten (Flatten)            (None, 256)               0         \n",
      "_________________________________________________________________\n",
      "dense (Dense)                (None, 256)               65792     \n",
      "_________________________________________________________________\n",
      "dropout_2 (Dropout)          (None, 256)               0         \n",
      "_________________________________________________________________\n",
      "dense_1 (Dense)              (None, 1)                 257       \n",
      "=================================================================\n",
      "Total params: 167,713\n",
      "Trainable params: 167,713\n",
      "Non-trainable params: 0\n",
      "_________________________________________________________________\n"
     ]
    }
   ],
   "source": [
    "model.summary()"
   ]
  },
  {
   "cell_type": "code",
   "execution_count": 49,
   "metadata": {},
   "outputs": [],
   "source": [
    "from tensorflow.keras.callbacks import EarlyStopping"
   ]
  },
  {
   "cell_type": "code",
   "execution_count": 50,
   "metadata": {},
   "outputs": [],
   "source": [
    "early_stop = EarlyStopping(monitor=stop_monitor, patience=stop_patience)"
   ]
  },
  {
   "cell_type": "code",
   "execution_count": 51,
   "metadata": {},
   "outputs": [
    {
     "name": "stdout",
     "output_type": "stream",
     "text": [
      "Train on 141349 samples, validate on 35338 samples\n",
      "Epoch 1/4000\n",
      "141349/141349 [==============================] - 189s 1ms/sample - loss: 0.6857 - accuracy: 0.5518 - val_loss: 0.6808 - val_accuracy: 0.5633\n",
      "Epoch 2/4000\n",
      "141349/141349 [==============================] - 200s 1ms/sample - loss: 0.6839 - accuracy: 0.5568 - val_loss: 0.6831 - val_accuracy: 0.5560\n",
      "Epoch 3/4000\n",
      "141349/141349 [==============================] - 195s 1ms/sample - loss: 0.6835 - accuracy: 0.5562 - val_loss: 0.6825 - val_accuracy: 0.5595\n",
      "Epoch 4/4000\n",
      "141349/141349 [==============================] - 179s 1ms/sample - loss: 0.6836 - accuracy: 0.5566 - val_loss: 0.6811 - val_accuracy: 0.5591\n",
      "Epoch 5/4000\n",
      "141349/141349 [==============================] - 177s 1ms/sample - loss: 0.6834 - accuracy: 0.5576 - val_loss: 0.6816 - val_accuracy: 0.5570\n",
      "Epoch 6/4000\n",
      "141349/141349 [==============================] - 183s 1ms/sample - loss: 0.6835 - accuracy: 0.5579 - val_loss: 0.6823 - val_accuracy: 0.5572\n",
      "Epoch 7/4000\n",
      "141349/141349 [==============================] - 180s 1ms/sample - loss: 0.6832 - accuracy: 0.5580 - val_loss: 0.6825 - val_accuracy: 0.5627\n",
      "Epoch 8/4000\n",
      "141349/141349 [==============================] - 184s 1ms/sample - loss: 0.6831 - accuracy: 0.5585 - val_loss: 0.6816 - val_accuracy: 0.5615\n",
      "Epoch 9/4000\n",
      "141349/141349 [==============================] - 180s 1ms/sample - loss: 0.6832 - accuracy: 0.5582 - val_loss: 0.6836 - val_accuracy: 0.5626\n",
      "Epoch 10/4000\n",
      "141349/141349 [==============================] - 186s 1ms/sample - loss: 0.6832 - accuracy: 0.5589 - val_loss: 0.6819 - val_accuracy: 0.5623\n",
      "Epoch 11/4000\n",
      "141349/141349 [==============================] - 183s 1ms/sample - loss: 0.6829 - accuracy: 0.5583 - val_loss: 0.6825 - val_accuracy: 0.5622\n",
      "Epoch 12/4000\n",
      "141349/141349 [==============================] - 186s 1ms/sample - loss: 0.6829 - accuracy: 0.5588 - val_loss: 0.6813 - val_accuracy: 0.5596\n",
      "Epoch 13/4000\n",
      "141349/141349 [==============================] - 187s 1ms/sample - loss: 0.6829 - accuracy: 0.5566 - val_loss: 0.6816 - val_accuracy: 0.5620\n",
      "Epoch 14/4000\n",
      "141349/141349 [==============================] - 186s 1ms/sample - loss: 0.6830 - accuracy: 0.5577 - val_loss: 0.6818 - val_accuracy: 0.5612\n",
      "Epoch 15/4000\n",
      "141349/141349 [==============================] - 178s 1ms/sample - loss: 0.6830 - accuracy: 0.5586 - val_loss: 0.6831 - val_accuracy: 0.5614\n",
      "Epoch 16/4000\n",
      "141349/141349 [==============================] - 178s 1ms/sample - loss: 0.6828 - accuracy: 0.5584 - val_loss: 0.6828 - val_accuracy: 0.5634\n",
      "Epoch 17/4000\n",
      "141349/141349 [==============================] - 180s 1ms/sample - loss: 0.6829 - accuracy: 0.5576 - val_loss: 0.6812 - val_accuracy: 0.5614\n",
      "Epoch 18/4000\n",
      "141349/141349 [==============================] - 177s 1ms/sample - loss: 0.6828 - accuracy: 0.5585 - val_loss: 0.6817 - val_accuracy: 0.5595\n",
      "Epoch 19/4000\n",
      "141349/141349 [==============================] - 180s 1ms/sample - loss: 0.6829 - accuracy: 0.5584 - val_loss: 0.6834 - val_accuracy: 0.5610\n",
      "Epoch 20/4000\n",
      "141349/141349 [==============================] - 181s 1ms/sample - loss: 0.6829 - accuracy: 0.5584 - val_loss: 0.6830 - val_accuracy: 0.5531\n",
      "Epoch 21/4000\n",
      "141349/141349 [==============================] - 178s 1ms/sample - loss: 0.6829 - accuracy: 0.5593 - val_loss: 0.6813 - val_accuracy: 0.5588\n"
     ]
    }
   ],
   "source": [
    "results = model.fit(X_train, y_train, epochs=epochs,\n",
    "                             validation_data=(X_test, y_test),\n",
    "                             callbacks=[early_stop]\n",
    "                   )"
   ]
  },
  {
   "cell_type": "code",
   "execution_count": 52,
   "metadata": {},
   "outputs": [],
   "source": [
    "losses = model.history.history\n",
    "losses['loss'] = np.asarray(losses['loss'])\n",
    "losses['val_loss'] = np.asarray(losses['val_loss'])\n",
    "final_number_of_epochs = len(losses['loss'])\n",
    "min_loss = losses['loss'].min()\n",
    "mean_loss = losses['loss'].mean()\n",
    "final_loss = losses['loss'][-1]\n",
    "min_val_loss = losses['val_loss'].min()\n",
    "mean_val_loss = losses['val_loss'].mean()\n",
    "final_val_loss = losses['val_loss'][-1]\n",
    "\n",
    "def get_model_summary():\n",
    "    output = []\n",
    "    model.summary(print_fn=lambda line: output.append(line))\n",
    "    return str(output).strip('[]')\n",
    "\n",
    "\n",
    "summary = get_model_summary()\n",
    "\n",
    "record = {\n",
    "    'Epochs': final_number_of_epochs,\n",
    "    'Batch_Size': batch_size,\n",
    "    'Loss_Func': loss_param,\n",
    "    'Optimizer': optimizer_param,\n",
    "    'Early_Stop_Monitor': stop_monitor,\n",
    "    'Early_Stop_Patience': stop_patience,\n",
    "    'Min_Loss': min_loss,\n",
    "    'Mean_Loss': mean_loss,\n",
    "    'Final_Loss': final_loss,\n",
    "    'Min_Val_Loss': min_val_loss,\n",
    "    'Mean_Val_Loss': mean_val_loss,\n",
    "    'Final_Val_Loss': final_val_loss,\n",
    "    'Model': summary\n",
    "}\n",
    "\n",
    "new_data = pd.DataFrame(record, index=[0])\n",
    "\n",
    "if os.path.exists('../core/records/game_predictions.csv'):\n",
    "    df_records = pd.read_csv('../core/records/game_predictions.csv')\n",
    "    df_records = df_records.append(new_data)\n",
    "else:\n",
    "    df_records = pd.DataFrame(new_data)\n",
    "\n",
    "df_records.to_csv('../core/records/game_predictions.csv',\n",
    "                  index=False, float_format='%g')\n",
    "\n",
    "\n",
    "model.save('../core/models/model_games.h5')"
   ]
  },
  {
   "cell_type": "markdown",
   "metadata": {},
   "source": [
    "<h2>Model Evaluation</h2>"
   ]
  },
  {
   "cell_type": "code",
   "execution_count": 53,
   "metadata": {},
   "outputs": [],
   "source": [
    "losses = pd.DataFrame(model.history.history)"
   ]
  },
  {
   "cell_type": "code",
   "execution_count": 54,
   "metadata": {},
   "outputs": [
    {
     "data": {
      "text/plain": [
       "<matplotlib.axes._subplots.AxesSubplot at 0x197e53250>"
      ]
     },
     "execution_count": 54,
     "metadata": {},
     "output_type": "execute_result"
    },
    {
     "data": {
      "image/png": "[encoded data removed]",
      "text/plain": [
       "<Figure size 432x288 with 1 Axes>"
      ]
     },
     "metadata": {
      "needs_background": "light"
     },
     "output_type": "display_data"
    }
   ],
   "source": [
    "losses.plot()"
   ]
  },
  {
   "cell_type": "code",
   "execution_count": null,
   "metadata": {},
   "outputs": [],
   "source": []
  }
 ],
 "metadata": {
  "kernelspec": {
   "display_name": "Python 3.7.6 64-bit ('tf2env': conda)",
   "language": "python",
   "name": "python37664bittf2envconda7a5d2b04ce96452f92a2890aed430c66"
  },
  "language_info": {
   "codemirror_mode": {
    "name": "ipython",
    "version": 3
   },
   "file_extension": ".py",
   "mimetype": "text/x-python",
   "name": "python",
   "nbconvert_exporter": "python",
   "pygments_lexer": "ipython3",
   "version": "3.7.7"
  }
 },
 "nbformat": 4,
 "nbformat_minor": 4
}
