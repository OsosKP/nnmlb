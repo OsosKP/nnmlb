{
 "cells": [
  {
   "cell_type": "code",
   "execution_count": 19,
   "metadata": {},
   "outputs": [],
   "source": [
    "import pandas as pd"
   ]
  },
  {
   "cell_type": "code",
   "execution_count": 20,
   "metadata": {},
   "outputs": [],
   "source": [
    "df = pd.read_csv('../core/data/lahman/mlb_data/Batting.csv')"
   ]
  },
  {
   "cell_type": "code",
   "execution_count": 21,
   "metadata": {},
   "outputs": [],
   "source": [
    "def avg(player):\n",
    "    return player['H'] / player['AB']"
   ]
  },
  {
   "cell_type": "code",
   "execution_count": 32,
   "metadata": {},
   "outputs": [],
   "source": [
    "def obp(player):\n",
    "    # We need to calculate plate appearances ourselves\n",
    "    # However, we do not count sacrifice hits/bunts in OBP\n",
    "    pa = player['AB'] + player['BB'] + player['HBP'] + player['SF']\n",
    "    pa = 1 if pa == 0 else pa\n",
    "    return (player['H'] + player['BB'] + player['HBP']) / pa"
   ]
  },
  {
   "cell_type": "code",
   "execution_count": 29,
   "metadata": {},
   "outputs": [],
   "source": [
    "def slg(player):\n",
    "    ab = 1 if player['AB'] == 0 else player['AB']\n",
    "    return (player['H'] + 2*player['2B'] + 3*player['3B'] + 4*player['HR']) / ab"
   ]
  },
  {
   "cell_type": "code",
   "execution_count": 24,
   "metadata": {},
   "outputs": [],
   "source": [
    "def ops(player):\n",
    "    _obp = obp(player)\n",
    "    _slg = slg(player)\n",
    "    return _obp + _slg"
   ]
  },
  {
   "cell_type": "code",
   "execution_count": 25,
   "metadata": {},
   "outputs": [],
   "source": [
    "def tango_relative_ops(player):\n",
    "    # Tom Tango estimates OBP to be 1.7x as important as SLG\n",
    "    _obp = obp(player)\n",
    "    _slg = slg(player)\n",
    "    return (1.7 *_obp + _slg) * (5 / 5.7)"
   ]
  },
  {
   "cell_type": "code",
   "execution_count": 26,
   "metadata": {},
   "outputs": [],
   "source": [
    "def rc(player):\n",
    "    numerator1 = player['H'] + player['BB'] - player['CS'] + player['HBP'] - player['GIDP']\n",
    "    total_bases = player['H'] + 2*player['2B'] + 3*player['3B'] + 4*player['HR']\n",
    "    numerator2 = total_bases + (0.26 * (player['BB'] - player['IBB'] + player['HBP']))\n",
    "    numerator3 = 0.52 * (player['SH'] + player['SF'] + player['SB'])\n",
    "    denominator = player['AB'] + player['BB'] + player['HBP'] + player['SH'] + player['SF']\n",
    "    return (numerator1 * numerator2 + numerator3) / denominator"
   ]
  },
  {
   "cell_type": "code",
   "execution_count": 43,
   "metadata": {},
   "outputs": [],
   "source": [
    "def mean_ops(year):\n",
    "    players = pd.read_csv('../core/output/batting.csv', )\n",
    "    players = players[players['yearID'] == year]\n",
    "    ops_array = players.apply(ops, axis=1)\n",
    "    return ops_array.mean()"
   ]
  },
  {
   "cell_type": "code",
   "execution_count": 45,
   "metadata": {},
   "outputs": [],
   "source": [
    "def ops_plus_year(player, year):\n",
    "    return ops(player) / mean_ops(year)"
   ]
  },
  {
   "cell_type": "code",
   "execution_count": null,
   "metadata": {},
   "outputs": [],
   "source": [
    "def ops_plus_career(player):\n",
    "    first_year = player\n",
    "    for year in range(player)"
   ]
  }
 ],
 "metadata": {
  "kernelspec": {
   "display_name": "Python 3.7.6 64-bit ('tf2env': conda)",
   "language": "python",
   "name": "python37664bittf2envconda7a5d2b04ce96452f92a2890aed430c66"
  },
  "language_info": {
   "codemirror_mode": {
    "name": "ipython",
    "version": 3
   },
   "file_extension": ".py",
   "mimetype": "text/x-python",
   "name": "python",
   "nbconvert_exporter": "python",
   "pygments_lexer": "ipython3",
   "version": "3.7.6"
  }
 },
 "nbformat": 4,
 "nbformat_minor": 4
}
