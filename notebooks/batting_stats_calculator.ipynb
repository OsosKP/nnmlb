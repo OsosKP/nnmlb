{
 "cells": [
  {
   "cell_type": "code",
   "execution_count": 273,
   "metadata": {},
   "outputs": [],
   "source": [
    "import pandas as pd"
   ]
  },
  {
   "cell_type": "code",
   "execution_count": 314,
   "metadata": {},
   "outputs": [],
   "source": [
    "df_by_player = pd.read_csv('../core/output/batters.csv')\n",
    "df_players = pd.read_csv('../core/output/batting.csv')\n",
    "mean_wrc_years = pd.read_csv('../core/output/mean_wrc_by_year.csv')\n",
    "mean_woba_years = pd.read_csv('../core/output/mean_woba_by_year.csv')"
   ]
  },
  {
   "cell_type": "code",
   "execution_count": 315,
   "metadata": {},
   "outputs": [],
   "source": [
    "batting_stats_dict = {}"
   ]
  },
  {
   "cell_type": "code",
   "execution_count": 316,
   "metadata": {},
   "outputs": [],
   "source": [
    "df = df_by_player[['retroID', 'pos_1B', 'pos_2B', 'pos_3B',\n",
    "         'pos_C', 'pos_OF', 'pos_P', 'pos_SS']]\n",
    "df.set_index('retroID', inplace=True)\n",
    "df = df[df == 1].stack().reset_index().drop(0, 1)\n",
    "df.rename(columns={'level_1': 'POS'}, inplace=True)\n",
    "df['POS'] = df['POS'].apply(lambda pos: pos[4:])\n",
    "pos_dict = df.set_index('retroID').to_dict()['POS']\n",
    "\n",
    "def get_pos(retroId):\n",
    "    return pos_dict.get(retroId, 'U')"
   ]
  },
  {
   "cell_type": "code",
   "execution_count": 317,
   "metadata": {},
   "outputs": [],
   "source": [
    "df_constants = pd.read_csv('../core/data/FanGraphsConstants.csv')\n",
    "df_league = pd.read_csv('../core/data/FanGraphsLeagueAverages.csv')"
   ]
  },
  {
   "cell_type": "code",
   "execution_count": 318,
   "metadata": {},
   "outputs": [
    {
     "data": {
      "text/plain": [
       "Index(['Season', 'wOBA', 'wOBAScale', 'wBB', 'wHBP', 'w1B', 'w2B', 'w3B',\n",
       "       'wHR', 'runSB', 'runCS', 'R/PA', 'R/W', 'cFIP'],\n",
       "      dtype='object')"
      ]
     },
     "execution_count": 318,
     "metadata": {},
     "output_type": "execute_result"
    }
   ],
   "source": [
    "df_constants.columns"
   ]
  },
  {
   "cell_type": "code",
   "execution_count": 292,
   "metadata": {},
   "outputs": [],
   "source": [
    "df_woba = df_constants[['Season', 'wOBA', 'wOBAScale',\n",
    "                        'wBB', 'wHBP', 'w1B', 'w2B', 'w3B','wHR', 'R/PA']]\n",
    "df_fip = df_constants[['Season', 'runSB', 'runCS', 'R/PA', 'R/W', 'cFIP']]"
   ]
  },
  {
   "cell_type": "code",
   "execution_count": 293,
   "metadata": {},
   "outputs": [],
   "source": [
    "def get_player(retroID):\n",
    "    return df_by_player[df_by_player['retroID'] == retroID].iloc[0]"
   ]
  },
  {
   "cell_type": "code",
   "execution_count": 294,
   "metadata": {},
   "outputs": [],
   "source": [
    "def get_player_year(retroID, year):\n",
    "    player_year = df_players[(df_players['yearID'] == year) & (df_players['retroID'] == retroID)]\n",
    "    agg = player_year.groupby('retroID').sum().reset_index()\n",
    "    return agg.iloc[0]"
   ]
  },
  {
   "cell_type": "code",
   "execution_count": 295,
   "metadata": {},
   "outputs": [],
   "source": [
    "def get_all_players_for_year(year):\n",
    "    return df_players[df_players['yearID'] == year]"
   ]
  },
  {
   "cell_type": "code",
   "execution_count": 296,
   "metadata": {},
   "outputs": [],
   "source": [
    "def get_qualifying_players_for_year(year):\n",
    "    players = get_all_players_for_year(year)\n",
    "    return players[players['PA'] > 110]"
   ]
  },
  {
   "cell_type": "code",
   "execution_count": 297,
   "metadata": {},
   "outputs": [],
   "source": [
    "def get_non_pitchers_for_year(year):\n",
    "    players = get_all_players_for_year(year)\n",
    "    filter_list = players.apply(lambda player: get_pos(player['retroID']) != 'P', axis = 1)\n",
    "    return players[filter_list.values]"
   ]
  },
  {
   "cell_type": "code",
   "execution_count": 298,
   "metadata": {},
   "outputs": [],
   "source": [
    "def mean_stat_for_year(stat, year):\n",
    "    players = get_qualifying_players_for_year(year)\n",
    "    stat_list = players.apply(lambda player: batting_stats_dict[stat](player), axis=1)\n",
    "    return stat_list.mean()"
   ]
  },
  {
   "cell_type": "code",
   "execution_count": 299,
   "metadata": {},
   "outputs": [],
   "source": [
    "def mean_stat_for_range(stat, first_year, last_year):\n",
    "    stat_total = 0\n",
    "    length = last_year - first_year + 1\n",
    "    for year in range(first_year, last_year + 1):\n",
    "        players = df_players[df_players['yearID'] == year]\n",
    "        mean = players[stat].mean()\n",
    "        stat_total = stat + mean\n",
    "    return stat_total / tenure"
   ]
  },
  {
   "cell_type": "code",
   "execution_count": 300,
   "metadata": {},
   "outputs": [],
   "source": [
    "def league_runs_per_pa(first_year, last_year):\n",
    "    total = 0\n",
    "    tenure = last_year - first_year + 1\n",
    "    for year in range(first_year, last_year + 1):\n",
    "        total = total + get_league_average_runs_per_plate_appearance(year)\n",
    "    return total / tenure"
   ]
  },
  {
   "cell_type": "code",
   "execution_count": 301,
   "metadata": {},
   "outputs": [],
   "source": [
    "def get_league_average_runs_per_plate_appearance(year):\n",
    "    return df_woba[df_woba['Season'] == year]['R/PA'].iloc[0].round(3)"
   ]
  },
  {
   "cell_type": "code",
   "execution_count": 319,
   "metadata": {},
   "outputs": [],
   "source": [
    "def get_pa_by_league_and_year(league, year):\n",
    "    return df_league[df_league['Season'] == year]['PA_{}'.format(league)].iloc[0]"
   ]
  },
  {
   "cell_type": "code",
   "execution_count": 302,
   "metadata": {},
   "outputs": [],
   "source": [
    "def get_league_average_stat_for_year(stat, year):\n",
    "    return df_league[df_league['Season'] == year][stat].iloc[0]"
   ]
  },
  {
   "cell_type": "code",
   "execution_count": 194,
   "metadata": {},
   "outputs": [],
   "source": [
    "mookie = get_player('bettm001')\n",
    "mookie2018 = get_player_year('bettm001', 2018)"
   ]
  },
  {
   "cell_type": "code",
   "execution_count": 336,
   "metadata": {},
   "outputs": [],
   "source": [
    "trout = get_player('troum001')\n",
    "trout2012 = get_player_year('troum001', 2012)\n",
    "trout2014 = get_player_year('troum001', 2014)"
   ]
  },
  {
   "cell_type": "code",
   "execution_count": 168,
   "metadata": {},
   "outputs": [],
   "source": [
    "def avg(player):\n",
    "    return player['H'] / player['AB'] if player['AB'] > 0 else 0\n",
    "batting_stats_dict['AVG'] = avg"
   ]
  },
  {
   "cell_type": "code",
   "execution_count": 169,
   "metadata": {},
   "outputs": [],
   "source": [
    "def obp(player):\n",
    "    # We do not count sacrifice hits/bunts for PA in OBP\n",
    "    pa = player['PA'] - player['SH'] - player['SF']\n",
    "    pa = 1 if pa == 0 else player['PA']\n",
    "    return (player['H'] + player['BB'] + player['HBP']) / pa\n",
    "batting_stats_dict['OBP'] = obp"
   ]
  },
  {
   "cell_type": "code",
   "execution_count": 170,
   "metadata": {},
   "outputs": [],
   "source": [
    "def slg(player):\n",
    "    ab = 1 if player['AB'] == 0 else player['AB']\n",
    "    return (player['1B'] + 2*player['2B'] + 3*player['3B'] + 4*player['HR']) / ab\n",
    "batting_stats_dict['SLG'] = slg"
   ]
  },
  {
   "cell_type": "code",
   "execution_count": 171,
   "metadata": {},
   "outputs": [],
   "source": [
    "def ops(player):\n",
    "    _obp = obp(player)\n",
    "    _slg = slg(player)\n",
    "    return _obp + _slg\n",
    "batting_stats_dict['OPS'] = ops"
   ]
  },
  {
   "cell_type": "code",
   "execution_count": 172,
   "metadata": {},
   "outputs": [],
   "source": [
    "def tango_relative_ops(player):\n",
    "    # Tom Tango estimates OBP to be 1.7x as important as SLG\n",
    "    _obp = obp(player)\n",
    "    _slg = slg(player)\n",
    "    return (1.7 *_obp + _slg) * (5 / 5.7)"
   ]
  },
  {
   "cell_type": "code",
   "execution_count": 173,
   "metadata": {},
   "outputs": [],
   "source": [
    "def rc(player):\n",
    "    numerator1 = player['H'] + player['BB'] - player['CS'] + player['HBP'] - player['GIDP']\n",
    "    total_bases = player['H'] + 2*player['2B'] + 3*player['3B'] + 4*player['HR']\n",
    "    numerator2 = total_bases + (0.26 * (player['BB'] - player['IBB'] + player['HBP']))\n",
    "    numerator3 = 0.52 * (player['SH'] + player['SF'] + player['SB'])\n",
    "    denominator = player['AB'] + player['BB'] + player['HBP'] + player['SH'] + player['SF']\n",
    "    return (numerator1 * numerator2 + numerator3) / denominator\n",
    "batting_stats_dict['RC'] = rc"
   ]
  },
  {
   "cell_type": "code",
   "execution_count": 188,
   "metadata": {},
   "outputs": [],
   "source": [
    "def ops_plus(player, year, park_adjustment = 1):\n",
    "    return (ops(player) / (park_adjustment * get_league_average_stat_for_year('OPS', year))) * 100"
   ]
  },
  {
   "cell_type": "code",
   "execution_count": 175,
   "metadata": {},
   "outputs": [],
   "source": [
    "def ops_plus_career(player, park_adjustment=1):\n",
    "    first_year = player['debutYear'].item()\n",
    "    last_year = player['finalYear'].item()\n",
    "    tenure = last_year - first_year + 1\n",
    "    league_ops = 0\n",
    "    for year in range(first_year, last_year + 1):\n",
    "        league_ops = league_ops + mean_ops(year)\n",
    "    league_ops = league_ops / tenure\n",
    "    return (ops(player) / (league_ops * park_adjustment)) + 100"
   ]
  },
  {
   "cell_type": "code",
   "execution_count": 176,
   "metadata": {},
   "outputs": [],
   "source": [
    "def woba(player, year, woba_data = []):\n",
    "    if len(woba_data) == 0:\n",
    "        woba_data = df_woba[df_woba['Season'] == year].iloc[0]\n",
    "    bb = (player['BB'] - player['IBB']) * woba_data['wBB']\n",
    "    hbp = player['HBP'] * woba_data['wHBP']\n",
    "    s = player['1B'] * woba_data['w1B']\n",
    "    d = player['2B'] * woba_data['w2B']\n",
    "    t = player['3B'] * woba_data['w3B']\n",
    "    hr = player['HR'] * woba_data['wHR']\n",
    "    numerator = bb + hbp + s + d + t + hr\n",
    "    denominator = player['AB'] + player['BB'] - player['IBB'] + player['SF'] + player['HBP']\n",
    "    return numerator / denominator if denominator != 0 else 0"
   ]
  },
  {
   "cell_type": "code",
   "execution_count": 177,
   "metadata": {},
   "outputs": [],
   "source": [
    "def woba_career(player):\n",
    "    first_year = player['debutYear'].item()\n",
    "    last_year = player['finalYear'].item()\n",
    "    tenure = last_year - first_year + 1\n",
    "    woba_result = 0\n",
    "    for year in range(first_year, last_year + 1):\n",
    "        woba_result = woba_result + woba(player, year)\n",
    "    return woba_result / tenure"
   ]
  },
  {
   "cell_type": "code",
   "execution_count": 359,
   "metadata": {},
   "outputs": [],
   "source": [
    "def wraa(player, year):\n",
    "    woba_data = df_woba[df_woba['Season'] == year].iloc[0]\n",
    "    woba_scale = woba_data['wOBAScale']\n",
    "    numerator = woba(player, year) - get_league_average_stat_for_year('wOBA', year)\n",
    "    return ((numerator / woba_scale) * player['PA']).round(3)"
   ]
  },
  {
   "cell_type": "code",
   "execution_count": 360,
   "metadata": {},
   "outputs": [],
   "source": [
    "def wrc(player, year, woba_data = []):\n",
    "    if len(woba_data) == 0:\n",
    "        woba_data = df_woba[df_woba['Season'] == year].iloc[0]\n",
    "    woba_scale = woba_data['wOBAScale']\n",
    "    _woba = woba(player, year)\n",
    "    _league_woba = get_league_average_stat_for_year('wOBA', year)\n",
    "    _league_rppa = get_league_average_runs_per_plate_appearance(year)\n",
    "    _pa = player['PA']\n",
    "    print('wRC = ((({}-{})/{})+({}))*{}'.format(_woba, _league_woba, woba_scale, _league_rppa, _pa))\n",
    "    adjusted_woba = woba(player, year, woba_data) - get_league_average_stat_for_year('wOBA', year)\n",
    "    return ((adjusted_woba / woba_scale) + get_league_average_runs_per_plate_appearance(year)) * player['PA']"
   ]
  },
  {
   "cell_type": "code",
   "execution_count": 361,
   "metadata": {},
   "outputs": [],
   "source": [
    "def mean_wrc(year):\n",
    "    players = get_all_players_for_year(year)\n",
    "    woba_data = df_woba[df_woba['Season'] == year].iloc[0]\n",
    "    woba_scale = woba_data['wOBAScale']   \n",
    "    wrc_array = players.apply(lambda player: wrc(player, year), axis=1)\n",
    "    return wrc_array.mean()"
   ]
  },
  {
   "cell_type": "code",
   "execution_count": 362,
   "metadata": {},
   "outputs": [],
   "source": [
    "def wrc_plus(player, year, park_factor=1):\n",
    "    league = 'NL' if player['NL'] else 'AL'\n",
    "    numerator1 = (wraa(player, year) / player['PA'])\n",
    "    numerator2 = get_league_average_runs_per_plate_appearance(year)\n",
    "    numerator3 = park_factor * (numerator2)\n",
    "    denominator = get_league_average_stat_for_year('wRC_{}'.format(league), year) / get_pa_by_league_and_year(league, year)\n",
    "    return (((numerator1 + numerator2) + (numerator2 - numerator3)) / (denominator)) * 100"
   ]
  },
  {
   "cell_type": "code",
   "execution_count": 363,
   "metadata": {},
   "outputs": [],
   "source": [
    "def wrc_plus_career(player):\n",
    "    first_year = player['debutYear'].item()\n",
    "    last_year = player['finalYear'].item()\n",
    "    print('First: {}\\nLast: {}'.format(first_year, last_year))\n",
    "    tenure = last_year - first_year + 1\n",
    "    wrc_plus_total = 0\n",
    "    for year in (first_year, last_year):\n",
    "        print(year)\n",
    "        wrc_plus_total = wrc_plus_total + wrc_plus(player, year)\n",
    "    return wrc_plus_total / tenure"
   ]
  },
  {
   "cell_type": "code",
   "execution_count": null,
   "metadata": {},
   "outputs": [],
   "source": []
  }
 ],
 "metadata": {
  "kernelspec": {
   "display_name": "Python 3.7.6 64-bit ('tf2env': conda)",
   "language": "python",
   "name": "python37664bittf2envconda7a5d2b04ce96452f92a2890aed430c66"
  },
  "language_info": {
   "codemirror_mode": {
    "name": "ipython",
    "version": 3
   },
   "file_extension": ".py",
   "mimetype": "text/x-python",
   "name": "python",
   "nbconvert_exporter": "python",
   "pygments_lexer": "ipython3",
   "version": "3.7.6"
  }
 },
 "nbformat": 4,
 "nbformat_minor": 4
}
