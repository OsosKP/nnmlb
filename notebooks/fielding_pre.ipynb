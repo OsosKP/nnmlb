{
 "cells": [
  {
   "cell_type": "code",
   "execution_count": 1,
   "metadata": {},
   "outputs": [],
   "source": [
    "import numpy as np\n",
    "import pandas as pd\n",
    "pd.options.mode.chained_assignment = None  # default='warn'"
   ]
  },
  {
   "cell_type": "code",
   "execution_count": 2,
   "metadata": {},
   "outputs": [],
   "source": [
    "df = pd.read_csv('../core/data/lahman/mlb_data/Fielding.csv').sort_values('playerID')"
   ]
  },
  {
   "cell_type": "code",
   "execution_count": 4,
   "metadata": {},
   "outputs": [],
   "source": [
    "# This will be exported to a separate module\n",
    "ids = pd.read_csv('../core/data/lahman/mlb_data/People.csv')\n",
    "ids = ids[['playerID', 'retroID']]\n",
    "id_dict = ids.set_index('playerID').to_dict()['retroID']\n",
    "\n",
    "def get_retroid(id):\n",
    "    return id_dict[id] if id_dict is not None else id"
   ]
  },
  {
   "cell_type": "code",
   "execution_count": 5,
   "metadata": {},
   "outputs": [],
   "source": [
    "df['playerID'] = df['playerID'].apply(get_retroid)\n",
    "df.rename(columns={'playerID': 'retroID'}, inplace=True)"
   ]
  },
  {
   "cell_type": "markdown",
   "metadata": {},
   "source": [
    "<h3>Exploration</h3>"
   ]
  },
  {
   "cell_type": "code",
   "execution_count": 6,
   "metadata": {},
   "outputs": [
    {
     "name": "stdout",
     "output_type": "stream",
     "text": [
      "<class 'pandas.core.frame.DataFrame'>\n",
      "Int64Index: 112837 entries, 85308 to 106797\n",
      "Data columns (total 18 columns):\n",
      " #   Column   Non-Null Count   Dtype  \n",
      "---  ------   --------------   -----  \n",
      " 0   retroID  112837 non-null  object \n",
      " 1   yearID   112837 non-null  int64  \n",
      " 2   stint    112837 non-null  int64  \n",
      " 3   teamID   112837 non-null  object \n",
      " 4   lgID     112837 non-null  object \n",
      " 5   POS      112837 non-null  object \n",
      " 6   G        112837 non-null  int64  \n",
      " 7   GS       89431 non-null   float64\n",
      " 8   InnOuts  89431 non-null   float64\n",
      " 9   PO       112837 non-null  int64  \n",
      " 10  A        112837 non-null  int64  \n",
      " 11  E        112836 non-null  float64\n",
      " 12  DP       112837 non-null  int64  \n",
      " 13  PB       8538 non-null    float64\n",
      " 14  WP       1169 non-null    float64\n",
      " 15  SB       6389 non-null    float64\n",
      " 16  CS       6389 non-null    float64\n",
      " 17  ZR       1169 non-null    float64\n",
      "dtypes: float64(8), int64(6), object(4)\n",
      "memory usage: 16.4+ MB\n"
     ]
    }
   ],
   "source": [
    "df.info()"
   ]
  },
  {
   "cell_type": "code",
   "execution_count": 7,
   "metadata": {},
   "outputs": [
    {
     "data": {
      "text/plain": [
       "(112837, 18)"
      ]
     },
     "execution_count": 7,
     "metadata": {},
     "output_type": "execute_result"
    }
   ],
   "source": [
    "df.shape"
   ]
  },
  {
   "cell_type": "code",
   "execution_count": 8,
   "metadata": {},
   "outputs": [
    {
     "data": {
      "text/plain": [
       "Index(['retroID', 'yearID', 'stint', 'teamID', 'lgID', 'POS', 'G', 'GS',\n",
       "       'InnOuts', 'PO', 'A', 'E', 'DP', 'PB', 'WP', 'SB', 'CS', 'ZR'],\n",
       "      dtype='object')"
      ]
     },
     "execution_count": 8,
     "metadata": {},
     "output_type": "execute_result"
    }
   ],
   "source": [
    "df.columns"
   ]
  },
  {
   "cell_type": "markdown",
   "metadata": {},
   "source": [
    "<p>We want to get rid of columns which already exist in the Batting DataFrame (with which we will be merging this)<p>"
   ]
  },
  {
   "cell_type": "code",
   "execution_count": 9,
   "metadata": {},
   "outputs": [],
   "source": [
    "columns_to_drop = ['stint', 'teamID', 'lgID', 'G']"
   ]
  },
  {
   "cell_type": "code",
   "execution_count": 10,
   "metadata": {},
   "outputs": [],
   "source": [
    "df.drop(columns=columns_to_drop, inplace=True)"
   ]
  },
  {
   "cell_type": "code",
   "execution_count": 11,
   "metadata": {},
   "outputs": [
    {
     "data": {
      "text/html": [
       "<div>\n",
       "<style scoped>\n",
       "    .dataframe tbody tr th:only-of-type {\n",
       "        vertical-align: middle;\n",
       "    }\n",
       "\n",
       "    .dataframe tbody tr th {\n",
       "        vertical-align: top;\n",
       "    }\n",
       "\n",
       "    .dataframe thead th {\n",
       "        text-align: right;\n",
       "    }\n",
       "</style>\n",
       "<table border=\"1\" class=\"dataframe\">\n",
       "  <thead>\n",
       "    <tr style=\"text-align: right;\">\n",
       "      <th></th>\n",
       "      <th>retroID</th>\n",
       "      <th>yearID</th>\n",
       "      <th>POS</th>\n",
       "      <th>GS</th>\n",
       "      <th>InnOuts</th>\n",
       "      <th>PO</th>\n",
       "      <th>A</th>\n",
       "      <th>E</th>\n",
       "      <th>DP</th>\n",
       "      <th>PB</th>\n",
       "      <th>WP</th>\n",
       "      <th>SB</th>\n",
       "      <th>CS</th>\n",
       "      <th>ZR</th>\n",
       "    </tr>\n",
       "  </thead>\n",
       "  <tbody>\n",
       "    <tr>\n",
       "      <th>85308</th>\n",
       "      <td>aardd001</td>\n",
       "      <td>2004</td>\n",
       "      <td>P</td>\n",
       "      <td>0.0</td>\n",
       "      <td>32.0</td>\n",
       "      <td>0</td>\n",
       "      <td>0</td>\n",
       "      <td>0.0</td>\n",
       "      <td>0</td>\n",
       "      <td>NaN</td>\n",
       "      <td>NaN</td>\n",
       "      <td>NaN</td>\n",
       "      <td>NaN</td>\n",
       "      <td>NaN</td>\n",
       "    </tr>\n",
       "    <tr>\n",
       "      <th>101187</th>\n",
       "      <td>aardd001</td>\n",
       "      <td>2013</td>\n",
       "      <td>P</td>\n",
       "      <td>0.0</td>\n",
       "      <td>119.0</td>\n",
       "      <td>1</td>\n",
       "      <td>5</td>\n",
       "      <td>0.0</td>\n",
       "      <td>0</td>\n",
       "      <td>NaN</td>\n",
       "      <td>NaN</td>\n",
       "      <td>NaN</td>\n",
       "      <td>NaN</td>\n",
       "      <td>NaN</td>\n",
       "    </tr>\n",
       "    <tr>\n",
       "      <th>99344</th>\n",
       "      <td>aardd001</td>\n",
       "      <td>2012</td>\n",
       "      <td>P</td>\n",
       "      <td>0.0</td>\n",
       "      <td>3.0</td>\n",
       "      <td>0</td>\n",
       "      <td>0</td>\n",
       "      <td>0.0</td>\n",
       "      <td>0</td>\n",
       "      <td>NaN</td>\n",
       "      <td>NaN</td>\n",
       "      <td>NaN</td>\n",
       "      <td>NaN</td>\n",
       "      <td>NaN</td>\n",
       "    </tr>\n",
       "    <tr>\n",
       "      <th>95793</th>\n",
       "      <td>aardd001</td>\n",
       "      <td>2010</td>\n",
       "      <td>P</td>\n",
       "      <td>0.0</td>\n",
       "      <td>149.0</td>\n",
       "      <td>2</td>\n",
       "      <td>3</td>\n",
       "      <td>1.0</td>\n",
       "      <td>0</td>\n",
       "      <td>NaN</td>\n",
       "      <td>NaN</td>\n",
       "      <td>NaN</td>\n",
       "      <td>NaN</td>\n",
       "      <td>NaN</td>\n",
       "    </tr>\n",
       "    <tr>\n",
       "      <th>104866</th>\n",
       "      <td>aardd001</td>\n",
       "      <td>2015</td>\n",
       "      <td>P</td>\n",
       "      <td>0.0</td>\n",
       "      <td>92.0</td>\n",
       "      <td>0</td>\n",
       "      <td>1</td>\n",
       "      <td>1.0</td>\n",
       "      <td>0</td>\n",
       "      <td>NaN</td>\n",
       "      <td>NaN</td>\n",
       "      <td>NaN</td>\n",
       "      <td>NaN</td>\n",
       "      <td>NaN</td>\n",
       "    </tr>\n",
       "  </tbody>\n",
       "</table>\n",
       "</div>"
      ],
      "text/plain": [
       "         retroID  yearID POS   GS  InnOuts  PO  A    E  DP  PB  WP  SB  CS  ZR\n",
       "85308   aardd001    2004   P  0.0     32.0   0  0  0.0   0 NaN NaN NaN NaN NaN\n",
       "101187  aardd001    2013   P  0.0    119.0   1  5  0.0   0 NaN NaN NaN NaN NaN\n",
       "99344   aardd001    2012   P  0.0      3.0   0  0  0.0   0 NaN NaN NaN NaN NaN\n",
       "95793   aardd001    2010   P  0.0    149.0   2  3  1.0   0 NaN NaN NaN NaN NaN\n",
       "104866  aardd001    2015   P  0.0     92.0   0  1  1.0   0 NaN NaN NaN NaN NaN"
      ]
     },
     "execution_count": 11,
     "metadata": {},
     "output_type": "execute_result"
    }
   ],
   "source": [
    "df.head()"
   ]
  },
  {
   "cell_type": "markdown",
   "metadata": {},
   "source": [
    "<h3>Cleaning and Preprocessing</h3>"
   ]
  },
  {
   "cell_type": "markdown",
   "metadata": {},
   "source": [
    "<p>We see a lot of NaNs in the last 5 columns. According to the Lahman readme, these are:</p>\n",
    "\n",
    " - PB - Passed Balls (by catchers)\n",
    "\n",
    " - WP - Wild Pitches (by catchers)\n",
    "\n",
    " - SB - Opponent Stolen Bases (by catchers)\n",
    "\n",
    " - CS - Opponents Caught Stealing (by catchers)\n",
    "\n",
    " - ZR - Zone Rating\n",
    "\n",
    "<p>It looks like the data demands that we treat catchers separately from other position players. This intuitively makes sense from what we know about baseball, and it saves us from getting rid of a lot of data. First, though, let's look at how much of that data is missing if we JUST look at catchers.</p>"
   ]
  },
  {
   "cell_type": "code",
   "execution_count": 12,
   "metadata": {},
   "outputs": [],
   "source": [
    "df_catchers = df[df['POS'] == 'C']"
   ]
  },
  {
   "cell_type": "code",
   "execution_count": 13,
   "metadata": {},
   "outputs": [
    {
     "data": {
      "text/plain": [
       "retroID    0.000000\n",
       "yearID     0.000000\n",
       "POS        0.000000\n",
       "GS         1.901858\n",
       "InnOuts    1.901858\n",
       "PO         0.000000\n",
       "A          0.000000\n",
       "E          0.000000\n",
       "DP         0.000000\n",
       "PB         0.000000\n",
       "WP         6.530659\n",
       "SB         1.904517\n",
       "CS         1.904517\n",
       "ZR         6.530659\n",
       "dtype: float64"
      ]
     },
     "execution_count": 13,
     "metadata": {},
     "output_type": "execute_result"
    }
   ],
   "source": [
    "# Get missing data in the catchers category as a percentage\n",
    "100 * df_catchers.isnull().sum() / len(df)"
   ]
  },
  {
   "cell_type": "markdown",
   "metadata": {},
   "source": [
    "<p>Most of the percentages are negligable, but we can take a look at WP and ZR and see if the missing data is from early years.</p>"
   ]
  },
  {
   "cell_type": "code",
   "execution_count": 14,
   "metadata": {},
   "outputs": [],
   "source": [
    "early_catchers = df_catchers[df_catchers['yearID'] < 1955]"
   ]
  },
  {
   "cell_type": "code",
   "execution_count": 15,
   "metadata": {},
   "outputs": [
    {
     "data": {
      "text/plain": [
       "retroID    0.000000\n",
       "yearID     0.000000\n",
       "POS        0.000000\n",
       "GS         1.901858\n",
       "InnOuts    1.901858\n",
       "PO         0.000000\n",
       "A          0.000000\n",
       "E          0.000000\n",
       "DP         0.000000\n",
       "PB         0.000000\n",
       "WP         1.901858\n",
       "SB         1.901858\n",
       "CS         1.901858\n",
       "ZR         1.901858\n",
       "dtype: float64"
      ]
     },
     "execution_count": 15,
     "metadata": {},
     "output_type": "execute_result"
    }
   ],
   "source": [
    "100 * early_catchers.isnull().sum() / len(df)"
   ]
  },
  {
   "cell_type": "markdown",
   "metadata": {},
   "source": [
    "<p>Definitely not the case. Let's try to narrow down where the issue is.</p>"
   ]
  },
  {
   "cell_type": "code",
   "execution_count": 16,
   "metadata": {},
   "outputs": [],
   "source": [
    "post1985_catchers = df_catchers[df_catchers['yearID'] > 1985]"
   ]
  },
  {
   "cell_type": "code",
   "execution_count": 17,
   "metadata": {},
   "outputs": [
    {
     "data": {
      "text/plain": [
       "retroID    0.000000\n",
       "yearID     0.000000\n",
       "POS        0.000000\n",
       "GS         0.000000\n",
       "InnOuts    0.000000\n",
       "PO         0.000000\n",
       "A          0.000000\n",
       "E          0.000000\n",
       "DP         0.000000\n",
       "PB         0.000000\n",
       "WP         3.265773\n",
       "SB         0.000000\n",
       "CS         0.000000\n",
       "ZR         3.265773\n",
       "dtype: float64"
      ]
     },
     "execution_count": 17,
     "metadata": {},
     "output_type": "execute_result"
    }
   ],
   "source": [
    "100 * post1985_catchers.isnull().sum() / len(df)"
   ]
  },
  {
   "cell_type": "code",
   "execution_count": 18,
   "metadata": {},
   "outputs": [],
   "source": [
    "df_1955_to_1986_catchers = df_catchers[(df_catchers['yearID'] >= 1955) & (df_catchers['yearID'] <= 1985)]"
   ]
  },
  {
   "cell_type": "code",
   "execution_count": 19,
   "metadata": {},
   "outputs": [
    {
     "data": {
      "text/plain": [
       "retroID    0.000000\n",
       "yearID     0.000000\n",
       "POS        0.000000\n",
       "GS         0.000000\n",
       "InnOuts    0.000000\n",
       "PO         0.000000\n",
       "A          0.000000\n",
       "E          0.000000\n",
       "DP         0.000000\n",
       "PB         0.000000\n",
       "WP         1.363028\n",
       "SB         0.002659\n",
       "CS         0.002659\n",
       "ZR         1.363028\n",
       "dtype: float64"
      ]
     },
     "execution_count": 19,
     "metadata": {},
     "output_type": "execute_result"
    }
   ],
   "source": [
    "100 * df_1955_to_1986_catchers.isnull().sum() / len(df)"
   ]
  },
  {
   "cell_type": "code",
   "execution_count": 20,
   "metadata": {},
   "outputs": [],
   "source": [
    "pre_1930_catchers = df_catchers[df_catchers['yearID'] < 1930]"
   ]
  },
  {
   "cell_type": "code",
   "execution_count": 21,
   "metadata": {},
   "outputs": [
    {
     "data": {
      "text/plain": [
       "retroID    0.000000\n",
       "yearID     0.000000\n",
       "POS        0.000000\n",
       "GS         0.591118\n",
       "InnOuts    0.591118\n",
       "PO         0.000000\n",
       "A          0.000000\n",
       "E          0.000000\n",
       "DP         0.000000\n",
       "PB         0.000000\n",
       "WP         0.591118\n",
       "SB         0.591118\n",
       "CS         0.591118\n",
       "ZR         0.591118\n",
       "dtype: float64"
      ]
     },
     "execution_count": 21,
     "metadata": {},
     "output_type": "execute_result"
    }
   ],
   "source": [
    "100 * pre_1930_catchers.isnull().sum() / len(df)"
   ]
  },
  {
   "cell_type": "markdown",
   "metadata": {},
   "source": [
    "<p>We see that the issue is mainly in the very early years, and we are fine with dropping that information by just filling it in as we did in the Batters table.</p>\n",
    "\n",
    "<p>So with that, we are fine with filling all NA values with 0.</p>"
   ]
  },
  {
   "cell_type": "code",
   "execution_count": 22,
   "metadata": {},
   "outputs": [],
   "source": [
    "df_catchers['GS'].fillna(value=0, inplace=True)\n",
    "df_catchers['InnOuts'].fillna(value=0, inplace=True)\n",
    "df_catchers['WP'].fillna(value=0, inplace=True)\n",
    "df_catchers['SB'].fillna(value=0, inplace=True)\n",
    "df_catchers['CS'].fillna(value=0, inplace=True)\n",
    "df_catchers['ZR'].fillna(value=0, inplace=True)"
   ]
  },
  {
   "cell_type": "code",
   "execution_count": 23,
   "metadata": {},
   "outputs": [],
   "source": [
    "df['GS'].fillna(value=0, inplace=True)\n",
    "df['InnOuts'].fillna(value=0, inplace=True)\n",
    "#We can just drop the catcher-related columns from the original dataframe, as we will also drop all catcher rows\n",
    "catcher_columns = ['PB', 'WP', 'SB', 'CS', 'ZR']\n",
    "df.drop(columns=catcher_columns, inplace=True)"
   ]
  },
  {
   "cell_type": "markdown",
   "metadata": {},
   "source": [
    "<p>Now drop all catcher rows so we have two separate dataframes, and get rid of the yearID column which we're done with and will be useless after aggregation.</p>"
   ]
  },
  {
   "cell_type": "code",
   "execution_count": 24,
   "metadata": {},
   "outputs": [],
   "source": [
    "df = df[df['POS'] != 'C']"
   ]
  },
  {
   "cell_type": "code",
   "execution_count": 25,
   "metadata": {},
   "outputs": [],
   "source": [
    "df.drop(columns=['yearID'], inplace=True)\n",
    "df_catchers.drop(columns=['yearID'], inplace=True)"
   ]
  },
  {
   "cell_type": "code",
   "execution_count": 26,
   "metadata": {},
   "outputs": [
    {
     "data": {
      "text/plain": [
       "(104299, 8)"
      ]
     },
     "execution_count": 26,
     "metadata": {},
     "output_type": "execute_result"
    }
   ],
   "source": [
    "df.shape"
   ]
  },
  {
   "cell_type": "code",
   "execution_count": 27,
   "metadata": {},
   "outputs": [
    {
     "data": {
      "text/plain": [
       "(8538, 13)"
      ]
     },
     "execution_count": 27,
     "metadata": {},
     "output_type": "execute_result"
    }
   ],
   "source": [
    "df_catchers.shape"
   ]
  },
  {
   "cell_type": "code",
   "execution_count": 28,
   "metadata": {},
   "outputs": [
    {
     "data": {
      "text/plain": [
       "retroID    0.000000\n",
       "POS        0.000000\n",
       "GS         0.000000\n",
       "InnOuts    0.000000\n",
       "PO         0.000000\n",
       "A          0.000000\n",
       "E          0.000959\n",
       "DP         0.000000\n",
       "dtype: float64"
      ]
     },
     "execution_count": 28,
     "metadata": {},
     "output_type": "execute_result"
    }
   ],
   "source": [
    "100 * df.isnull().sum() / len(df)"
   ]
  },
  {
   "cell_type": "markdown",
   "metadata": {},
   "source": [
    "<p>Now we just see a little bit of information missing from Errors, so we can fill that with 0s no problem.</p>"
   ]
  },
  {
   "cell_type": "code",
   "execution_count": 29,
   "metadata": {},
   "outputs": [],
   "source": [
    "df['E'].fillna(value=0, inplace=True)"
   ]
  },
  {
   "cell_type": "code",
   "execution_count": 30,
   "metadata": {},
   "outputs": [
    {
     "data": {
      "text/plain": [
       "retroID    0.0\n",
       "POS        0.0\n",
       "GS         0.0\n",
       "InnOuts    0.0\n",
       "PO         0.0\n",
       "A          0.0\n",
       "E          0.0\n",
       "DP         0.0\n",
       "dtype: float64"
      ]
     },
     "execution_count": 30,
     "metadata": {},
     "output_type": "execute_result"
    }
   ],
   "source": [
    "100 * df.isnull().sum() / len(df)"
   ]
  },
  {
   "cell_type": "code",
   "execution_count": 31,
   "metadata": {},
   "outputs": [
    {
     "data": {
      "text/plain": [
       "retroID    0.0\n",
       "POS        0.0\n",
       "GS         0.0\n",
       "InnOuts    0.0\n",
       "PO         0.0\n",
       "A          0.0\n",
       "E          0.0\n",
       "DP         0.0\n",
       "PB         0.0\n",
       "WP         0.0\n",
       "SB         0.0\n",
       "CS         0.0\n",
       "ZR         0.0\n",
       "dtype: float64"
      ]
     },
     "execution_count": 31,
     "metadata": {},
     "output_type": "execute_result"
    }
   ],
   "source": [
    "100 * df_catchers.isnull().sum() / len(df)"
   ]
  },
  {
   "cell_type": "markdown",
   "metadata": {},
   "source": [
    "<p>At this point we have essentially the same data as what we had in Fielding.csv from Lahman, but we have cleaned the data and gotten rid of missing values. Before we groupby and take out metadata, it would be a good idea to save this to a .csv so that we can later get it as a DataFrame and not worry about missing values.</p>"
   ]
  },
  {
   "cell_type": "code",
   "execution_count": 33,
   "metadata": {},
   "outputs": [],
   "source": [
    "df.to_csv('../core/output/fielding.csv')\n",
    "df_catchers.to_csv('../core/output/catching.csv')"
   ]
  },
  {
   "cell_type": "markdown",
   "metadata": {},
   "source": [
    "<h3>Aggregation</h3>"
   ]
  },
  {
   "cell_type": "markdown",
   "metadata": {},
   "source": [
    "<p>Now we just need to aggregate all stats to get total career numbers for each player.</p>"
   ]
  },
  {
   "cell_type": "code",
   "execution_count": 77,
   "metadata": {},
   "outputs": [],
   "source": [
    "df = df.groupby('retroID').sum().reset_index()"
   ]
  },
  {
   "cell_type": "code",
   "execution_count": 78,
   "metadata": {},
   "outputs": [],
   "source": [
    "df_catchers = df_catchers.groupby('retroID').sum().reset_index()"
   ]
  },
  {
   "cell_type": "code",
   "execution_count": 79,
   "metadata": {},
   "outputs": [
    {
     "data": {
      "text/html": [
       "<div>\n",
       "<style scoped>\n",
       "    .dataframe tbody tr th:only-of-type {\n",
       "        vertical-align: middle;\n",
       "    }\n",
       "\n",
       "    .dataframe tbody tr th {\n",
       "        vertical-align: top;\n",
       "    }\n",
       "\n",
       "    .dataframe thead th {\n",
       "        text-align: right;\n",
       "    }\n",
       "</style>\n",
       "<table border=\"1\" class=\"dataframe\">\n",
       "  <thead>\n",
       "    <tr style=\"text-align: right;\">\n",
       "      <th></th>\n",
       "      <th>retroID</th>\n",
       "      <th>GS</th>\n",
       "      <th>InnOuts</th>\n",
       "      <th>PO</th>\n",
       "      <th>A</th>\n",
       "      <th>E</th>\n",
       "      <th>DP</th>\n",
       "    </tr>\n",
       "  </thead>\n",
       "  <tbody>\n",
       "    <tr>\n",
       "      <th>0</th>\n",
       "      <td>aardd001</td>\n",
       "      <td>0.0</td>\n",
       "      <td>1011.0</td>\n",
       "      <td>11</td>\n",
       "      <td>29</td>\n",
       "      <td>3.0</td>\n",
       "      <td>2</td>\n",
       "    </tr>\n",
       "    <tr>\n",
       "      <th>1</th>\n",
       "      <td>aaroh101</td>\n",
       "      <td>2977.0</td>\n",
       "      <td>78414.0</td>\n",
       "      <td>7436</td>\n",
       "      <td>429</td>\n",
       "      <td>144.0</td>\n",
       "      <td>218</td>\n",
       "    </tr>\n",
       "    <tr>\n",
       "      <th>2</th>\n",
       "      <td>aarot101</td>\n",
       "      <td>206.0</td>\n",
       "      <td>6472.0</td>\n",
       "      <td>1317</td>\n",
       "      <td>113</td>\n",
       "      <td>22.0</td>\n",
       "      <td>124</td>\n",
       "    </tr>\n",
       "    <tr>\n",
       "      <th>3</th>\n",
       "      <td>aased001</td>\n",
       "      <td>91.0</td>\n",
       "      <td>3328.0</td>\n",
       "      <td>67</td>\n",
       "      <td>135</td>\n",
       "      <td>13.0</td>\n",
       "      <td>10</td>\n",
       "    </tr>\n",
       "    <tr>\n",
       "      <th>4</th>\n",
       "      <td>abada001</td>\n",
       "      <td>4.0</td>\n",
       "      <td>138.0</td>\n",
       "      <td>37</td>\n",
       "      <td>1</td>\n",
       "      <td>1.0</td>\n",
       "      <td>3</td>\n",
       "    </tr>\n",
       "    <tr>\n",
       "      <th>...</th>\n",
       "      <td>...</td>\n",
       "      <td>...</td>\n",
       "      <td>...</td>\n",
       "      <td>...</td>\n",
       "      <td>...</td>\n",
       "      <td>...</td>\n",
       "      <td>...</td>\n",
       "    </tr>\n",
       "    <tr>\n",
       "      <th>14222</th>\n",
       "      <td>zumaj001</td>\n",
       "      <td>0.0</td>\n",
       "      <td>629.0</td>\n",
       "      <td>7</td>\n",
       "      <td>14</td>\n",
       "      <td>2.0</td>\n",
       "      <td>1</td>\n",
       "    </tr>\n",
       "    <tr>\n",
       "      <th>14223</th>\n",
       "      <td>zupcb001</td>\n",
       "      <td>198.0</td>\n",
       "      <td>5842.0</td>\n",
       "      <td>483</td>\n",
       "      <td>22</td>\n",
       "      <td>12.0</td>\n",
       "      <td>5</td>\n",
       "    </tr>\n",
       "    <tr>\n",
       "      <th>14224</th>\n",
       "      <td>zuveg101</td>\n",
       "      <td>31.0</td>\n",
       "      <td>1847.0</td>\n",
       "      <td>45</td>\n",
       "      <td>145</td>\n",
       "      <td>7.0</td>\n",
       "      <td>10</td>\n",
       "    </tr>\n",
       "    <tr>\n",
       "      <th>14225</th>\n",
       "      <td>zuvep001</td>\n",
       "      <td>136.0</td>\n",
       "      <td>3844.0</td>\n",
       "      <td>267</td>\n",
       "      <td>415</td>\n",
       "      <td>23.0</td>\n",
       "      <td>84</td>\n",
       "    </tr>\n",
       "    <tr>\n",
       "      <th>14226</th>\n",
       "      <td>zycht001</td>\n",
       "      <td>1.0</td>\n",
       "      <td>218.0</td>\n",
       "      <td>1</td>\n",
       "      <td>6</td>\n",
       "      <td>1.0</td>\n",
       "      <td>0</td>\n",
       "    </tr>\n",
       "  </tbody>\n",
       "</table>\n",
       "<p>14227 rows × 7 columns</p>\n",
       "</div>"
      ],
      "text/plain": [
       "        retroID      GS  InnOuts    PO    A      E   DP\n",
       "0      aardd001     0.0   1011.0    11   29    3.0    2\n",
       "1      aaroh101  2977.0  78414.0  7436  429  144.0  218\n",
       "2      aarot101   206.0   6472.0  1317  113   22.0  124\n",
       "3      aased001    91.0   3328.0    67  135   13.0   10\n",
       "4      abada001     4.0    138.0    37    1    1.0    3\n",
       "...         ...     ...      ...   ...  ...    ...  ...\n",
       "14222  zumaj001     0.0    629.0     7   14    2.0    1\n",
       "14223  zupcb001   198.0   5842.0   483   22   12.0    5\n",
       "14224  zuveg101    31.0   1847.0    45  145    7.0   10\n",
       "14225  zuvep001   136.0   3844.0   267  415   23.0   84\n",
       "14226  zycht001     1.0    218.0     1    6    1.0    0\n",
       "\n",
       "[14227 rows x 7 columns]"
      ]
     },
     "execution_count": 79,
     "metadata": {},
     "output_type": "execute_result"
    }
   ],
   "source": [
    "df"
   ]
  },
  {
   "cell_type": "code",
   "execution_count": 80,
   "metadata": {},
   "outputs": [
    {
     "data": {
      "text/html": [
       "<div>\n",
       "<style scoped>\n",
       "    .dataframe tbody tr th:only-of-type {\n",
       "        vertical-align: middle;\n",
       "    }\n",
       "\n",
       "    .dataframe tbody tr th {\n",
       "        vertical-align: top;\n",
       "    }\n",
       "\n",
       "    .dataframe thead th {\n",
       "        text-align: right;\n",
       "    }\n",
       "</style>\n",
       "<table border=\"1\" class=\"dataframe\">\n",
       "  <thead>\n",
       "    <tr style=\"text-align: right;\">\n",
       "      <th></th>\n",
       "      <th>retroID</th>\n",
       "      <th>GS</th>\n",
       "      <th>InnOuts</th>\n",
       "      <th>PO</th>\n",
       "      <th>A</th>\n",
       "      <th>E</th>\n",
       "      <th>DP</th>\n",
       "      <th>PB</th>\n",
       "      <th>WP</th>\n",
       "      <th>SB</th>\n",
       "      <th>CS</th>\n",
       "      <th>ZR</th>\n",
       "    </tr>\n",
       "  </thead>\n",
       "  <tbody>\n",
       "    <tr>\n",
       "      <th>0</th>\n",
       "      <td>adamb105</td>\n",
       "      <td>1.0</td>\n",
       "      <td>27.0</td>\n",
       "      <td>6</td>\n",
       "      <td>0</td>\n",
       "      <td>0.0</td>\n",
       "      <td>0</td>\n",
       "      <td>0.0</td>\n",
       "      <td>0.0</td>\n",
       "      <td>1.0</td>\n",
       "      <td>0.0</td>\n",
       "      <td>0.0</td>\n",
       "    </tr>\n",
       "    <tr>\n",
       "      <th>1</th>\n",
       "      <td>adamb106</td>\n",
       "      <td>0.0</td>\n",
       "      <td>0.0</td>\n",
       "      <td>249</td>\n",
       "      <td>90</td>\n",
       "      <td>12.0</td>\n",
       "      <td>15</td>\n",
       "      <td>7.0</td>\n",
       "      <td>0.0</td>\n",
       "      <td>0.0</td>\n",
       "      <td>0.0</td>\n",
       "      <td>0.0</td>\n",
       "    </tr>\n",
       "    <tr>\n",
       "      <th>2</th>\n",
       "      <td>adamd101</td>\n",
       "      <td>3.0</td>\n",
       "      <td>78.0</td>\n",
       "      <td>9</td>\n",
       "      <td>2</td>\n",
       "      <td>0.0</td>\n",
       "      <td>0</td>\n",
       "      <td>1.0</td>\n",
       "      <td>0.0</td>\n",
       "      <td>0.0</td>\n",
       "      <td>0.0</td>\n",
       "      <td>0.0</td>\n",
       "    </tr>\n",
       "    <tr>\n",
       "      <th>3</th>\n",
       "      <td>adled101</td>\n",
       "      <td>65.0</td>\n",
       "      <td>1840.0</td>\n",
       "      <td>453</td>\n",
       "      <td>26</td>\n",
       "      <td>4.0</td>\n",
       "      <td>2</td>\n",
       "      <td>8.0</td>\n",
       "      <td>19.0</td>\n",
       "      <td>37.0</td>\n",
       "      <td>16.0</td>\n",
       "      <td>0.0</td>\n",
       "    </tr>\n",
       "    <tr>\n",
       "      <th>4</th>\n",
       "      <td>afent001</td>\n",
       "      <td>20.0</td>\n",
       "      <td>613.0</td>\n",
       "      <td>123</td>\n",
       "      <td>5</td>\n",
       "      <td>1.0</td>\n",
       "      <td>3</td>\n",
       "      <td>6.0</td>\n",
       "      <td>0.0</td>\n",
       "      <td>17.0</td>\n",
       "      <td>3.0</td>\n",
       "      <td>0.0</td>\n",
       "    </tr>\n",
       "    <tr>\n",
       "      <th>...</th>\n",
       "      <td>...</td>\n",
       "      <td>...</td>\n",
       "      <td>...</td>\n",
       "      <td>...</td>\n",
       "      <td>...</td>\n",
       "      <td>...</td>\n",
       "      <td>...</td>\n",
       "      <td>...</td>\n",
       "      <td>...</td>\n",
       "      <td>...</td>\n",
       "      <td>...</td>\n",
       "      <td>...</td>\n",
       "    </tr>\n",
       "    <tr>\n",
       "      <th>1524</th>\n",
       "      <td>zimmd101</td>\n",
       "      <td>27.0</td>\n",
       "      <td>744.0</td>\n",
       "      <td>150</td>\n",
       "      <td>18</td>\n",
       "      <td>6.0</td>\n",
       "      <td>1</td>\n",
       "      <td>5.0</td>\n",
       "      <td>12.0</td>\n",
       "      <td>10.0</td>\n",
       "      <td>10.0</td>\n",
       "      <td>3.0</td>\n",
       "    </tr>\n",
       "    <tr>\n",
       "      <th>1525</th>\n",
       "      <td>zimmj101</td>\n",
       "      <td>298.0</td>\n",
       "      <td>8560.0</td>\n",
       "      <td>2131</td>\n",
       "      <td>150</td>\n",
       "      <td>21.0</td>\n",
       "      <td>26</td>\n",
       "      <td>19.0</td>\n",
       "      <td>84.0</td>\n",
       "      <td>110.0</td>\n",
       "      <td>80.0</td>\n",
       "      <td>4.0</td>\n",
       "    </tr>\n",
       "    <tr>\n",
       "      <th>1526</th>\n",
       "      <td>zinta001</td>\n",
       "      <td>0.0</td>\n",
       "      <td>3.0</td>\n",
       "      <td>2</td>\n",
       "      <td>0</td>\n",
       "      <td>0.0</td>\n",
       "      <td>0</td>\n",
       "      <td>0.0</td>\n",
       "      <td>0.0</td>\n",
       "      <td>0.0</td>\n",
       "      <td>0.0</td>\n",
       "      <td>0.0</td>\n",
       "    </tr>\n",
       "    <tr>\n",
       "      <th>1527</th>\n",
       "      <td>zunim001</td>\n",
       "      <td>535.0</td>\n",
       "      <td>14489.0</td>\n",
       "      <td>4356</td>\n",
       "      <td>264</td>\n",
       "      <td>21.0</td>\n",
       "      <td>22</td>\n",
       "      <td>39.0</td>\n",
       "      <td>0.0</td>\n",
       "      <td>248.0</td>\n",
       "      <td>98.0</td>\n",
       "      <td>0.0</td>\n",
       "    </tr>\n",
       "    <tr>\n",
       "      <th>1528</th>\n",
       "      <td>zupof101</td>\n",
       "      <td>1.0</td>\n",
       "      <td>114.0</td>\n",
       "      <td>31</td>\n",
       "      <td>1</td>\n",
       "      <td>2.0</td>\n",
       "      <td>0</td>\n",
       "      <td>1.0</td>\n",
       "      <td>1.0</td>\n",
       "      <td>2.0</td>\n",
       "      <td>1.0</td>\n",
       "      <td>0.0</td>\n",
       "    </tr>\n",
       "  </tbody>\n",
       "</table>\n",
       "<p>1529 rows × 12 columns</p>\n",
       "</div>"
      ],
      "text/plain": [
       "       retroID     GS  InnOuts    PO    A     E  DP    PB    WP     SB    CS  \\\n",
       "0     adamb105    1.0     27.0     6    0   0.0   0   0.0   0.0    1.0   0.0   \n",
       "1     adamb106    0.0      0.0   249   90  12.0  15   7.0   0.0    0.0   0.0   \n",
       "2     adamd101    3.0     78.0     9    2   0.0   0   1.0   0.0    0.0   0.0   \n",
       "3     adled101   65.0   1840.0   453   26   4.0   2   8.0  19.0   37.0  16.0   \n",
       "4     afent001   20.0    613.0   123    5   1.0   3   6.0   0.0   17.0   3.0   \n",
       "...        ...    ...      ...   ...  ...   ...  ..   ...   ...    ...   ...   \n",
       "1524  zimmd101   27.0    744.0   150   18   6.0   1   5.0  12.0   10.0  10.0   \n",
       "1525  zimmj101  298.0   8560.0  2131  150  21.0  26  19.0  84.0  110.0  80.0   \n",
       "1526  zinta001    0.0      3.0     2    0   0.0   0   0.0   0.0    0.0   0.0   \n",
       "1527  zunim001  535.0  14489.0  4356  264  21.0  22  39.0   0.0  248.0  98.0   \n",
       "1528  zupof101    1.0    114.0    31    1   2.0   0   1.0   1.0    2.0   1.0   \n",
       "\n",
       "       ZR  \n",
       "0     0.0  \n",
       "1     0.0  \n",
       "2     0.0  \n",
       "3     0.0  \n",
       "4     0.0  \n",
       "...   ...  \n",
       "1524  3.0  \n",
       "1525  4.0  \n",
       "1526  0.0  \n",
       "1527  0.0  \n",
       "1528  0.0  \n",
       "\n",
       "[1529 rows x 12 columns]"
      ]
     },
     "execution_count": 80,
     "metadata": {},
     "output_type": "execute_result"
    }
   ],
   "source": [
    "df_catchers"
   ]
  },
  {
   "cell_type": "code",
   "execution_count": null,
   "metadata": {},
   "outputs": [],
   "source": []
  }
 ],
 "metadata": {
  "kernelspec": {
   "display_name": "Python 3.7.6 64-bit ('tf2env': conda)",
   "language": "python",
   "name": "python37664bittf2envconda7a5d2b04ce96452f92a2890aed430c66"
  },
  "language_info": {
   "codemirror_mode": {
    "name": "ipython",
    "version": 3
   },
   "file_extension": ".py",
   "mimetype": "text/x-python",
   "name": "python",
   "nbconvert_exporter": "python",
   "pygments_lexer": "ipython3",
   "version": "3.7.7"
  }
 },
 "nbformat": 4,
 "nbformat_minor": 4
}
