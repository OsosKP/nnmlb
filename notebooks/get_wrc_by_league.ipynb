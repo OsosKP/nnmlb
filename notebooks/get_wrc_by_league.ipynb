{
 "cells": [
  {
   "cell_type": "code",
   "execution_count": 1,
   "metadata": {},
   "outputs": [],
   "source": [
    "import pandas as pd"
   ]
  },
  {
   "cell_type": "code",
   "execution_count": 2,
   "metadata": {},
   "outputs": [],
   "source": [
    "df_all = pd.read_csv('../core/data/FanGraphsLeagueAverages.csv')"
   ]
  },
  {
   "cell_type": "code",
   "execution_count": 3,
   "metadata": {},
   "outputs": [],
   "source": [
    "df_al = pd.read_csv('../core/data/al.csv')\n",
    "df_nl = pd.read_csv('../core/data/nl.csv')"
   ]
  },
  {
   "cell_type": "code",
   "execution_count": 4,
   "metadata": {},
   "outputs": [],
   "source": [
    "df_al = df_al['wRC']\n",
    "df_nl = df_nl['wRC']"
   ]
  },
  {
   "cell_type": "code",
   "execution_count": 5,
   "metadata": {},
   "outputs": [
    {
     "data": {
      "text/plain": [
       "pandas.core.series.Series"
      ]
     },
     "execution_count": 5,
     "metadata": {},
     "output_type": "execute_result"
    }
   ],
   "source": [
    "type(df_al)"
   ]
  },
  {
   "cell_type": "code",
   "execution_count": 6,
   "metadata": {},
   "outputs": [
    {
     "name": "stdout",
     "output_type": "stream",
     "text": [
      "<class 'pandas.core.frame.DataFrame'>\n",
      "RangeIndex: 101 entries, 0 to 100\n",
      "Data columns (total 21 columns):\n",
      " #   Column  Non-Null Count  Dtype  \n",
      "---  ------  --------------  -----  \n",
      " 0   Season  101 non-null    int64  \n",
      " 1   PA      101 non-null    int64  \n",
      " 2   PA_NL   101 non-null    int64  \n",
      " 3   PA_AL   101 non-null    int64  \n",
      " 4   BB%     101 non-null    object \n",
      " 5   K%      101 non-null    object \n",
      " 6   BB/K    101 non-null    float64\n",
      " 7   AVG     101 non-null    float64\n",
      " 8   OBP     101 non-null    float64\n",
      " 9   SLG     101 non-null    float64\n",
      " 10  OPS     101 non-null    float64\n",
      " 11  ISO     101 non-null    float64\n",
      " 12  Spd     101 non-null    float64\n",
      " 13  BABIP   101 non-null    float64\n",
      " 14  UBR     18 non-null     float64\n",
      " 15  wGDP    18 non-null     float64\n",
      " 16  wSB     101 non-null    float64\n",
      " 17  wRC     101 non-null    int64  \n",
      " 18  wRAA    101 non-null    float64\n",
      " 19  wOBA    101 non-null    float64\n",
      " 20  wRC+    101 non-null    int64  \n",
      "dtypes: float64(13), int64(6), object(2)\n",
      "memory usage: 16.7+ KB\n"
     ]
    }
   ],
   "source": [
    "df_all.info()"
   ]
  },
  {
   "cell_type": "code",
   "execution_count": 7,
   "metadata": {},
   "outputs": [],
   "source": [
    "df_all.insert(loc=18, column='wRC_AL', value=df_al)\n",
    "df_all.insert(loc=18, column='wRC_NL', value=df_nl)"
   ]
  },
  {
   "cell_type": "code",
   "execution_count": 8,
   "metadata": {},
   "outputs": [],
   "source": [
    "df_all.to_csv('../core/data/FanGraphsLeagueAverages.csv', index=False, float_format='%g')"
   ]
  },
  {
   "cell_type": "code",
   "execution_count": null,
   "metadata": {},
   "outputs": [],
   "source": []
  }
 ],
 "metadata": {
  "kernelspec": {
   "display_name": "Python 3.7.6 64-bit ('tf2env': conda)",
   "language": "python",
   "name": "python37664bittf2envconda7a5d2b04ce96452f92a2890aed430c66"
  },
  "language_info": {
   "codemirror_mode": {
    "name": "ipython",
    "version": 3
   },
   "file_extension": ".py",
   "mimetype": "text/x-python",
   "name": "python",
   "nbconvert_exporter": "python",
   "pygments_lexer": "ipython3",
   "version": "3.7.6"
  }
 },
 "nbformat": 4,
 "nbformat_minor": 4
}
