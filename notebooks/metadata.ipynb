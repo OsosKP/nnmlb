{
 "cells": [
  {
   "cell_type": "code",
   "execution_count": 1,
   "metadata": {},
   "outputs": [],
   "source": [
    "import pandas as pd\n",
    "from datetime import datetime"
   ]
  },
  {
   "cell_type": "code",
   "execution_count": 2,
   "metadata": {},
   "outputs": [],
   "source": [
    "df1 = pd.read_csv('../core/data/lahman/mlb_data/Fielding.csv')\n",
    "df2 = pd.read_csv('../core/data/lahman/mlb_data/People.csv')"
   ]
  },
  {
   "cell_type": "code",
   "execution_count": 3,
   "metadata": {},
   "outputs": [
    {
     "data": {
      "text/plain": [
       "Index(['playerID', 'yearID', 'stint', 'teamID', 'lgID', 'POS', 'G', 'GS',\n",
       "       'InnOuts', 'PO', 'A', 'E', 'DP', 'PB', 'WP', 'SB', 'CS', 'ZR'],\n",
       "      dtype='object')"
      ]
     },
     "execution_count": 3,
     "metadata": {},
     "output_type": "execute_result"
    }
   ],
   "source": [
    "df1.columns"
   ]
  },
  {
   "cell_type": "code",
   "execution_count": 4,
   "metadata": {},
   "outputs": [],
   "source": [
    "fielding_columns = ['playerID', 'POS']\n",
    "df1 = df1[fielding_columns]"
   ]
  },
  {
   "cell_type": "code",
   "execution_count": 5,
   "metadata": {},
   "outputs": [
    {
     "data": {
      "text/plain": [
       "Index(['playerID', 'birthYear', 'birthMonth', 'birthDay', 'birthCountry',\n",
       "       'birthState', 'birthCity', 'deathYear', 'deathMonth', 'deathDay',\n",
       "       'deathCountry', 'deathState', 'deathCity', 'nameFirst', 'nameLast',\n",
       "       'nameGiven', 'weight', 'height', 'bats', 'throws', 'debut', 'finalGame',\n",
       "       'retroID', 'bbrefID'],\n",
       "      dtype='object')"
      ]
     },
     "execution_count": 5,
     "metadata": {},
     "output_type": "execute_result"
    }
   ],
   "source": [
    "df2.columns"
   ]
  },
  {
   "cell_type": "code",
   "execution_count": 6,
   "metadata": {},
   "outputs": [],
   "source": [
    "people_columns = ['playerID', 'nameFirst', 'nameLast', 'birthYear', 'bats', 'throws', 'weight', 'height', 'debut', 'finalGame']\n",
    "df2 = df2[people_columns]"
   ]
  },
  {
   "cell_type": "code",
   "execution_count": 7,
   "metadata": {},
   "outputs": [],
   "source": [
    "# df2.head()"
   ]
  },
  {
   "cell_type": "code",
   "execution_count": 8,
   "metadata": {},
   "outputs": [],
   "source": [
    "string = list(df2[df2['playerID'] == 'omaraol01']['debut'])[0]"
   ]
  },
  {
   "cell_type": "code",
   "execution_count": 9,
   "metadata": {},
   "outputs": [
    {
     "ename": "ValueError",
     "evalue": "time data '1912-09-08' does not match format '%m/%d/%y'",
     "output_type": "error",
     "traceback": [
      "\u001b[0;31m---------------------------------------------------------------------------\u001b[0m",
      "\u001b[0;31mValueError\u001b[0m                                Traceback (most recent call last)",
      "\u001b[0;32m<ipython-input-9-752f59779586>\u001b[0m in \u001b[0;36m<module>\u001b[0;34m\u001b[0m\n\u001b[0;32m----> 1\u001b[0;31m \u001b[0mdatetime\u001b[0m\u001b[0;34m.\u001b[0m\u001b[0mstrptime\u001b[0m\u001b[0;34m(\u001b[0m\u001b[0mstring\u001b[0m\u001b[0;34m,\u001b[0m \u001b[0;34m'%m/%d/%y'\u001b[0m\u001b[0;34m)\u001b[0m\u001b[0;34m.\u001b[0m\u001b[0myear\u001b[0m\u001b[0;34m\u001b[0m\u001b[0;34m\u001b[0m\u001b[0m\n\u001b[0m",
      "\u001b[0;32m~/opt/anaconda3/envs/tf2env/lib/python3.7/_strptime.py\u001b[0m in \u001b[0;36m_strptime_datetime\u001b[0;34m(cls, data_string, format)\u001b[0m\n\u001b[1;32m    575\u001b[0m     \"\"\"Return a class cls instance based on the input string and the\n\u001b[1;32m    576\u001b[0m     format string.\"\"\"\n\u001b[0;32m--> 577\u001b[0;31m     \u001b[0mtt\u001b[0m\u001b[0;34m,\u001b[0m \u001b[0mfraction\u001b[0m\u001b[0;34m,\u001b[0m \u001b[0mgmtoff_fraction\u001b[0m \u001b[0;34m=\u001b[0m \u001b[0m_strptime\u001b[0m\u001b[0;34m(\u001b[0m\u001b[0mdata_string\u001b[0m\u001b[0;34m,\u001b[0m \u001b[0mformat\u001b[0m\u001b[0;34m)\u001b[0m\u001b[0;34m\u001b[0m\u001b[0;34m\u001b[0m\u001b[0m\n\u001b[0m\u001b[1;32m    578\u001b[0m     \u001b[0mtzname\u001b[0m\u001b[0;34m,\u001b[0m \u001b[0mgmtoff\u001b[0m \u001b[0;34m=\u001b[0m \u001b[0mtt\u001b[0m\u001b[0;34m[\u001b[0m\u001b[0;34m-\u001b[0m\u001b[0;36m2\u001b[0m\u001b[0;34m:\u001b[0m\u001b[0;34m]\u001b[0m\u001b[0;34m\u001b[0m\u001b[0;34m\u001b[0m\u001b[0m\n\u001b[1;32m    579\u001b[0m     \u001b[0margs\u001b[0m \u001b[0;34m=\u001b[0m \u001b[0mtt\u001b[0m\u001b[0;34m[\u001b[0m\u001b[0;34m:\u001b[0m\u001b[0;36m6\u001b[0m\u001b[0;34m]\u001b[0m \u001b[0;34m+\u001b[0m \u001b[0;34m(\u001b[0m\u001b[0mfraction\u001b[0m\u001b[0;34m,\u001b[0m\u001b[0;34m)\u001b[0m\u001b[0;34m\u001b[0m\u001b[0;34m\u001b[0m\u001b[0m\n",
      "\u001b[0;32m~/opt/anaconda3/envs/tf2env/lib/python3.7/_strptime.py\u001b[0m in \u001b[0;36m_strptime\u001b[0;34m(data_string, format)\u001b[0m\n\u001b[1;32m    357\u001b[0m     \u001b[0;32mif\u001b[0m \u001b[0;32mnot\u001b[0m \u001b[0mfound\u001b[0m\u001b[0;34m:\u001b[0m\u001b[0;34m\u001b[0m\u001b[0;34m\u001b[0m\u001b[0m\n\u001b[1;32m    358\u001b[0m         raise ValueError(\"time data %r does not match format %r\" %\n\u001b[0;32m--> 359\u001b[0;31m                          (data_string, format))\n\u001b[0m\u001b[1;32m    360\u001b[0m     \u001b[0;32mif\u001b[0m \u001b[0mlen\u001b[0m\u001b[0;34m(\u001b[0m\u001b[0mdata_string\u001b[0m\u001b[0;34m)\u001b[0m \u001b[0;34m!=\u001b[0m \u001b[0mfound\u001b[0m\u001b[0;34m.\u001b[0m\u001b[0mend\u001b[0m\u001b[0;34m(\u001b[0m\u001b[0;34m)\u001b[0m\u001b[0;34m:\u001b[0m\u001b[0;34m\u001b[0m\u001b[0;34m\u001b[0m\u001b[0m\n\u001b[1;32m    361\u001b[0m         raise ValueError(\"unconverted data remains: %s\" %\n",
      "\u001b[0;31mValueError\u001b[0m: time data '1912-09-08' does not match format '%m/%d/%y'"
     ]
    }
   ],
   "source": [
    "datetime.strptime(string, '%m/%d/%y').year"
   ]
  },
  {
   "cell_type": "code",
   "execution_count": 10,
   "metadata": {},
   "outputs": [],
   "source": [
    "df2['debut'].fillna(0, inplace=True)\n",
    "df2['finalGame'].fillna(0, inplace=True)"
   ]
  },
  {
   "cell_type": "code",
   "execution_count": 11,
   "metadata": {},
   "outputs": [],
   "source": [
    "def get_debut_year(player):\n",
    "    birth_year = player['birthYear']\n",
    "    debut_as_string = str(player['debut'])\n",
    "    try:\n",
    "        debut_year = datetime.strptime(debut_as_string, '%m/%d/%y').year\n",
    "    except ValueError:\n",
    "        if debut_as_string == '0':\n",
    "            debut_year = 0\n",
    "        else:\n",
    "            debut_year = datetime.strptime(debut_as_string, '%Y-%m-%d').year\n",
    "    if debut_year - birth_year > 50:\n",
    "        debut_year = debut_year - 100\n",
    "    return debut_year"
   ]
  },
  {
   "cell_type": "code",
   "execution_count": 12,
   "metadata": {},
   "outputs": [],
   "source": [
    "def get_final_year(player):\n",
    "    debut_year = get_debut_year(player)\n",
    "    final_as_string = str(player['finalGame'])\n",
    "    try:\n",
    "        final_year = datetime.strptime(final_as_string, '%m/%d/%y').year\n",
    "    except ValueError:\n",
    "        if final_as_string == '0':\n",
    "            final_year = 0\n",
    "        else:\n",
    "            final_year = datetime.strptime(final_as_string, '%Y-%m-%d').year\n",
    "    if final_year - debut_year > 50:\n",
    "        final_year = final_year - 100\n",
    "    return final_year"
   ]
  },
  {
   "cell_type": "code",
   "execution_count": 13,
   "metadata": {},
   "outputs": [],
   "source": [
    "df2['debutYear'] = df2.apply(get_debut_year, axis=1)\n",
    "df2['finalYear'] = df2.apply(get_final_year, axis=1)"
   ]
  },
  {
   "cell_type": "code",
   "execution_count": 14,
   "metadata": {},
   "outputs": [],
   "source": [
    "df2.drop(columns=['debut', 'finalGame'], inplace=True)"
   ]
  },
  {
   "cell_type": "code",
   "execution_count": 15,
   "metadata": {},
   "outputs": [],
   "source": [
    "# This will be exported to a separate module - retroid_dict.py\n",
    "ids = pd.read_csv('../core/data/lahman/mlb_data/People.csv')\n",
    "ids = ids[['playerID', 'retroID']]\n",
    "id_dict = ids.set_index('playerID').to_dict()['retroID']\n",
    "\n",
    "def get_retroid(id):\n",
    "    return id_dict[id] if id_dict is not None else ''"
   ]
  },
  {
   "cell_type": "code",
   "execution_count": 16,
   "metadata": {},
   "outputs": [],
   "source": [
    "df1['playerID'] = df1['playerID'].apply(get_retroid)\n",
    "df2['playerID'] = df2['playerID'].apply(get_retroid)\n",
    "df1.rename(columns={'playerID': 'retroID'}, inplace=True)\n",
    "df2.rename(columns={'playerID': 'retroID'}, inplace=True)"
   ]
  },
  {
   "cell_type": "code",
   "execution_count": 17,
   "metadata": {},
   "outputs": [
    {
     "data": {
      "text/html": [
       "<div>\n",
       "<style scoped>\n",
       "    .dataframe tbody tr th:only-of-type {\n",
       "        vertical-align: middle;\n",
       "    }\n",
       "\n",
       "    .dataframe tbody tr th {\n",
       "        vertical-align: top;\n",
       "    }\n",
       "\n",
       "    .dataframe thead th {\n",
       "        text-align: right;\n",
       "    }\n",
       "</style>\n",
       "<table border=\"1\" class=\"dataframe\">\n",
       "  <thead>\n",
       "    <tr style=\"text-align: right;\">\n",
       "      <th></th>\n",
       "      <th>retroID</th>\n",
       "      <th>nameFirst</th>\n",
       "      <th>nameLast</th>\n",
       "      <th>birthYear</th>\n",
       "      <th>bats</th>\n",
       "      <th>throws</th>\n",
       "      <th>weight</th>\n",
       "      <th>height</th>\n",
       "      <th>debutYear</th>\n",
       "      <th>finalYear</th>\n",
       "    </tr>\n",
       "  </thead>\n",
       "  <tbody>\n",
       "    <tr>\n",
       "      <th>14447</th>\n",
       "      <td>puelc001</td>\n",
       "      <td>Cesar</td>\n",
       "      <td>Puello</td>\n",
       "      <td>1991.0</td>\n",
       "      <td>R</td>\n",
       "      <td>R</td>\n",
       "      <td>220.0</td>\n",
       "      <td>74.0</td>\n",
       "      <td>2017</td>\n",
       "      <td>2019</td>\n",
       "    </tr>\n",
       "  </tbody>\n",
       "</table>\n",
       "</div>"
      ],
      "text/plain": [
       "        retroID nameFirst nameLast  birthYear bats throws  weight  height  \\\n",
       "14447  puelc001     Cesar   Puello     1991.0    R      R   220.0    74.0   \n",
       "\n",
       "       debutYear  finalYear  \n",
       "14447       2017       2019  "
      ]
     },
     "execution_count": 17,
     "metadata": {},
     "output_type": "execute_result"
    }
   ],
   "source": [
    "df2[df2['retroID'] == 'puelc001']"
   ]
  },
  {
   "cell_type": "code",
   "execution_count": 18,
   "metadata": {},
   "outputs": [],
   "source": [
    "df1 = df1.groupby('retroID').agg(lambda pos: pd.Series.mode(pos)[0])"
   ]
  },
  {
   "cell_type": "code",
   "execution_count": 19,
   "metadata": {},
   "outputs": [],
   "source": [
    "df1 = df1.reset_index()"
   ]
  },
  {
   "cell_type": "code",
   "execution_count": 20,
   "metadata": {},
   "outputs": [],
   "source": [
    "df2 = df2[df2['retroID'].notnull()]\n",
    "# df2"
   ]
  },
  {
   "cell_type": "code",
   "execution_count": 21,
   "metadata": {},
   "outputs": [
    {
     "data": {
      "text/plain": [
       "(15293, 2)"
      ]
     },
     "execution_count": 21,
     "metadata": {},
     "output_type": "execute_result"
    }
   ],
   "source": [
    "df1.shape"
   ]
  },
  {
   "cell_type": "code",
   "execution_count": 22,
   "metadata": {},
   "outputs": [
    {
     "data": {
      "text/plain": [
       "(15293, 2)"
      ]
     },
     "execution_count": 22,
     "metadata": {},
     "output_type": "execute_result"
    }
   ],
   "source": [
    "df1[df1['retroID'].isin(df2['retroID'])].shape"
   ]
  },
  {
   "cell_type": "code",
   "execution_count": 23,
   "metadata": {},
   "outputs": [],
   "source": [
    "df = pd.merge(df1, df2, on='retroID')"
   ]
  },
  {
   "cell_type": "code",
   "execution_count": 24,
   "metadata": {},
   "outputs": [
    {
     "data": {
      "text/html": [
       "<div>\n",
       "<style scoped>\n",
       "    .dataframe tbody tr th:only-of-type {\n",
       "        vertical-align: middle;\n",
       "    }\n",
       "\n",
       "    .dataframe tbody tr th {\n",
       "        vertical-align: top;\n",
       "    }\n",
       "\n",
       "    .dataframe thead th {\n",
       "        text-align: right;\n",
       "    }\n",
       "</style>\n",
       "<table border=\"1\" class=\"dataframe\">\n",
       "  <thead>\n",
       "    <tr style=\"text-align: right;\">\n",
       "      <th></th>\n",
       "      <th>retroID</th>\n",
       "      <th>POS</th>\n",
       "      <th>nameFirst</th>\n",
       "      <th>nameLast</th>\n",
       "      <th>birthYear</th>\n",
       "      <th>bats</th>\n",
       "      <th>throws</th>\n",
       "      <th>weight</th>\n",
       "      <th>height</th>\n",
       "      <th>debutYear</th>\n",
       "      <th>finalYear</th>\n",
       "    </tr>\n",
       "  </thead>\n",
       "  <tbody>\n",
       "    <tr>\n",
       "      <th>0</th>\n",
       "      <td>aardd001</td>\n",
       "      <td>P</td>\n",
       "      <td>David</td>\n",
       "      <td>Aardsma</td>\n",
       "      <td>1981.0</td>\n",
       "      <td>R</td>\n",
       "      <td>R</td>\n",
       "      <td>215.0</td>\n",
       "      <td>75.0</td>\n",
       "      <td>2004</td>\n",
       "      <td>2015</td>\n",
       "    </tr>\n",
       "    <tr>\n",
       "      <th>1</th>\n",
       "      <td>aaroh101</td>\n",
       "      <td>OF</td>\n",
       "      <td>Hank</td>\n",
       "      <td>Aaron</td>\n",
       "      <td>1934.0</td>\n",
       "      <td>R</td>\n",
       "      <td>R</td>\n",
       "      <td>180.0</td>\n",
       "      <td>72.0</td>\n",
       "      <td>1954</td>\n",
       "      <td>1976</td>\n",
       "    </tr>\n",
       "    <tr>\n",
       "      <th>2</th>\n",
       "      <td>aarot101</td>\n",
       "      <td>1B</td>\n",
       "      <td>Tommie</td>\n",
       "      <td>Aaron</td>\n",
       "      <td>1939.0</td>\n",
       "      <td>R</td>\n",
       "      <td>R</td>\n",
       "      <td>190.0</td>\n",
       "      <td>75.0</td>\n",
       "      <td>1962</td>\n",
       "      <td>1971</td>\n",
       "    </tr>\n",
       "    <tr>\n",
       "      <th>3</th>\n",
       "      <td>aased001</td>\n",
       "      <td>P</td>\n",
       "      <td>Don</td>\n",
       "      <td>Aase</td>\n",
       "      <td>1954.0</td>\n",
       "      <td>R</td>\n",
       "      <td>R</td>\n",
       "      <td>190.0</td>\n",
       "      <td>75.0</td>\n",
       "      <td>1977</td>\n",
       "      <td>1990</td>\n",
       "    </tr>\n",
       "    <tr>\n",
       "      <th>4</th>\n",
       "      <td>abada001</td>\n",
       "      <td>1B</td>\n",
       "      <td>Andy</td>\n",
       "      <td>Abad</td>\n",
       "      <td>1972.0</td>\n",
       "      <td>L</td>\n",
       "      <td>L</td>\n",
       "      <td>184.0</td>\n",
       "      <td>73.0</td>\n",
       "      <td>2001</td>\n",
       "      <td>2006</td>\n",
       "    </tr>\n",
       "    <tr>\n",
       "      <th>...</th>\n",
       "      <td>...</td>\n",
       "      <td>...</td>\n",
       "      <td>...</td>\n",
       "      <td>...</td>\n",
       "      <td>...</td>\n",
       "      <td>...</td>\n",
       "      <td>...</td>\n",
       "      <td>...</td>\n",
       "      <td>...</td>\n",
       "      <td>...</td>\n",
       "      <td>...</td>\n",
       "    </tr>\n",
       "    <tr>\n",
       "      <th>15288</th>\n",
       "      <td>zupcb001</td>\n",
       "      <td>OF</td>\n",
       "      <td>Bob</td>\n",
       "      <td>Zupcic</td>\n",
       "      <td>1966.0</td>\n",
       "      <td>R</td>\n",
       "      <td>R</td>\n",
       "      <td>220.0</td>\n",
       "      <td>76.0</td>\n",
       "      <td>1991</td>\n",
       "      <td>1994</td>\n",
       "    </tr>\n",
       "    <tr>\n",
       "      <th>15289</th>\n",
       "      <td>zupof101</td>\n",
       "      <td>C</td>\n",
       "      <td>Frank</td>\n",
       "      <td>Zupo</td>\n",
       "      <td>1939.0</td>\n",
       "      <td>L</td>\n",
       "      <td>R</td>\n",
       "      <td>182.0</td>\n",
       "      <td>71.0</td>\n",
       "      <td>1957</td>\n",
       "      <td>1961</td>\n",
       "    </tr>\n",
       "    <tr>\n",
       "      <th>15290</th>\n",
       "      <td>zuveg101</td>\n",
       "      <td>P</td>\n",
       "      <td>George</td>\n",
       "      <td>Zuverink</td>\n",
       "      <td>1924.0</td>\n",
       "      <td>R</td>\n",
       "      <td>R</td>\n",
       "      <td>195.0</td>\n",
       "      <td>76.0</td>\n",
       "      <td>1951</td>\n",
       "      <td>1959</td>\n",
       "    </tr>\n",
       "    <tr>\n",
       "      <th>15291</th>\n",
       "      <td>zuvep001</td>\n",
       "      <td>SS</td>\n",
       "      <td>Paul</td>\n",
       "      <td>Zuvella</td>\n",
       "      <td>1958.0</td>\n",
       "      <td>R</td>\n",
       "      <td>R</td>\n",
       "      <td>173.0</td>\n",
       "      <td>72.0</td>\n",
       "      <td>1982</td>\n",
       "      <td>1991</td>\n",
       "    </tr>\n",
       "    <tr>\n",
       "      <th>15292</th>\n",
       "      <td>zycht001</td>\n",
       "      <td>P</td>\n",
       "      <td>Tony</td>\n",
       "      <td>Zych</td>\n",
       "      <td>1990.0</td>\n",
       "      <td>R</td>\n",
       "      <td>R</td>\n",
       "      <td>190.0</td>\n",
       "      <td>75.0</td>\n",
       "      <td>2015</td>\n",
       "      <td>2017</td>\n",
       "    </tr>\n",
       "  </tbody>\n",
       "</table>\n",
       "<p>15293 rows × 11 columns</p>\n",
       "</div>"
      ],
      "text/plain": [
       "        retroID POS nameFirst  nameLast  birthYear bats throws  weight  \\\n",
       "0      aardd001   P     David   Aardsma     1981.0    R      R   215.0   \n",
       "1      aaroh101  OF      Hank     Aaron     1934.0    R      R   180.0   \n",
       "2      aarot101  1B    Tommie     Aaron     1939.0    R      R   190.0   \n",
       "3      aased001   P       Don      Aase     1954.0    R      R   190.0   \n",
       "4      abada001  1B      Andy      Abad     1972.0    L      L   184.0   \n",
       "...         ...  ..       ...       ...        ...  ...    ...     ...   \n",
       "15288  zupcb001  OF       Bob    Zupcic     1966.0    R      R   220.0   \n",
       "15289  zupof101   C     Frank      Zupo     1939.0    L      R   182.0   \n",
       "15290  zuveg101   P    George  Zuverink     1924.0    R      R   195.0   \n",
       "15291  zuvep001  SS      Paul   Zuvella     1958.0    R      R   173.0   \n",
       "15292  zycht001   P      Tony      Zych     1990.0    R      R   190.0   \n",
       "\n",
       "       height  debutYear  finalYear  \n",
       "0        75.0       2004       2015  \n",
       "1        72.0       1954       1976  \n",
       "2        75.0       1962       1971  \n",
       "3        75.0       1977       1990  \n",
       "4        73.0       2001       2006  \n",
       "...       ...        ...        ...  \n",
       "15288    76.0       1991       1994  \n",
       "15289    71.0       1957       1961  \n",
       "15290    76.0       1951       1959  \n",
       "15291    72.0       1982       1991  \n",
       "15292    75.0       2015       2017  \n",
       "\n",
       "[15293 rows x 11 columns]"
      ]
     },
     "execution_count": 24,
     "metadata": {},
     "output_type": "execute_result"
    }
   ],
   "source": [
    "df"
   ]
  },
  {
   "cell_type": "code",
   "execution_count": 25,
   "metadata": {},
   "outputs": [
    {
     "data": {
      "text/html": [
       "<div>\n",
       "<style scoped>\n",
       "    .dataframe tbody tr th:only-of-type {\n",
       "        vertical-align: middle;\n",
       "    }\n",
       "\n",
       "    .dataframe tbody tr th {\n",
       "        vertical-align: top;\n",
       "    }\n",
       "\n",
       "    .dataframe thead th {\n",
       "        text-align: right;\n",
       "    }\n",
       "</style>\n",
       "<table border=\"1\" class=\"dataframe\">\n",
       "  <thead>\n",
       "    <tr style=\"text-align: right;\">\n",
       "      <th></th>\n",
       "      <th>retroID</th>\n",
       "      <th>POS</th>\n",
       "      <th>nameFirst</th>\n",
       "      <th>nameLast</th>\n",
       "      <th>birthYear</th>\n",
       "      <th>bats</th>\n",
       "      <th>throws</th>\n",
       "      <th>weight</th>\n",
       "      <th>height</th>\n",
       "      <th>debutYear</th>\n",
       "      <th>finalYear</th>\n",
       "    </tr>\n",
       "  </thead>\n",
       "  <tbody>\n",
       "  </tbody>\n",
       "</table>\n",
       "</div>"
      ],
      "text/plain": [
       "Empty DataFrame\n",
       "Columns: [retroID, POS, nameFirst, nameLast, birthYear, bats, throws, weight, height, debutYear, finalYear]\n",
       "Index: []"
      ]
     },
     "execution_count": 25,
     "metadata": {},
     "output_type": "execute_result"
    }
   ],
   "source": [
    "df[df['bats'] == 0]"
   ]
  },
  {
   "cell_type": "code",
   "execution_count": 26,
   "metadata": {},
   "outputs": [
    {
     "data": {
      "text/plain": [
       "retroID      False\n",
       "POS          False\n",
       "nameFirst    False\n",
       "nameLast     False\n",
       "birthYear    False\n",
       "bats          True\n",
       "throws       False\n",
       "weight        True\n",
       "height        True\n",
       "debutYear    False\n",
       "finalYear    False\n",
       "dtype: bool"
      ]
     },
     "execution_count": 26,
     "metadata": {},
     "output_type": "execute_result"
    }
   ],
   "source": [
    "df.isnull().any()"
   ]
  },
  {
   "cell_type": "code",
   "execution_count": 29,
   "metadata": {},
   "outputs": [],
   "source": [
    "mean_weight = df['weight'].mean()\n",
    "mean_height = df['height'].mean()\n",
    "df['weight'].fillna(mean_weight, inplace=True)\n",
    "df['height'].fillna(mean_height, inplace=True)"
   ]
  },
  {
   "cell_type": "code",
   "execution_count": 30,
   "metadata": {},
   "outputs": [
    {
     "data": {
      "text/plain": [
       "retroID      False\n",
       "POS          False\n",
       "nameFirst    False\n",
       "nameLast     False\n",
       "birthYear    False\n",
       "bats          True\n",
       "throws       False\n",
       "weight       False\n",
       "height       False\n",
       "debutYear    False\n",
       "finalYear    False\n",
       "dtype: bool"
      ]
     },
     "execution_count": 30,
     "metadata": {},
     "output_type": "execute_result"
    }
   ],
   "source": [
    "df.isnull().any()"
   ]
  },
  {
   "cell_type": "code",
   "execution_count": null,
   "metadata": {},
   "outputs": [],
   "source": []
  }
 ],
 "metadata": {
  "kernelspec": {
   "display_name": "Python 3.7.6 64-bit ('tf2env': conda)",
   "language": "python",
   "name": "python37664bittf2envconda7a5d2b04ce96452f92a2890aed430c66"
  },
  "language_info": {
   "codemirror_mode": {
    "name": "ipython",
    "version": 3
   },
   "file_extension": ".py",
   "mimetype": "text/x-python",
   "name": "python",
   "nbconvert_exporter": "python",
   "pygments_lexer": "ipython3",
   "version": "3.7.7"
  }
 },
 "nbformat": 4,
 "nbformat_minor": 4
}
