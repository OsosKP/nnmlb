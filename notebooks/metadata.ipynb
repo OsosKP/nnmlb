{
 "cells": [
  {
   "cell_type": "code",
   "execution_count": 1,
   "metadata": {},
   "outputs": [],
   "source": [
    "import pandas as pd"
   ]
  },
  {
   "cell_type": "code",
   "execution_count": 2,
   "metadata": {},
   "outputs": [],
   "source": [
    "df1 = pd.read_csv('../core/data/lahman/mlb_data/Fielding.csv')\n",
    "df2 = pd.read_csv('../core/data/lahman/mlb_data/People.csv')"
   ]
  },
  {
   "cell_type": "code",
   "execution_count": 3,
   "metadata": {},
   "outputs": [
    {
     "data": {
      "text/plain": [
       "Index(['playerID', 'yearID', 'stint', 'teamID', 'lgID', 'POS', 'G', 'GS',\n",
       "       'InnOuts', 'PO', 'A', 'E', 'DP', 'PB', 'WP', 'SB', 'CS', 'ZR'],\n",
       "      dtype='object')"
      ]
     },
     "execution_count": 3,
     "metadata": {},
     "output_type": "execute_result"
    }
   ],
   "source": [
    "df1.columns"
   ]
  },
  {
   "cell_type": "code",
   "execution_count": 4,
   "metadata": {},
   "outputs": [],
   "source": [
    "fielding_columns = ['playerID', 'POS']\n",
    "df1 = df1[fielding_columns]"
   ]
  },
  {
   "cell_type": "code",
   "execution_count": 5,
   "metadata": {},
   "outputs": [
    {
     "data": {
      "text/plain": [
       "Index(['playerID', 'birthYear', 'birthMonth', 'birthDay', 'birthCountry',\n",
       "       'birthState', 'birthCity', 'deathYear', 'deathMonth', 'deathDay',\n",
       "       'deathCountry', 'deathState', 'deathCity', 'nameFirst', 'nameLast',\n",
       "       'nameGiven', 'weight', 'height', 'bats', 'throws', 'debut', 'finalGame',\n",
       "       'retroID', 'bbrefID'],\n",
       "      dtype='object')"
      ]
     },
     "execution_count": 5,
     "metadata": {},
     "output_type": "execute_result"
    }
   ],
   "source": [
    "df2.columns"
   ]
  },
  {
   "cell_type": "code",
   "execution_count": 6,
   "metadata": {},
   "outputs": [],
   "source": [
    "people_columns = ['playerID', 'birthYear', 'bats', 'throws', 'weight', 'height']\n",
    "df2 = df2[people_columns]"
   ]
  },
  {
   "cell_type": "code",
   "execution_count": 7,
   "metadata": {},
   "outputs": [],
   "source": [
    "# This will be exported to a separate module - retroid_dict.py\n",
    "ids = pd.read_csv('../core/data/lahman/mlb_data/People.csv')\n",
    "ids = ids[['playerID', 'retroID']]\n",
    "id_dict = ids.set_index('playerID').to_dict()['retroID']\n",
    "\n",
    "def get_retroid(id):\n",
    "    return id_dict[id] if id_dict is not None else ''"
   ]
  },
  {
   "cell_type": "code",
   "execution_count": 8,
   "metadata": {},
   "outputs": [],
   "source": [
    "df1['playerID'] = df1['playerID'].apply(get_retroid)\n",
    "df2['playerID'] = df2['playerID'].apply(get_retroid)\n",
    "df1.rename(columns={'playerID': 'retroID'}, inplace=True)\n",
    "df2.rename(columns={'playerID': 'retroID'}, inplace=True)"
   ]
  },
  {
   "cell_type": "code",
   "execution_count": 9,
   "metadata": {},
   "outputs": [],
   "source": [
    "df1 = df1.groupby('retroID').agg(pd.Series.mode)"
   ]
  },
  {
   "cell_type": "code",
   "execution_count": 10,
   "metadata": {},
   "outputs": [
    {
     "data": {
      "text/html": [
       "<div>\n",
       "<style scoped>\n",
       "    .dataframe tbody tr th:only-of-type {\n",
       "        vertical-align: middle;\n",
       "    }\n",
       "\n",
       "    .dataframe tbody tr th {\n",
       "        vertical-align: top;\n",
       "    }\n",
       "\n",
       "    .dataframe thead th {\n",
       "        text-align: right;\n",
       "    }\n",
       "</style>\n",
       "<table border=\"1\" class=\"dataframe\">\n",
       "  <thead>\n",
       "    <tr style=\"text-align: right;\">\n",
       "      <th></th>\n",
       "      <th>retroID</th>\n",
       "      <th>POS</th>\n",
       "    </tr>\n",
       "  </thead>\n",
       "  <tbody>\n",
       "    <tr>\n",
       "      <th>0</th>\n",
       "      <td>aardd001</td>\n",
       "      <td>P</td>\n",
       "    </tr>\n",
       "    <tr>\n",
       "      <th>1</th>\n",
       "      <td>aaroh101</td>\n",
       "      <td>OF</td>\n",
       "    </tr>\n",
       "    <tr>\n",
       "      <th>2</th>\n",
       "      <td>aarot101</td>\n",
       "      <td>1B</td>\n",
       "    </tr>\n",
       "    <tr>\n",
       "      <th>3</th>\n",
       "      <td>aased001</td>\n",
       "      <td>P</td>\n",
       "    </tr>\n",
       "    <tr>\n",
       "      <th>4</th>\n",
       "      <td>abada001</td>\n",
       "      <td>1B</td>\n",
       "    </tr>\n",
       "    <tr>\n",
       "      <th>...</th>\n",
       "      <td>...</td>\n",
       "      <td>...</td>\n",
       "    </tr>\n",
       "    <tr>\n",
       "      <th>15026</th>\n",
       "      <td>zupcb001</td>\n",
       "      <td>OF</td>\n",
       "    </tr>\n",
       "    <tr>\n",
       "      <th>15027</th>\n",
       "      <td>zupof101</td>\n",
       "      <td>C</td>\n",
       "    </tr>\n",
       "    <tr>\n",
       "      <th>15028</th>\n",
       "      <td>zuveg101</td>\n",
       "      <td>P</td>\n",
       "    </tr>\n",
       "    <tr>\n",
       "      <th>15029</th>\n",
       "      <td>zuvep001</td>\n",
       "      <td>SS</td>\n",
       "    </tr>\n",
       "    <tr>\n",
       "      <th>15030</th>\n",
       "      <td>zycht001</td>\n",
       "      <td>P</td>\n",
       "    </tr>\n",
       "  </tbody>\n",
       "</table>\n",
       "<p>15031 rows × 2 columns</p>\n",
       "</div>"
      ],
      "text/plain": [
       "        retroID POS\n",
       "0      aardd001   P\n",
       "1      aaroh101  OF\n",
       "2      aarot101  1B\n",
       "3      aased001   P\n",
       "4      abada001  1B\n",
       "...         ...  ..\n",
       "15026  zupcb001  OF\n",
       "15027  zupof101   C\n",
       "15028  zuveg101   P\n",
       "15029  zuvep001  SS\n",
       "15030  zycht001   P\n",
       "\n",
       "[15031 rows x 2 columns]"
      ]
     },
     "execution_count": 10,
     "metadata": {},
     "output_type": "execute_result"
    }
   ],
   "source": [
    "df1 = df1.reset_index()\n",
    "df1"
   ]
  },
  {
   "cell_type": "code",
   "execution_count": 11,
   "metadata": {},
   "outputs": [],
   "source": [
    "df2 = df2[df2['retroID'].notnull()]"
   ]
  },
  {
   "cell_type": "code",
   "execution_count": 12,
   "metadata": {},
   "outputs": [
    {
     "data": {
      "text/html": [
       "<div>\n",
       "<style scoped>\n",
       "    .dataframe tbody tr th:only-of-type {\n",
       "        vertical-align: middle;\n",
       "    }\n",
       "\n",
       "    .dataframe tbody tr th {\n",
       "        vertical-align: top;\n",
       "    }\n",
       "\n",
       "    .dataframe thead th {\n",
       "        text-align: right;\n",
       "    }\n",
       "</style>\n",
       "<table border=\"1\" class=\"dataframe\">\n",
       "  <thead>\n",
       "    <tr style=\"text-align: right;\">\n",
       "      <th></th>\n",
       "      <th>retroID</th>\n",
       "      <th>birthYear</th>\n",
       "      <th>bats</th>\n",
       "      <th>throws</th>\n",
       "      <th>weight</th>\n",
       "      <th>height</th>\n",
       "    </tr>\n",
       "  </thead>\n",
       "  <tbody>\n",
       "    <tr>\n",
       "      <th>0</th>\n",
       "      <td>omaro101</td>\n",
       "      <td>1891.0</td>\n",
       "      <td>R</td>\n",
       "      <td>R</td>\n",
       "      <td>155.0</td>\n",
       "      <td>69.0</td>\n",
       "    </tr>\n",
       "    <tr>\n",
       "      <th>1</th>\n",
       "      <td>steeb103</td>\n",
       "      <td>1894.0</td>\n",
       "      <td>B</td>\n",
       "      <td>L</td>\n",
       "      <td>175.0</td>\n",
       "      <td>70.0</td>\n",
       "    </tr>\n",
       "    <tr>\n",
       "      <th>2</th>\n",
       "      <td>fisht103</td>\n",
       "      <td>1886.0</td>\n",
       "      <td>R</td>\n",
       "      <td>R</td>\n",
       "      <td>170.0</td>\n",
       "      <td>69.0</td>\n",
       "    </tr>\n",
       "    <tr>\n",
       "      <th>3</th>\n",
       "      <td>kanef101</td>\n",
       "      <td>1895.0</td>\n",
       "      <td>L</td>\n",
       "      <td>R</td>\n",
       "      <td>175.0</td>\n",
       "      <td>71.0</td>\n",
       "    </tr>\n",
       "    <tr>\n",
       "      <th>4</th>\n",
       "      <td>kingl101</td>\n",
       "      <td>1894.0</td>\n",
       "      <td>R</td>\n",
       "      <td>R</td>\n",
       "      <td>150.0</td>\n",
       "      <td>70.0</td>\n",
       "    </tr>\n",
       "    <tr>\n",
       "      <th>...</th>\n",
       "      <td>...</td>\n",
       "      <td>...</td>\n",
       "      <td>...</td>\n",
       "      <td>...</td>\n",
       "      <td>...</td>\n",
       "      <td>...</td>\n",
       "    </tr>\n",
       "    <tr>\n",
       "      <th>17293</th>\n",
       "      <td>willj801</td>\n",
       "      <td>1847.0</td>\n",
       "      <td>NaN</td>\n",
       "      <td>NaN</td>\n",
       "      <td>NaN</td>\n",
       "      <td>NaN</td>\n",
       "    </tr>\n",
       "    <tr>\n",
       "      <th>17296</th>\n",
       "      <td>winkb801</td>\n",
       "      <td>1930.0</td>\n",
       "      <td>R</td>\n",
       "      <td>R</td>\n",
       "      <td>168.0</td>\n",
       "      <td>69.0</td>\n",
       "    </tr>\n",
       "    <tr>\n",
       "      <th>17297</th>\n",
       "      <td>wriga801</td>\n",
       "      <td>1842.0</td>\n",
       "      <td>NaN</td>\n",
       "      <td>NaN</td>\n",
       "      <td>NaN</td>\n",
       "      <td>NaN</td>\n",
       "    </tr>\n",
       "    <tr>\n",
       "      <th>17299</th>\n",
       "      <td>younn801</td>\n",
       "      <td>1840.0</td>\n",
       "      <td>NaN</td>\n",
       "      <td>NaN</td>\n",
       "      <td>NaN</td>\n",
       "      <td>NaN</td>\n",
       "    </tr>\n",
       "    <tr>\n",
       "      <th>17300</th>\n",
       "      <td>zeihh101</td>\n",
       "      <td>1862.0</td>\n",
       "      <td>NaN</td>\n",
       "      <td>NaN</td>\n",
       "      <td>149.0</td>\n",
       "      <td>70.0</td>\n",
       "    </tr>\n",
       "  </tbody>\n",
       "</table>\n",
       "<p>17245 rows × 6 columns</p>\n",
       "</div>"
      ],
      "text/plain": [
       "        retroID  birthYear bats throws  weight  height\n",
       "0      omaro101     1891.0    R      R   155.0    69.0\n",
       "1      steeb103     1894.0    B      L   175.0    70.0\n",
       "2      fisht103     1886.0    R      R   170.0    69.0\n",
       "3      kanef101     1895.0    L      R   175.0    71.0\n",
       "4      kingl101     1894.0    R      R   150.0    70.0\n",
       "...         ...        ...  ...    ...     ...     ...\n",
       "17293  willj801     1847.0  NaN    NaN     NaN     NaN\n",
       "17296  winkb801     1930.0    R      R   168.0    69.0\n",
       "17297  wriga801     1842.0  NaN    NaN     NaN     NaN\n",
       "17299  younn801     1840.0  NaN    NaN     NaN     NaN\n",
       "17300  zeihh101     1862.0  NaN    NaN   149.0    70.0\n",
       "\n",
       "[17245 rows x 6 columns]"
      ]
     },
     "execution_count": 12,
     "metadata": {},
     "output_type": "execute_result"
    }
   ],
   "source": [
    "df2"
   ]
  },
  {
   "cell_type": "code",
   "execution_count": 13,
   "metadata": {},
   "outputs": [
    {
     "data": {
      "text/plain": [
       "(15031, 2)"
      ]
     },
     "execution_count": 13,
     "metadata": {},
     "output_type": "execute_result"
    }
   ],
   "source": [
    "df1.shape"
   ]
  },
  {
   "cell_type": "code",
   "execution_count": 17,
   "metadata": {},
   "outputs": [
    {
     "data": {
      "text/plain": [
       "(15031, 2)"
      ]
     },
     "execution_count": 17,
     "metadata": {},
     "output_type": "execute_result"
    }
   ],
   "source": [
    "df1[df1['retroID'].isin(df2['retroID'])].shape"
   ]
  },
  {
   "cell_type": "code",
   "execution_count": 18,
   "metadata": {},
   "outputs": [
    {
     "data": {
      "text/html": [
       "<div>\n",
       "<style scoped>\n",
       "    .dataframe tbody tr th:only-of-type {\n",
       "        vertical-align: middle;\n",
       "    }\n",
       "\n",
       "    .dataframe tbody tr th {\n",
       "        vertical-align: top;\n",
       "    }\n",
       "\n",
       "    .dataframe thead th {\n",
       "        text-align: right;\n",
       "    }\n",
       "</style>\n",
       "<table border=\"1\" class=\"dataframe\">\n",
       "  <thead>\n",
       "    <tr style=\"text-align: right;\">\n",
       "      <th></th>\n",
       "      <th>retroID</th>\n",
       "      <th>POS</th>\n",
       "    </tr>\n",
       "  </thead>\n",
       "  <tbody>\n",
       "    <tr>\n",
       "      <th>0</th>\n",
       "      <td>aardd001</td>\n",
       "      <td>P</td>\n",
       "    </tr>\n",
       "    <tr>\n",
       "      <th>1</th>\n",
       "      <td>aaroh101</td>\n",
       "      <td>OF</td>\n",
       "    </tr>\n",
       "    <tr>\n",
       "      <th>2</th>\n",
       "      <td>aarot101</td>\n",
       "      <td>1B</td>\n",
       "    </tr>\n",
       "    <tr>\n",
       "      <th>3</th>\n",
       "      <td>aased001</td>\n",
       "      <td>P</td>\n",
       "    </tr>\n",
       "    <tr>\n",
       "      <th>4</th>\n",
       "      <td>abada001</td>\n",
       "      <td>1B</td>\n",
       "    </tr>\n",
       "  </tbody>\n",
       "</table>\n",
       "</div>"
      ],
      "text/plain": [
       "    retroID POS\n",
       "0  aardd001   P\n",
       "1  aaroh101  OF\n",
       "2  aarot101  1B\n",
       "3  aased001   P\n",
       "4  abada001  1B"
      ]
     },
     "execution_count": 18,
     "metadata": {},
     "output_type": "execute_result"
    }
   ],
   "source": [
    "df1.head()"
   ]
  },
  {
   "cell_type": "code",
   "execution_count": 19,
   "metadata": {},
   "outputs": [
    {
     "data": {
      "text/html": [
       "<div>\n",
       "<style scoped>\n",
       "    .dataframe tbody tr th:only-of-type {\n",
       "        vertical-align: middle;\n",
       "    }\n",
       "\n",
       "    .dataframe tbody tr th {\n",
       "        vertical-align: top;\n",
       "    }\n",
       "\n",
       "    .dataframe thead th {\n",
       "        text-align: right;\n",
       "    }\n",
       "</style>\n",
       "<table border=\"1\" class=\"dataframe\">\n",
       "  <thead>\n",
       "    <tr style=\"text-align: right;\">\n",
       "      <th></th>\n",
       "      <th>retroID</th>\n",
       "      <th>birthYear</th>\n",
       "      <th>bats</th>\n",
       "      <th>throws</th>\n",
       "      <th>weight</th>\n",
       "      <th>height</th>\n",
       "    </tr>\n",
       "  </thead>\n",
       "  <tbody>\n",
       "    <tr>\n",
       "      <th>0</th>\n",
       "      <td>omaro101</td>\n",
       "      <td>1891.0</td>\n",
       "      <td>R</td>\n",
       "      <td>R</td>\n",
       "      <td>155.0</td>\n",
       "      <td>69.0</td>\n",
       "    </tr>\n",
       "    <tr>\n",
       "      <th>1</th>\n",
       "      <td>steeb103</td>\n",
       "      <td>1894.0</td>\n",
       "      <td>B</td>\n",
       "      <td>L</td>\n",
       "      <td>175.0</td>\n",
       "      <td>70.0</td>\n",
       "    </tr>\n",
       "    <tr>\n",
       "      <th>2</th>\n",
       "      <td>fisht103</td>\n",
       "      <td>1886.0</td>\n",
       "      <td>R</td>\n",
       "      <td>R</td>\n",
       "      <td>170.0</td>\n",
       "      <td>69.0</td>\n",
       "    </tr>\n",
       "    <tr>\n",
       "      <th>3</th>\n",
       "      <td>kanef101</td>\n",
       "      <td>1895.0</td>\n",
       "      <td>L</td>\n",
       "      <td>R</td>\n",
       "      <td>175.0</td>\n",
       "      <td>71.0</td>\n",
       "    </tr>\n",
       "    <tr>\n",
       "      <th>4</th>\n",
       "      <td>kingl101</td>\n",
       "      <td>1894.0</td>\n",
       "      <td>R</td>\n",
       "      <td>R</td>\n",
       "      <td>150.0</td>\n",
       "      <td>70.0</td>\n",
       "    </tr>\n",
       "  </tbody>\n",
       "</table>\n",
       "</div>"
      ],
      "text/plain": [
       "    retroID  birthYear bats throws  weight  height\n",
       "0  omaro101     1891.0    R      R   155.0    69.0\n",
       "1  steeb103     1894.0    B      L   175.0    70.0\n",
       "2  fisht103     1886.0    R      R   170.0    69.0\n",
       "3  kanef101     1895.0    L      R   175.0    71.0\n",
       "4  kingl101     1894.0    R      R   150.0    70.0"
      ]
     },
     "execution_count": 19,
     "metadata": {},
     "output_type": "execute_result"
    }
   ],
   "source": [
    "df2.head()"
   ]
  },
  {
   "cell_type": "code",
   "execution_count": 20,
   "metadata": {},
   "outputs": [
    {
     "data": {
      "text/html": [
       "<div>\n",
       "<style scoped>\n",
       "    .dataframe tbody tr th:only-of-type {\n",
       "        vertical-align: middle;\n",
       "    }\n",
       "\n",
       "    .dataframe tbody tr th {\n",
       "        vertical-align: top;\n",
       "    }\n",
       "\n",
       "    .dataframe thead th {\n",
       "        text-align: right;\n",
       "    }\n",
       "</style>\n",
       "<table border=\"1\" class=\"dataframe\">\n",
       "  <thead>\n",
       "    <tr style=\"text-align: right;\">\n",
       "      <th></th>\n",
       "      <th>retroID</th>\n",
       "      <th>birthYear</th>\n",
       "      <th>bats</th>\n",
       "      <th>throws</th>\n",
       "      <th>weight</th>\n",
       "      <th>height</th>\n",
       "    </tr>\n",
       "  </thead>\n",
       "  <tbody>\n",
       "    <tr>\n",
       "      <th>13110</th>\n",
       "      <td>aardd001</td>\n",
       "      <td>1981.0</td>\n",
       "      <td>R</td>\n",
       "      <td>R</td>\n",
       "      <td>215.0</td>\n",
       "      <td>75.0</td>\n",
       "    </tr>\n",
       "  </tbody>\n",
       "</table>\n",
       "</div>"
      ],
      "text/plain": [
       "        retroID  birthYear bats throws  weight  height\n",
       "13110  aardd001     1981.0    R      R   215.0    75.0"
      ]
     },
     "execution_count": 20,
     "metadata": {},
     "output_type": "execute_result"
    }
   ],
   "source": [
    "df2[df2['retroID'] == 'aardd001']"
   ]
  },
  {
   "cell_type": "code",
   "execution_count": 21,
   "metadata": {},
   "outputs": [],
   "source": [
    "df = pd.merge(df1, df2, on='retroID')"
   ]
  },
  {
   "cell_type": "code",
   "execution_count": 22,
   "metadata": {},
   "outputs": [
    {
     "data": {
      "text/html": [
       "<div>\n",
       "<style scoped>\n",
       "    .dataframe tbody tr th:only-of-type {\n",
       "        vertical-align: middle;\n",
       "    }\n",
       "\n",
       "    .dataframe tbody tr th {\n",
       "        vertical-align: top;\n",
       "    }\n",
       "\n",
       "    .dataframe thead th {\n",
       "        text-align: right;\n",
       "    }\n",
       "</style>\n",
       "<table border=\"1\" class=\"dataframe\">\n",
       "  <thead>\n",
       "    <tr style=\"text-align: right;\">\n",
       "      <th></th>\n",
       "      <th>retroID</th>\n",
       "      <th>POS</th>\n",
       "      <th>birthYear</th>\n",
       "      <th>bats</th>\n",
       "      <th>throws</th>\n",
       "      <th>weight</th>\n",
       "      <th>height</th>\n",
       "    </tr>\n",
       "  </thead>\n",
       "  <tbody>\n",
       "    <tr>\n",
       "      <th>0</th>\n",
       "      <td>aardd001</td>\n",
       "      <td>P</td>\n",
       "      <td>1981.0</td>\n",
       "      <td>R</td>\n",
       "      <td>R</td>\n",
       "      <td>215.0</td>\n",
       "      <td>75.0</td>\n",
       "    </tr>\n",
       "    <tr>\n",
       "      <th>1</th>\n",
       "      <td>aaroh101</td>\n",
       "      <td>OF</td>\n",
       "      <td>1934.0</td>\n",
       "      <td>R</td>\n",
       "      <td>R</td>\n",
       "      <td>180.0</td>\n",
       "      <td>72.0</td>\n",
       "    </tr>\n",
       "    <tr>\n",
       "      <th>2</th>\n",
       "      <td>aarot101</td>\n",
       "      <td>1B</td>\n",
       "      <td>1939.0</td>\n",
       "      <td>R</td>\n",
       "      <td>R</td>\n",
       "      <td>190.0</td>\n",
       "      <td>75.0</td>\n",
       "    </tr>\n",
       "    <tr>\n",
       "      <th>3</th>\n",
       "      <td>aased001</td>\n",
       "      <td>P</td>\n",
       "      <td>1954.0</td>\n",
       "      <td>R</td>\n",
       "      <td>R</td>\n",
       "      <td>190.0</td>\n",
       "      <td>75.0</td>\n",
       "    </tr>\n",
       "    <tr>\n",
       "      <th>4</th>\n",
       "      <td>abada001</td>\n",
       "      <td>1B</td>\n",
       "      <td>1972.0</td>\n",
       "      <td>L</td>\n",
       "      <td>L</td>\n",
       "      <td>184.0</td>\n",
       "      <td>73.0</td>\n",
       "    </tr>\n",
       "    <tr>\n",
       "      <th>...</th>\n",
       "      <td>...</td>\n",
       "      <td>...</td>\n",
       "      <td>...</td>\n",
       "      <td>...</td>\n",
       "      <td>...</td>\n",
       "      <td>...</td>\n",
       "      <td>...</td>\n",
       "    </tr>\n",
       "    <tr>\n",
       "      <th>15026</th>\n",
       "      <td>zupcb001</td>\n",
       "      <td>OF</td>\n",
       "      <td>1966.0</td>\n",
       "      <td>R</td>\n",
       "      <td>R</td>\n",
       "      <td>220.0</td>\n",
       "      <td>76.0</td>\n",
       "    </tr>\n",
       "    <tr>\n",
       "      <th>15027</th>\n",
       "      <td>zupof101</td>\n",
       "      <td>C</td>\n",
       "      <td>1939.0</td>\n",
       "      <td>L</td>\n",
       "      <td>R</td>\n",
       "      <td>182.0</td>\n",
       "      <td>71.0</td>\n",
       "    </tr>\n",
       "    <tr>\n",
       "      <th>15028</th>\n",
       "      <td>zuveg101</td>\n",
       "      <td>P</td>\n",
       "      <td>1924.0</td>\n",
       "      <td>R</td>\n",
       "      <td>R</td>\n",
       "      <td>195.0</td>\n",
       "      <td>76.0</td>\n",
       "    </tr>\n",
       "    <tr>\n",
       "      <th>15029</th>\n",
       "      <td>zuvep001</td>\n",
       "      <td>SS</td>\n",
       "      <td>1958.0</td>\n",
       "      <td>R</td>\n",
       "      <td>R</td>\n",
       "      <td>173.0</td>\n",
       "      <td>72.0</td>\n",
       "    </tr>\n",
       "    <tr>\n",
       "      <th>15030</th>\n",
       "      <td>zycht001</td>\n",
       "      <td>P</td>\n",
       "      <td>1990.0</td>\n",
       "      <td>R</td>\n",
       "      <td>R</td>\n",
       "      <td>190.0</td>\n",
       "      <td>75.0</td>\n",
       "    </tr>\n",
       "  </tbody>\n",
       "</table>\n",
       "<p>15031 rows × 7 columns</p>\n",
       "</div>"
      ],
      "text/plain": [
       "        retroID POS  birthYear bats throws  weight  height\n",
       "0      aardd001   P     1981.0    R      R   215.0    75.0\n",
       "1      aaroh101  OF     1934.0    R      R   180.0    72.0\n",
       "2      aarot101  1B     1939.0    R      R   190.0    75.0\n",
       "3      aased001   P     1954.0    R      R   190.0    75.0\n",
       "4      abada001  1B     1972.0    L      L   184.0    73.0\n",
       "...         ...  ..        ...  ...    ...     ...     ...\n",
       "15026  zupcb001  OF     1966.0    R      R   220.0    76.0\n",
       "15027  zupof101   C     1939.0    L      R   182.0    71.0\n",
       "15028  zuveg101   P     1924.0    R      R   195.0    76.0\n",
       "15029  zuvep001  SS     1958.0    R      R   173.0    72.0\n",
       "15030  zycht001   P     1990.0    R      R   190.0    75.0\n",
       "\n",
       "[15031 rows x 7 columns]"
      ]
     },
     "execution_count": 22,
     "metadata": {},
     "output_type": "execute_result"
    }
   ],
   "source": [
    "df"
   ]
  },
  {
   "cell_type": "code",
   "execution_count": null,
   "metadata": {},
   "outputs": [],
   "source": []
  }
 ],
 "metadata": {
  "kernelspec": {
   "display_name": "Python 3.7.6 64-bit ('tf2env': conda)",
   "language": "python",
   "name": "python37664bittf2envconda7a5d2b04ce96452f92a2890aed430c66"
  },
  "language_info": {
   "codemirror_mode": {
    "name": "ipython",
    "version": 3
   },
   "file_extension": ".py",
   "mimetype": "text/x-python",
   "name": "python",
   "nbconvert_exporter": "python",
   "pygments_lexer": "ipython3",
   "version": "3.7.6"
  }
 },
 "nbformat": 4,
 "nbformat_minor": 4
}
