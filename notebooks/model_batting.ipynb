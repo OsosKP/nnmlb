{
 "cells": [
  {
   "cell_type": "code",
   "execution_count": 1,
   "metadata": {},
   "outputs": [],
   "source": [
    "import tensorflow as tf\n",
    "import pandas as pd\n",
    "import numpy as np"
   ]
  },
  {
   "cell_type": "code",
   "execution_count": 2,
   "metadata": {},
   "outputs": [],
   "source": [
    "df = pd.read_csv('../core/output/batters.csv')\n",
    "indexer = df.reset_index()[['index', 'retroID']].to_dict()['retroID']\n",
    "y = df['Batting'].values\n",
    "to_drop = ['debutYear', 'finalYear', 'G', '1B', 'AB', 'RBI', 'wOBA']\n",
    "df.drop(columns=to_drop, inplace=True)"
   ]
  },
  {
   "cell_type": "code",
   "execution_count": 3,
   "metadata": {},
   "outputs": [
    {
     "data": {
      "text/html": [
       "<div>\n",
       "<style scoped>\n",
       "    .dataframe tbody tr th:only-of-type {\n",
       "        vertical-align: middle;\n",
       "    }\n",
       "\n",
       "    .dataframe tbody tr th {\n",
       "        vertical-align: top;\n",
       "    }\n",
       "\n",
       "    .dataframe thead th {\n",
       "        text-align: right;\n",
       "    }\n",
       "</style>\n",
       "<table border=\"1\" class=\"dataframe\">\n",
       "  <thead>\n",
       "    <tr style=\"text-align: right;\">\n",
       "      <th></th>\n",
       "      <th>retroID</th>\n",
       "      <th>weight</th>\n",
       "      <th>height</th>\n",
       "      <th>pos_1B</th>\n",
       "      <th>pos_2B</th>\n",
       "      <th>pos_3B</th>\n",
       "      <th>pos_C</th>\n",
       "      <th>pos_OF</th>\n",
       "      <th>pos_P</th>\n",
       "      <th>pos_SS</th>\n",
       "      <th>...</th>\n",
       "      <th>SO</th>\n",
       "      <th>IBB</th>\n",
       "      <th>HBP</th>\n",
       "      <th>SH</th>\n",
       "      <th>SF</th>\n",
       "      <th>GIDP</th>\n",
       "      <th>NL</th>\n",
       "      <th>wRC+</th>\n",
       "      <th>WAR</th>\n",
       "      <th>Batting</th>\n",
       "    </tr>\n",
       "  </thead>\n",
       "  <tbody>\n",
       "    <tr>\n",
       "      <th>0</th>\n",
       "      <td>aardd001</td>\n",
       "      <td>0.569672</td>\n",
       "      <td>0.60</td>\n",
       "      <td>0</td>\n",
       "      <td>0</td>\n",
       "      <td>0</td>\n",
       "      <td>0</td>\n",
       "      <td>0</td>\n",
       "      <td>1</td>\n",
       "      <td>0</td>\n",
       "      <td>...</td>\n",
       "      <td>2</td>\n",
       "      <td>0</td>\n",
       "      <td>0</td>\n",
       "      <td>1</td>\n",
       "      <td>0</td>\n",
       "      <td>0</td>\n",
       "      <td>1</td>\n",
       "      <td>-100</td>\n",
       "      <td>-0.1</td>\n",
       "      <td>0.000358</td>\n",
       "    </tr>\n",
       "    <tr>\n",
       "      <th>1</th>\n",
       "      <td>aaroh101</td>\n",
       "      <td>0.426230</td>\n",
       "      <td>0.45</td>\n",
       "      <td>0</td>\n",
       "      <td>0</td>\n",
       "      <td>0</td>\n",
       "      <td>0</td>\n",
       "      <td>1</td>\n",
       "      <td>0</td>\n",
       "      <td>0</td>\n",
       "      <td>...</td>\n",
       "      <td>1383</td>\n",
       "      <td>293</td>\n",
       "      <td>32</td>\n",
       "      <td>21</td>\n",
       "      <td>121</td>\n",
       "      <td>328</td>\n",
       "      <td>1</td>\n",
       "      <td>153</td>\n",
       "      <td>136.3</td>\n",
       "      <td>0.350195</td>\n",
       "    </tr>\n",
       "    <tr>\n",
       "      <th>2</th>\n",
       "      <td>aarot101</td>\n",
       "      <td>0.467213</td>\n",
       "      <td>0.60</td>\n",
       "      <td>1</td>\n",
       "      <td>0</td>\n",
       "      <td>0</td>\n",
       "      <td>0</td>\n",
       "      <td>0</td>\n",
       "      <td>0</td>\n",
       "      <td>0</td>\n",
       "      <td>...</td>\n",
       "      <td>145</td>\n",
       "      <td>3</td>\n",
       "      <td>0</td>\n",
       "      <td>9</td>\n",
       "      <td>6</td>\n",
       "      <td>36</td>\n",
       "      <td>1</td>\n",
       "      <td>76</td>\n",
       "      <td>-1.7</td>\n",
       "      <td>0.157131</td>\n",
       "    </tr>\n",
       "    <tr>\n",
       "      <th>3</th>\n",
       "      <td>aased001</td>\n",
       "      <td>0.467213</td>\n",
       "      <td>0.60</td>\n",
       "      <td>0</td>\n",
       "      <td>0</td>\n",
       "      <td>0</td>\n",
       "      <td>0</td>\n",
       "      <td>0</td>\n",
       "      <td>1</td>\n",
       "      <td>0</td>\n",
       "      <td>...</td>\n",
       "      <td>3</td>\n",
       "      <td>0</td>\n",
       "      <td>0</td>\n",
       "      <td>0</td>\n",
       "      <td>0</td>\n",
       "      <td>0</td>\n",
       "      <td>1</td>\n",
       "      <td>-100</td>\n",
       "      <td>-0.1</td>\n",
       "      <td>0.000358</td>\n",
       "    </tr>\n",
       "    <tr>\n",
       "      <th>4</th>\n",
       "      <td>abada001</td>\n",
       "      <td>0.442623</td>\n",
       "      <td>0.50</td>\n",
       "      <td>1</td>\n",
       "      <td>0</td>\n",
       "      <td>0</td>\n",
       "      <td>0</td>\n",
       "      <td>0</td>\n",
       "      <td>0</td>\n",
       "      <td>0</td>\n",
       "      <td>...</td>\n",
       "      <td>5</td>\n",
       "      <td>0</td>\n",
       "      <td>0</td>\n",
       "      <td>0</td>\n",
       "      <td>0</td>\n",
       "      <td>1</td>\n",
       "      <td>1</td>\n",
       "      <td>0</td>\n",
       "      <td>-0.4</td>\n",
       "      <td>0.090001</td>\n",
       "    </tr>\n",
       "    <tr>\n",
       "      <th>...</th>\n",
       "      <td>...</td>\n",
       "      <td>...</td>\n",
       "      <td>...</td>\n",
       "      <td>...</td>\n",
       "      <td>...</td>\n",
       "      <td>...</td>\n",
       "      <td>...</td>\n",
       "      <td>...</td>\n",
       "      <td>...</td>\n",
       "      <td>...</td>\n",
       "      <td>...</td>\n",
       "      <td>...</td>\n",
       "      <td>...</td>\n",
       "      <td>...</td>\n",
       "      <td>...</td>\n",
       "      <td>...</td>\n",
       "      <td>...</td>\n",
       "      <td>...</td>\n",
       "      <td>...</td>\n",
       "      <td>...</td>\n",
       "      <td>...</td>\n",
       "    </tr>\n",
       "    <tr>\n",
       "      <th>15288</th>\n",
       "      <td>zupcb001</td>\n",
       "      <td>0.590164</td>\n",
       "      <td>0.65</td>\n",
       "      <td>0</td>\n",
       "      <td>0</td>\n",
       "      <td>0</td>\n",
       "      <td>0</td>\n",
       "      <td>1</td>\n",
       "      <td>0</td>\n",
       "      <td>0</td>\n",
       "      <td>...</td>\n",
       "      <td>137</td>\n",
       "      <td>3</td>\n",
       "      <td>6</td>\n",
       "      <td>20</td>\n",
       "      <td>8</td>\n",
       "      <td>15</td>\n",
       "      <td>0</td>\n",
       "      <td>74</td>\n",
       "      <td>-0.9</td>\n",
       "      <td>0.156062</td>\n",
       "    </tr>\n",
       "    <tr>\n",
       "      <th>15289</th>\n",
       "      <td>zupof101</td>\n",
       "      <td>0.434426</td>\n",
       "      <td>0.40</td>\n",
       "      <td>0</td>\n",
       "      <td>0</td>\n",
       "      <td>0</td>\n",
       "      <td>1</td>\n",
       "      <td>0</td>\n",
       "      <td>0</td>\n",
       "      <td>0</td>\n",
       "      <td>...</td>\n",
       "      <td>6</td>\n",
       "      <td>0</td>\n",
       "      <td>0</td>\n",
       "      <td>0</td>\n",
       "      <td>0</td>\n",
       "      <td>0</td>\n",
       "      <td>0</td>\n",
       "      <td>37</td>\n",
       "      <td>-0.2</td>\n",
       "      <td>0.123425</td>\n",
       "    </tr>\n",
       "    <tr>\n",
       "      <th>15290</th>\n",
       "      <td>zuveg101</td>\n",
       "      <td>0.487705</td>\n",
       "      <td>0.65</td>\n",
       "      <td>0</td>\n",
       "      <td>0</td>\n",
       "      <td>0</td>\n",
       "      <td>0</td>\n",
       "      <td>0</td>\n",
       "      <td>1</td>\n",
       "      <td>0</td>\n",
       "      <td>...</td>\n",
       "      <td>39</td>\n",
       "      <td>0</td>\n",
       "      <td>0</td>\n",
       "      <td>16</td>\n",
       "      <td>0</td>\n",
       "      <td>3</td>\n",
       "      <td>1</td>\n",
       "      <td>0</td>\n",
       "      <td>-0.3</td>\n",
       "      <td>0.090088</td>\n",
       "    </tr>\n",
       "    <tr>\n",
       "      <th>15291</th>\n",
       "      <td>zuvep001</td>\n",
       "      <td>0.397541</td>\n",
       "      <td>0.45</td>\n",
       "      <td>0</td>\n",
       "      <td>0</td>\n",
       "      <td>0</td>\n",
       "      <td>0</td>\n",
       "      <td>0</td>\n",
       "      <td>0</td>\n",
       "      <td>1</td>\n",
       "      <td>...</td>\n",
       "      <td>50</td>\n",
       "      <td>1</td>\n",
       "      <td>2</td>\n",
       "      <td>18</td>\n",
       "      <td>0</td>\n",
       "      <td>8</td>\n",
       "      <td>1</td>\n",
       "      <td>52</td>\n",
       "      <td>-2.2</td>\n",
       "      <td>0.135118</td>\n",
       "    </tr>\n",
       "    <tr>\n",
       "      <th>15292</th>\n",
       "      <td>zycht001</td>\n",
       "      <td>0.467213</td>\n",
       "      <td>0.60</td>\n",
       "      <td>0</td>\n",
       "      <td>0</td>\n",
       "      <td>0</td>\n",
       "      <td>0</td>\n",
       "      <td>0</td>\n",
       "      <td>1</td>\n",
       "      <td>0</td>\n",
       "      <td>...</td>\n",
       "      <td>0</td>\n",
       "      <td>0</td>\n",
       "      <td>0</td>\n",
       "      <td>0</td>\n",
       "      <td>0</td>\n",
       "      <td>0</td>\n",
       "      <td>0</td>\n",
       "      <td>0</td>\n",
       "      <td>0.0</td>\n",
       "      <td>0.090195</td>\n",
       "    </tr>\n",
       "  </tbody>\n",
       "</table>\n",
       "<p>15293 rows × 31 columns</p>\n",
       "</div>"
      ],
      "text/plain": [
       "        retroID    weight  height  pos_1B  pos_2B  pos_3B  pos_C  pos_OF  \\\n",
       "0      aardd001  0.569672    0.60       0       0       0      0       0   \n",
       "1      aaroh101  0.426230    0.45       0       0       0      0       1   \n",
       "2      aarot101  0.467213    0.60       1       0       0      0       0   \n",
       "3      aased001  0.467213    0.60       0       0       0      0       0   \n",
       "4      abada001  0.442623    0.50       1       0       0      0       0   \n",
       "...         ...       ...     ...     ...     ...     ...    ...     ...   \n",
       "15288  zupcb001  0.590164    0.65       0       0       0      0       1   \n",
       "15289  zupof101  0.434426    0.40       0       0       0      1       0   \n",
       "15290  zuveg101  0.487705    0.65       0       0       0      0       0   \n",
       "15291  zuvep001  0.397541    0.45       0       0       0      0       0   \n",
       "15292  zycht001  0.467213    0.60       0       0       0      0       0   \n",
       "\n",
       "       pos_P  pos_SS  ...    SO  IBB  HBP  SH   SF  GIDP  NL  wRC+    WAR  \\\n",
       "0          1       0  ...     2    0    0   1    0     0   1  -100   -0.1   \n",
       "1          0       0  ...  1383  293   32  21  121   328   1   153  136.3   \n",
       "2          0       0  ...   145    3    0   9    6    36   1    76   -1.7   \n",
       "3          1       0  ...     3    0    0   0    0     0   1  -100   -0.1   \n",
       "4          0       0  ...     5    0    0   0    0     1   1     0   -0.4   \n",
       "...      ...     ...  ...   ...  ...  ...  ..  ...   ...  ..   ...    ...   \n",
       "15288      0       0  ...   137    3    6  20    8    15   0    74   -0.9   \n",
       "15289      0       0  ...     6    0    0   0    0     0   0    37   -0.2   \n",
       "15290      1       0  ...    39    0    0  16    0     3   1     0   -0.3   \n",
       "15291      0       1  ...    50    1    2  18    0     8   1    52   -2.2   \n",
       "15292      1       0  ...     0    0    0   0    0     0   0     0    0.0   \n",
       "\n",
       "        Batting  \n",
       "0      0.000358  \n",
       "1      0.350195  \n",
       "2      0.157131  \n",
       "3      0.000358  \n",
       "4      0.090001  \n",
       "...         ...  \n",
       "15288  0.156062  \n",
       "15289  0.123425  \n",
       "15290  0.090088  \n",
       "15291  0.135118  \n",
       "15292  0.090195  \n",
       "\n",
       "[15293 rows x 31 columns]"
      ]
     },
     "execution_count": 3,
     "metadata": {},
     "output_type": "execute_result"
    }
   ],
   "source": [
    "df"
   ]
  },
  {
   "cell_type": "markdown",
   "metadata": {},
   "source": [
    "<h2>Building the Model</h2>"
   ]
  },
  {
   "cell_type": "code",
   "execution_count": 4,
   "metadata": {},
   "outputs": [],
   "source": [
    "from sklearn.model_selection import train_test_split"
   ]
  },
  {
   "cell_type": "code",
   "execution_count": 5,
   "metadata": {},
   "outputs": [],
   "source": [
    "X = df.drop(columns=['Batting']).values\n",
    "y = df[['retroID', 'Batting']].values"
   ]
  },
  {
   "cell_type": "markdown",
   "metadata": {},
   "source": [
    "<p>When we do our train-test split, since it's random in how it splits up the data, we need to keep track of the appropriate keys (retro IDs) for each data point.</p>"
   ]
  },
  {
   "cell_type": "code",
   "execution_count": 6,
   "metadata": {},
   "outputs": [],
   "source": [
    "X_train, X_test, y_train, y_test = train_test_split(X, y, test_size=0.2, random_state=101)\n",
    "X_train_keys = np.asarray([x[0] for x in X_train])\n",
    "X_train = np.asarray([x[1:] for x in X_train])\n",
    "X_test_keys = np.asarray([x[0] for x in X_test])\n",
    "X_test = np.asarray([x[1:] for x in X_test])\n",
    "y_train_keys = np.asarray([y[0] for y in y_train])\n",
    "y_train = np.asarray([y[1] for y in y_train])\n",
    "y_test_keys = np.asarray([y[0] for y in y_test])\n",
    "y_test = np.asarray([y[1] for y in y_test])"
   ]
  },
  {
   "cell_type": "code",
   "execution_count": 7,
   "metadata": {},
   "outputs": [],
   "source": [
    "import tensorflow as tf\n",
    "from tensorflow.keras.models import Sequential\n",
    "from tensorflow.keras.layers import Dense, Dropout\n",
    "from tensorflow.keras import regularizers"
   ]
  },
  {
   "cell_type": "code",
   "execution_count": 8,
   "metadata": {},
   "outputs": [
    {
     "data": {
      "text/plain": [
       "(12234, 29)"
      ]
     },
     "execution_count": 8,
     "metadata": {},
     "output_type": "execute_result"
    }
   ],
   "source": [
    "X_train.shape"
   ]
  },
  {
   "cell_type": "code",
   "execution_count": 9,
   "metadata": {},
   "outputs": [],
   "source": [
    "from sklearn.preprocessing import MinMaxScaler"
   ]
  },
  {
   "cell_type": "code",
   "execution_count": 10,
   "metadata": {},
   "outputs": [],
   "source": [
    "scaler = MinMaxScaler()\n",
    "X_train = scaler.fit_transform(X_train)\n",
    "X_test = scaler.transform(X_test)"
   ]
  },
  {
   "cell_type": "code",
   "execution_count": 11,
   "metadata": {},
   "outputs": [],
   "source": [
    "def to_tensor_input(player):\n",
    "    return scaler.transform(player.values.reshape(-1,29))[0]"
   ]
  },
  {
   "cell_type": "code",
   "execution_count": 12,
   "metadata": {},
   "outputs": [],
   "source": [
    "tensor = df.drop(columns=['retroID', 'Batting'])\n",
    "player_tensor_inputs = tensor.apply(lambda player: to_tensor_input(player), axis=1)"
   ]
  },
  {
   "cell_type": "code",
   "execution_count": 13,
   "metadata": {},
   "outputs": [
    {
     "data": {
      "text/plain": [
       "0        [0.5696720000000001, 0.6, 0.0, 0.0, 0.0, 0.0, ...\n",
       "1        [0.42623, 0.45, 0.0, 0.0, 0.0, 0.0, 1.0, 0.0, ...\n",
       "2        [0.467213, 0.6, 1.0, 0.0, 0.0, 0.0, 0.0, 0.0, ...\n",
       "3        [0.467213, 0.6, 0.0, 0.0, 0.0, 0.0, 0.0, 1.0, ...\n",
       "4        [0.44262299999999993, 0.5, 1.0, 0.0, 0.0, 0.0,...\n",
       "                               ...                        \n",
       "15288    [0.590164, 0.65, 0.0, 0.0, 0.0, 0.0, 1.0, 0.0,...\n",
       "15289    [0.43442600000000003, 0.4, 0.0, 0.0, 0.0, 1.0,...\n",
       "15290    [0.487705, 0.65, 0.0, 0.0, 0.0, 0.0, 0.0, 1.0,...\n",
       "15291    [0.397541, 0.45, 0.0, 0.0, 0.0, 0.0, 0.0, 0.0,...\n",
       "15292    [0.467213, 0.6, 0.0, 0.0, 0.0, 0.0, 0.0, 1.0, ...\n",
       "Length: 15293, dtype: object"
      ]
     },
     "execution_count": 13,
     "metadata": {},
     "output_type": "execute_result"
    }
   ],
   "source": [
    "player_tensor_inputs"
   ]
  },
  {
   "cell_type": "code",
   "execution_count": 17,
   "metadata": {},
   "outputs": [],
   "source": [
    "tensor = pd.DataFrame(player_tensor_inputs.values.tolist())"
   ]
  },
  {
   "cell_type": "code",
   "execution_count": 15,
   "metadata": {},
   "outputs": [],
   "source": [
    "tensor.to_csv('../core/tensors/t_batting.csv', index=False, float_format='%g')"
   ]
  },
  {
   "cell_type": "code",
   "execution_count": 126,
   "metadata": {},
   "outputs": [],
   "source": [
    "epochs = 400\n",
    "batch_size = 128\n",
    "loss_param = 'mse'\n",
    "optimizer_param = 'adam'\n",
    "stop_monitor = 'val_loss'\n",
    "stop_patience = 20"
   ]
  },
  {
   "cell_type": "code",
   "execution_count": 127,
   "metadata": {},
   "outputs": [],
   "source": [
    "model = Sequential()\n",
    "\n",
    "model.add(Dense(116, activation='relu', kernel_regularizer=regularizers.l2(0.0001)))\n",
    "model.add(Dropout(0.5))\n",
    "\n",
    "model.add(Dense(232, activation='relu', kernel_regularizer=regularizers.l2(0.0001)))\n",
    "model.add(Dropout(0.5))\n",
    "\n",
    "model.add(Dense(116, activation='relu', kernel_regularizer=regularizers.l2(0.0001)))\n",
    "model.add(Dropout(0.5))\n",
    "\n",
    "model.add(Dense(units=1, activation='sigmoid'))\n",
    "\n",
    "model.compile(loss=loss_param, optimizer=optimizer_param)"
   ]
  },
  {
   "cell_type": "code",
   "execution_count": 101,
   "metadata": {},
   "outputs": [],
   "source": [
    "model = Sequential()\n",
    "\n",
    "model.add(Dense(58, activation='relu', kernel_regularizer=regularizers.l2(0.0001)))\n",
    "model.add(Dropout(0.5))\n",
    "\n",
    "model.add(Dense(116, activation='relu', kernel_regularizer=regularizers.l2(0.0001)))\n",
    "model.add(Dropout(0.5))\n",
    "\n",
    "model.add(Dense(58, activation='relu', kernel_regularizer=regularizers.l2(0.0001)))\n",
    "model.add(Dropout(0.5))\n",
    "\n",
    "model.add(Dense(units=1, activation='sigmoid'))\n",
    "\n",
    "model.compile(loss=loss_param, optimizer=optimizer_param)"
   ]
  },
  {
   "cell_type": "code",
   "execution_count": 102,
   "metadata": {},
   "outputs": [],
   "source": [
    "from tensorflow.keras.callbacks import EarlyStopping"
   ]
  },
  {
   "cell_type": "code",
   "execution_count": 118,
   "metadata": {},
   "outputs": [],
   "source": [
    "early_stop = EarlyStopping(monitor=stop_monitor, patience=stop_patience)"
   ]
  },
  {
   "cell_type": "code",
   "execution_count": 128,
   "metadata": {},
   "outputs": [
    {
     "name": "stdout",
     "output_type": "stream",
     "text": [
      "Train on 12234 samples, validate on 3059 samples\n",
      "Epoch 1/400\n",
      "12234/12234 [==============================] - 1s 81us/sample - loss: 0.0398 - val_loss: 0.0242\n",
      "Epoch 2/400\n",
      "12234/12234 [==============================] - 0s 26us/sample - loss: 0.0208 - val_loss: 0.0143\n",
      "Epoch 3/400\n",
      "12234/12234 [==============================] - 0s 25us/sample - loss: 0.0132 - val_loss: 0.0091\n",
      "Epoch 4/400\n",
      "12234/12234 [==============================] - 0s 32us/sample - loss: 0.0090 - val_loss: 0.0061\n",
      "Epoch 5/400\n",
      "12234/12234 [==============================] - 0s 33us/sample - loss: 0.0064 - val_loss: 0.0043\n",
      "Epoch 6/400\n",
      "12234/12234 [==============================] - 0s 28us/sample - loss: 0.0050 - val_loss: 0.0033\n",
      "Epoch 7/400\n",
      "12234/12234 [==============================] - 0s 27us/sample - loss: 0.0041 - val_loss: 0.0028\n",
      "Epoch 8/400\n",
      "12234/12234 [==============================] - 0s 28us/sample - loss: 0.0035 - val_loss: 0.0023\n",
      "Epoch 9/400\n",
      "12234/12234 [==============================] - 0s 26us/sample - loss: 0.0032 - val_loss: 0.0021\n",
      "Epoch 10/400\n",
      "12234/12234 [==============================] - 0s 31us/sample - loss: 0.0029 - val_loss: 0.0019\n",
      "Epoch 11/400\n",
      "12234/12234 [==============================] - 0s 27us/sample - loss: 0.0027 - val_loss: 0.0017\n",
      "Epoch 12/400\n",
      "12234/12234 [==============================] - 0s 26us/sample - loss: 0.0026 - val_loss: 0.0017\n",
      "Epoch 13/400\n",
      "12234/12234 [==============================] - 0s 26us/sample - loss: 0.0025 - val_loss: 0.0016\n",
      "Epoch 14/400\n",
      "12234/12234 [==============================] - 0s 28us/sample - loss: 0.0024 - val_loss: 0.0015\n",
      "Epoch 15/400\n",
      "12234/12234 [==============================] - 0s 32us/sample - loss: 0.0024 - val_loss: 0.0015\n",
      "Epoch 16/400\n",
      "12234/12234 [==============================] - 0s 35us/sample - loss: 0.0023 - val_loss: 0.0016\n",
      "Epoch 17/400\n",
      "12234/12234 [==============================] - 0s 40us/sample - loss: 0.0023 - val_loss: 0.0015\n",
      "Epoch 18/400\n",
      "12234/12234 [==============================] - 0s 39us/sample - loss: 0.0022 - val_loss: 0.0014\n",
      "Epoch 19/400\n",
      "12234/12234 [==============================] - 1s 48us/sample - loss: 0.0022 - val_loss: 0.0013\n",
      "Epoch 20/400\n",
      "12234/12234 [==============================] - 1s 59us/sample - loss: 0.0021 - val_loss: 0.0014\n",
      "Epoch 21/400\n",
      "12234/12234 [==============================] - 1s 54us/sample - loss: 0.0021 - val_loss: 0.0014\n",
      "Epoch 22/400\n",
      "12234/12234 [==============================] - 1s 65us/sample - loss: 0.0021 - val_loss: 0.0013\n",
      "Epoch 23/400\n",
      "12234/12234 [==============================] - 1s 52us/sample - loss: 0.0020 - val_loss: 0.0013\n",
      "Epoch 24/400\n",
      "12234/12234 [==============================] - 1s 46us/sample - loss: 0.0020 - val_loss: 0.0015\n",
      "Epoch 25/400\n",
      "12234/12234 [==============================] - 1s 49us/sample - loss: 0.0020 - val_loss: 0.0013\n",
      "Epoch 26/400\n",
      "12234/12234 [==============================] - 1s 47us/sample - loss: 0.0020 - val_loss: 0.0013\n",
      "Epoch 27/400\n",
      "12234/12234 [==============================] - 1s 67us/sample - loss: 0.0020 - val_loss: 0.0013\n",
      "Epoch 28/400\n",
      "12234/12234 [==============================] - 1s 60us/sample - loss: 0.0019 - val_loss: 0.0012\n",
      "Epoch 29/400\n",
      "12234/12234 [==============================] - 1s 66us/sample - loss: 0.0019 - val_loss: 0.0013\n",
      "Epoch 30/400\n",
      "12234/12234 [==============================] - 1s 41us/sample - loss: 0.0019 - val_loss: 0.0012\n",
      "Epoch 31/400\n",
      "12234/12234 [==============================] - 0s 40us/sample - loss: 0.0019 - val_loss: 0.0012\n",
      "Epoch 32/400\n",
      "12234/12234 [==============================] - 1s 42us/sample - loss: 0.0019 - val_loss: 0.0013\n",
      "Epoch 33/400\n",
      "12234/12234 [==============================] - 0s 38us/sample - loss: 0.0019 - val_loss: 0.0012\n",
      "Epoch 34/400\n",
      "12234/12234 [==============================] - 1s 42us/sample - loss: 0.0019 - val_loss: 0.0012\n",
      "Epoch 35/400\n",
      "12234/12234 [==============================] - 1s 46us/sample - loss: 0.0018 - val_loss: 0.0012\n",
      "Epoch 36/400\n",
      "12234/12234 [==============================] - ETA: 0s - loss: 0.001 - 1s 47us/sample - loss: 0.0018 - val_loss: 0.0012\n",
      "Epoch 37/400\n",
      "12234/12234 [==============================] - 1s 43us/sample - loss: 0.0018 - val_loss: 0.0012\n",
      "Epoch 38/400\n",
      "12234/12234 [==============================] - 1s 46us/sample - loss: 0.0018 - val_loss: 0.0012\n",
      "Epoch 39/400\n",
      "12234/12234 [==============================] - 1s 53us/sample - loss: 0.0018 - val_loss: 0.0011\n",
      "Epoch 40/400\n",
      "12234/12234 [==============================] - 1s 46us/sample - loss: 0.0017 - val_loss: 0.0011\n",
      "Epoch 41/400\n",
      "12234/12234 [==============================] - 1s 59us/sample - loss: 0.0017 - val_loss: 0.0012\n",
      "Epoch 42/400\n",
      "12234/12234 [==============================] - 1s 53us/sample - loss: 0.0017 - val_loss: 0.0011\n",
      "Epoch 43/400\n",
      "12234/12234 [==============================] - 1s 57us/sample - loss: 0.0017 - val_loss: 0.0011\n",
      "Epoch 44/400\n",
      "12234/12234 [==============================] - 0s 39us/sample - loss: 0.0017 - val_loss: 0.0011\n",
      "Epoch 45/400\n",
      "12234/12234 [==============================] - 0s 39us/sample - loss: 0.0017 - val_loss: 0.0011\n",
      "Epoch 46/400\n",
      "12234/12234 [==============================] - 0s 38us/sample - loss: 0.0017 - val_loss: 0.0011\n",
      "Epoch 47/400\n",
      "12234/12234 [==============================] - 0s 35us/sample - loss: 0.0017 - val_loss: 0.0011\n",
      "Epoch 48/400\n",
      "12234/12234 [==============================] - 0s 38us/sample - loss: 0.0017 - val_loss: 0.0013\n",
      "Epoch 49/400\n",
      "12234/12234 [==============================] - 0s 40us/sample - loss: 0.0016 - val_loss: 0.0011\n",
      "Epoch 50/400\n",
      "12234/12234 [==============================] - 0s 38us/sample - loss: 0.0016 - val_loss: 0.0011\n",
      "Epoch 51/400\n",
      "12234/12234 [==============================] - 0s 40us/sample - loss: 0.0016 - val_loss: 0.0011\n",
      "Epoch 52/400\n",
      "12234/12234 [==============================] - 1s 44us/sample - loss: 0.0016 - val_loss: 0.0011\n",
      "Epoch 53/400\n",
      "12234/12234 [==============================] - 0s 40us/sample - loss: 0.0016 - val_loss: 0.0011\n",
      "Epoch 54/400\n",
      "12234/12234 [==============================] - 0s 36us/sample - loss: 0.0016 - val_loss: 0.0011\n",
      "Epoch 55/400\n",
      "12234/12234 [==============================] - 0s 40us/sample - loss: 0.0016 - val_loss: 0.0011\n",
      "Epoch 56/400\n",
      "12234/12234 [==============================] - 1s 45us/sample - loss: 0.0016 - val_loss: 0.0011\n",
      "Epoch 57/400\n",
      "12234/12234 [==============================] - 1s 49us/sample - loss: 0.0016 - val_loss: 0.0011\n",
      "Epoch 58/400\n",
      "12234/12234 [==============================] - 1s 48us/sample - loss: 0.0016 - val_loss: 0.0011\n",
      "Epoch 59/400\n",
      "12234/12234 [==============================] - 1s 43us/sample - loss: 0.0016 - val_loss: 0.0011\n",
      "Epoch 60/400\n",
      "12234/12234 [==============================] - 0s 40us/sample - loss: 0.0016 - val_loss: 0.0011\n",
      "Epoch 61/400\n",
      "12234/12234 [==============================] - 1s 43us/sample - loss: 0.0016 - val_loss: 0.0011\n",
      "Epoch 62/400\n",
      "12234/12234 [==============================] - 1s 43us/sample - loss: 0.0016 - val_loss: 0.0012\n",
      "Epoch 63/400\n",
      "12234/12234 [==============================] - 1s 42us/sample - loss: 0.0016 - val_loss: 0.0011\n",
      "Epoch 64/400\n",
      "12234/12234 [==============================] - 0s 34us/sample - loss: 0.0016 - val_loss: 0.0012\n",
      "Epoch 65/400\n",
      "12234/12234 [==============================] - 0s 40us/sample - loss: 0.0016 - val_loss: 0.0011\n",
      "Epoch 66/400\n",
      "12234/12234 [==============================] - 0s 41us/sample - loss: 0.0015 - val_loss: 0.0011\n",
      "Epoch 67/400\n",
      "12234/12234 [==============================] - 0s 37us/sample - loss: 0.0016 - val_loss: 0.0012\n",
      "Epoch 68/400\n",
      "12234/12234 [==============================] - 0s 36us/sample - loss: 0.0015 - val_loss: 0.0010\n",
      "Epoch 69/400\n",
      "12234/12234 [==============================] - 0s 26us/sample - loss: 0.0015 - val_loss: 0.0010\n",
      "Epoch 70/400\n",
      "12234/12234 [==============================] - 0s 31us/sample - loss: 0.0015 - val_loss: 0.0010\n",
      "Epoch 71/400\n",
      "12234/12234 [==============================] - 0s 34us/sample - loss: 0.0015 - val_loss: 0.0010\n",
      "Epoch 72/400\n",
      "12234/12234 [==============================] - 0s 31us/sample - loss: 0.0015 - val_loss: 0.0010\n",
      "Epoch 73/400\n",
      "12234/12234 [==============================] - 0s 35us/sample - loss: 0.0015 - val_loss: 0.0011\n",
      "Epoch 74/400\n",
      "12234/12234 [==============================] - 0s 37us/sample - loss: 0.0015 - val_loss: 0.0010\n",
      "Epoch 75/400\n",
      "12234/12234 [==============================] - 0s 34us/sample - loss: 0.0015 - val_loss: 0.0010\n",
      "Epoch 76/400\n",
      "12234/12234 [==============================] - 0s 36us/sample - loss: 0.0015 - val_loss: 0.0011\n",
      "Epoch 77/400\n",
      "12234/12234 [==============================] - 0s 39us/sample - loss: 0.0015 - val_loss: 0.0010\n",
      "Epoch 78/400\n",
      "12234/12234 [==============================] - 1s 44us/sample - loss: 0.0015 - val_loss: 0.0010\n",
      "Epoch 79/400\n",
      "12234/12234 [==============================] - 1s 43us/sample - loss: 0.0015 - val_loss: 0.0010\n",
      "Epoch 80/400\n",
      "12234/12234 [==============================] - 1s 47us/sample - loss: 0.0015 - val_loss: 0.0010\n",
      "Epoch 81/400\n",
      "12234/12234 [==============================] - 1s 47us/sample - loss: 0.0015 - val_loss: 0.0010\n",
      "Epoch 82/400\n",
      "12234/12234 [==============================] - 1s 44us/sample - loss: 0.0015 - val_loss: 0.0012\n",
      "Epoch 83/400\n",
      "12234/12234 [==============================] - 1s 42us/sample - loss: 0.0015 - val_loss: 0.0010\n",
      "Epoch 84/400\n",
      "12234/12234 [==============================] - 0s 36us/sample - loss: 0.0015 - val_loss: 0.0010\n",
      "Epoch 85/400\n",
      "12234/12234 [==============================] - 0s 33us/sample - loss: 0.0015 - val_loss: 0.0010\n",
      "Epoch 86/400\n",
      "12234/12234 [==============================] - 1s 41us/sample - loss: 0.0014 - val_loss: 0.0010\n",
      "Epoch 87/400\n",
      "12234/12234 [==============================] - 0s 36us/sample - loss: 0.0015 - val_loss: 0.0010\n",
      "Epoch 88/400\n",
      "12234/12234 [==============================] - 0s 38us/sample - loss: 0.0015 - val_loss: 0.0010\n",
      "Epoch 89/400\n",
      "12234/12234 [==============================] - 0s 38us/sample - loss: 0.0015 - val_loss: 0.0011\n",
      "Epoch 90/400\n",
      "12234/12234 [==============================] - 0s 38us/sample - loss: 0.0014 - val_loss: 0.0010\n",
      "Epoch 91/400\n",
      "12234/12234 [==============================] - 0s 35us/sample - loss: 0.0015 - val_loss: 0.0011\n",
      "Epoch 92/400\n",
      "12234/12234 [==============================] - 0s 39us/sample - loss: 0.0015 - val_loss: 0.0010\n",
      "Epoch 93/400\n",
      "12234/12234 [==============================] - 0s 36us/sample - loss: 0.0014 - val_loss: 9.8121e-04\n",
      "Epoch 94/400\n",
      "12234/12234 [==============================] - 0s 31us/sample - loss: 0.0014 - val_loss: 9.8427e-04\n",
      "Epoch 95/400\n",
      "12234/12234 [==============================] - 0s 35us/sample - loss: 0.0014 - val_loss: 0.0010\n",
      "Epoch 96/400\n",
      "12234/12234 [==============================] - 0s 34us/sample - loss: 0.0014 - val_loss: 0.0010\n",
      "Epoch 97/400\n",
      "12234/12234 [==============================] - 0s 36us/sample - loss: 0.0014 - val_loss: 9.6748e-04\n",
      "Epoch 98/400\n",
      "12234/12234 [==============================] - 0s 38us/sample - loss: 0.0015 - val_loss: 0.0011\n",
      "Epoch 99/400\n",
      "12234/12234 [==============================] - 0s 34us/sample - loss: 0.0015 - val_loss: 9.5662e-04\n",
      "Epoch 100/400\n",
      "12234/12234 [==============================] - 0s 38us/sample - loss: 0.0015 - val_loss: 9.7917e-04\n",
      "Epoch 101/400\n",
      "12234/12234 [==============================] - 1s 47us/sample - loss: 0.0014 - val_loss: 9.5729e-04\n",
      "Epoch 102/400\n",
      "12234/12234 [==============================] - 1s 46us/sample - loss: 0.0014 - val_loss: 9.5152e-04\n",
      "Epoch 103/400\n",
      "12234/12234 [==============================] - 1s 53us/sample - loss: 0.0014 - val_loss: 9.3312e-04\n",
      "Epoch 104/400\n",
      "12234/12234 [==============================] - 1s 44us/sample - loss: 0.0014 - val_loss: 9.5747e-04\n",
      "Epoch 105/400\n",
      "12234/12234 [==============================] - 1s 42us/sample - loss: 0.0014 - val_loss: 9.3879e-04\n",
      "Epoch 106/400\n",
      "12234/12234 [==============================] - 1s 43us/sample - loss: 0.0014 - val_loss: 9.7322e-04\n",
      "Epoch 107/400\n",
      "12234/12234 [==============================] - 0s 31us/sample - loss: 0.0015 - val_loss: 9.6365e-04\n",
      "Epoch 108/400\n",
      "12234/12234 [==============================] - 0s 34us/sample - loss: 0.0014 - val_loss: 9.8918e-04\n",
      "Epoch 109/400\n",
      "12234/12234 [==============================] - 0s 35us/sample - loss: 0.0014 - val_loss: 9.3903e-04\n",
      "Epoch 110/400\n",
      "12234/12234 [==============================] - 0s 39us/sample - loss: 0.0014 - val_loss: 0.0015\n",
      "Epoch 111/400\n",
      "12234/12234 [==============================] - 0s 33us/sample - loss: 0.0014 - val_loss: 9.7432e-04\n",
      "Epoch 112/400\n",
      "12234/12234 [==============================] - 0s 31us/sample - loss: 0.0014 - val_loss: 9.6264e-04\n",
      "Epoch 113/400\n",
      "12234/12234 [==============================] - 0s 38us/sample - loss: 0.0014 - val_loss: 9.3307e-04\n",
      "Epoch 114/400\n",
      "12234/12234 [==============================] - 0s 37us/sample - loss: 0.0014 - val_loss: 9.5770e-04\n",
      "Epoch 115/400\n",
      "12234/12234 [==============================] - 0s 34us/sample - loss: 0.0014 - val_loss: 0.0010\n",
      "Epoch 116/400\n",
      "12234/12234 [==============================] - 1s 42us/sample - loss: 0.0014 - val_loss: 9.3083e-04\n",
      "Epoch 117/400\n",
      "12234/12234 [==============================] - 0s 33us/sample - loss: 0.0014 - val_loss: 9.3811e-04\n",
      "Epoch 118/400\n",
      "12234/12234 [==============================] - 0s 38us/sample - loss: 0.0014 - val_loss: 9.0569e-04\n",
      "Epoch 119/400\n",
      "12234/12234 [==============================] - 0s 38us/sample - loss: 0.0014 - val_loss: 9.6265e-04\n",
      "Epoch 120/400\n",
      "12234/12234 [==============================] - 0s 33us/sample - loss: 0.0014 - val_loss: 9.0330e-04\n",
      "Epoch 121/400\n",
      "12234/12234 [==============================] - 0s 35us/sample - loss: 0.0014 - val_loss: 9.2670e-04\n",
      "Epoch 122/400\n",
      "12234/12234 [==============================] - 0s 34us/sample - loss: 0.0014 - val_loss: 0.0010\n",
      "Epoch 123/400\n",
      "12234/12234 [==============================] - 1s 43us/sample - loss: 0.0014 - val_loss: 9.0224e-04\n",
      "Epoch 124/400\n",
      "12234/12234 [==============================] - 1s 47us/sample - loss: 0.0014 - val_loss: 8.9874e-04\n",
      "Epoch 125/400\n",
      "12234/12234 [==============================] - 1s 47us/sample - loss: 0.0014 - val_loss: 9.0275e-04\n",
      "Epoch 126/400\n",
      "12234/12234 [==============================] - 1s 48us/sample - loss: 0.0015 - val_loss: 0.0010\n",
      "Epoch 127/400\n",
      "12234/12234 [==============================] - 1s 43us/sample - loss: 0.0014 - val_loss: 8.9648e-04\n",
      "Epoch 128/400\n",
      "12234/12234 [==============================] - 1s 42us/sample - loss: 0.0013 - val_loss: 8.9572e-04\n",
      "Epoch 129/400\n",
      "12234/12234 [==============================] - 0s 41us/sample - loss: 0.0014 - val_loss: 9.9402e-04\n",
      "Epoch 130/400\n",
      "12234/12234 [==============================] - 0s 31us/sample - loss: 0.0014 - val_loss: 9.3961e-04\n",
      "Epoch 131/400\n",
      "12234/12234 [==============================] - 0s 37us/sample - loss: 0.0014 - val_loss: 8.8966e-04\n",
      "Epoch 132/400\n",
      "12234/12234 [==============================] - 0s 35us/sample - loss: 0.0014 - val_loss: 9.3524e-04\n",
      "Epoch 133/400\n",
      "12234/12234 [==============================] - 0s 35us/sample - loss: 0.0014 - val_loss: 9.3716e-04\n",
      "Epoch 134/400\n",
      "12234/12234 [==============================] - 0s 36us/sample - loss: 0.0014 - val_loss: 8.8316e-04\n",
      "Epoch 135/400\n",
      "12234/12234 [==============================] - 0s 37us/sample - loss: 0.0013 - val_loss: 9.2129e-04\n",
      "Epoch 136/400\n",
      "12234/12234 [==============================] - 1s 44us/sample - loss: 0.0014 - val_loss: 8.7456e-04\n",
      "Epoch 137/400\n",
      "12234/12234 [==============================] - 0s 37us/sample - loss: 0.0014 - val_loss: 9.0640e-04\n",
      "Epoch 138/400\n",
      "12234/12234 [==============================] - 0s 35us/sample - loss: 0.0013 - val_loss: 9.0215e-04\n",
      "Epoch 139/400\n",
      "12234/12234 [==============================] - 1s 42us/sample - loss: 0.0014 - val_loss: 8.8996e-04\n",
      "Epoch 140/400\n",
      "12234/12234 [==============================] - 1s 45us/sample - loss: 0.0013 - val_loss: 8.7461e-04\n",
      "Epoch 141/400\n",
      "12234/12234 [==============================] - 1s 42us/sample - loss: 0.0014 - val_loss: 9.0939e-04\n",
      "Epoch 142/400\n",
      "12234/12234 [==============================] - 0s 36us/sample - loss: 0.0014 - val_loss: 9.4570e-04\n",
      "Epoch 143/400\n",
      "12234/12234 [==============================] - 1s 48us/sample - loss: 0.0013 - val_loss: 8.8249e-04\n",
      "Epoch 144/400\n",
      "12234/12234 [==============================] - 0s 38us/sample - loss: 0.0014 - val_loss: 0.0011\n",
      "Epoch 145/400\n",
      "12234/12234 [==============================] - 1s 44us/sample - loss: 0.0014 - val_loss: 9.7918e-04\n",
      "Epoch 146/400\n",
      "12234/12234 [==============================] - 1s 45us/sample - loss: 0.0014 - val_loss: 8.8976e-04\n",
      "Epoch 147/400\n",
      "12234/12234 [==============================] - 1s 46us/sample - loss: 0.0013 - val_loss: 9.2429e-04\n",
      "Epoch 148/400\n",
      "12234/12234 [==============================] - 1s 48us/sample - loss: 0.0014 - val_loss: 9.5527e-04\n",
      "Epoch 149/400\n",
      "12234/12234 [==============================] - 1s 46us/sample - loss: 0.0014 - val_loss: 0.0010\n",
      "Epoch 150/400\n",
      "12234/12234 [==============================] - 0s 34us/sample - loss: 0.0013 - val_loss: 0.0011\n",
      "Epoch 151/400\n",
      "12234/12234 [==============================] - 1s 48us/sample - loss: 0.0014 - val_loss: 8.7458e-04\n",
      "Epoch 152/400\n",
      "12234/12234 [==============================] - 0s 30us/sample - loss: 0.0014 - val_loss: 8.6850e-04\n",
      "Epoch 153/400\n",
      "12234/12234 [==============================] - 1s 51us/sample - loss: 0.0014 - val_loss: 9.3864e-04\n",
      "Epoch 154/400\n",
      "12234/12234 [==============================] - 1s 42us/sample - loss: 0.0013 - val_loss: 8.9849e-04\n",
      "Epoch 155/400\n",
      "12234/12234 [==============================] - 0s 35us/sample - loss: 0.0014 - val_loss: 8.6290e-04\n",
      "Epoch 156/400\n",
      "12234/12234 [==============================] - 0s 33us/sample - loss: 0.0014 - val_loss: 9.0173e-04\n",
      "Epoch 157/400\n",
      "12234/12234 [==============================] - 0s 33us/sample - loss: 0.0013 - val_loss: 8.8653e-04\n",
      "Epoch 158/400\n",
      "12234/12234 [==============================] - 0s 26us/sample - loss: 0.0014 - val_loss: 8.8868e-04\n",
      "Epoch 159/400\n",
      "12234/12234 [==============================] - 0s 24us/sample - loss: 0.0014 - val_loss: 9.6132e-04\n",
      "Epoch 160/400\n",
      "12234/12234 [==============================] - 0s 33us/sample - loss: 0.0014 - val_loss: 8.5222e-04\n",
      "Epoch 161/400\n",
      "12234/12234 [==============================] - 0s 37us/sample - loss: 0.0013 - val_loss: 8.9748e-04\n",
      "Epoch 162/400\n",
      "12234/12234 [==============================] - 0s 34us/sample - loss: 0.0013 - val_loss: 8.6230e-04\n",
      "Epoch 163/400\n",
      "12234/12234 [==============================] - 0s 36us/sample - loss: 0.0013 - val_loss: 8.7370e-04\n",
      "Epoch 164/400\n",
      "12234/12234 [==============================] - 1s 42us/sample - loss: 0.0013 - val_loss: 8.6128e-04\n",
      "Epoch 165/400\n",
      "12234/12234 [==============================] - 1s 41us/sample - loss: 0.0013 - val_loss: 8.9878e-04\n",
      "Epoch 166/400\n",
      "12234/12234 [==============================] - 1s 46us/sample - loss: 0.0013 - val_loss: 9.7438e-04\n",
      "Epoch 167/400\n",
      "12234/12234 [==============================] - 1s 46us/sample - loss: 0.0014 - val_loss: 8.4715e-04\n",
      "Epoch 168/400\n",
      "12234/12234 [==============================] - 1s 45us/sample - loss: 0.0014 - val_loss: 8.7642e-04\n",
      "Epoch 169/400\n",
      "12234/12234 [==============================] - 1s 44us/sample - loss: 0.0013 - val_loss: 8.7425e-04\n",
      "Epoch 170/400\n",
      "12234/12234 [==============================] - 1s 41us/sample - loss: 0.0013 - val_loss: 8.5480e-04\n",
      "Epoch 171/400\n",
      "12234/12234 [==============================] - 1s 44us/sample - loss: 0.0013 - val_loss: 9.1954e-04\n",
      "Epoch 172/400\n",
      "12234/12234 [==============================] - 0s 34us/sample - loss: 0.0013 - val_loss: 8.4822e-04\n",
      "Epoch 173/400\n",
      "12234/12234 [==============================] - 0s 35us/sample - loss: 0.0013 - val_loss: 8.7768e-04\n",
      "Epoch 174/400\n",
      "12234/12234 [==============================] - 0s 36us/sample - loss: 0.0013 - val_loss: 8.6127e-04\n",
      "Epoch 175/400\n",
      "12234/12234 [==============================] - 0s 35us/sample - loss: 0.0014 - val_loss: 9.2293e-04\n",
      "Epoch 176/400\n",
      "12234/12234 [==============================] - 0s 34us/sample - loss: 0.0013 - val_loss: 8.5702e-04\n",
      "Epoch 177/400\n",
      "12234/12234 [==============================] - 0s 35us/sample - loss: 0.0013 - val_loss: 9.6080e-04\n",
      "Epoch 178/400\n",
      "12234/12234 [==============================] - 0s 33us/sample - loss: 0.0014 - val_loss: 8.6618e-04\n",
      "Epoch 179/400\n",
      "12234/12234 [==============================] - 0s 37us/sample - loss: 0.0013 - val_loss: 9.6074e-04\n",
      "Epoch 180/400\n",
      "12234/12234 [==============================] - 0s 39us/sample - loss: 0.0013 - val_loss: 9.1898e-04\n",
      "Epoch 181/400\n",
      "12234/12234 [==============================] - 1s 46us/sample - loss: 0.0013 - val_loss: 8.6071e-04\n",
      "Epoch 182/400\n",
      "12234/12234 [==============================] - 0s 33us/sample - loss: 0.0013 - val_loss: 0.0010\n",
      "Epoch 183/400\n",
      "12234/12234 [==============================] - 0s 36us/sample - loss: 0.0013 - val_loss: 9.8130e-04\n",
      "Epoch 184/400\n",
      "12234/12234 [==============================] - 0s 34us/sample - loss: 0.0014 - val_loss: 9.0910e-04\n",
      "Epoch 185/400\n",
      "12234/12234 [==============================] - 0s 26us/sample - loss: 0.0013 - val_loss: 9.2773e-04\n",
      "Epoch 186/400\n",
      "12234/12234 [==============================] - 0s 23us/sample - loss: 0.0013 - val_loss: 8.3206e-04\n",
      "Epoch 187/400\n",
      "12234/12234 [==============================] - 0s 37us/sample - loss: 0.0013 - val_loss: 8.4316e-04\n",
      "Epoch 188/400\n",
      "12234/12234 [==============================] - 0s 38us/sample - loss: 0.0013 - val_loss: 8.5757e-04\n",
      "Epoch 189/400\n",
      "12234/12234 [==============================] - 1s 46us/sample - loss: 0.0013 - val_loss: 8.5811e-04\n",
      "Epoch 190/400\n",
      "12234/12234 [==============================] - 1s 46us/sample - loss: 0.0013 - val_loss: 8.5083e-04\n",
      "Epoch 191/400\n",
      "12234/12234 [==============================] - 0s 38us/sample - loss: 0.0013 - val_loss: 8.4172e-04\n",
      "Epoch 192/400\n",
      "12234/12234 [==============================] - 1s 46us/sample - loss: 0.0013 - val_loss: 8.6477e-04\n",
      "Epoch 193/400\n",
      "12234/12234 [==============================] - 1s 48us/sample - loss: 0.0013 - val_loss: 0.0010\n",
      "Epoch 194/400\n",
      "12234/12234 [==============================] - 1s 44us/sample - loss: 0.0013 - val_loss: 8.6538e-04\n",
      "Epoch 195/400\n",
      "12234/12234 [==============================] - 1s 41us/sample - loss: 0.0013 - val_loss: 8.7284e-04\n",
      "Epoch 196/400\n",
      "12234/12234 [==============================] - 0s 31us/sample - loss: 0.0013 - val_loss: 8.2920e-04\n",
      "Epoch 197/400\n",
      "12234/12234 [==============================] - 1s 51us/sample - loss: 0.0013 - val_loss: 8.6397e-04\n",
      "Epoch 198/400\n",
      "12234/12234 [==============================] - 1s 45us/sample - loss: 0.0013 - val_loss: 8.1389e-04\n",
      "Epoch 199/400\n",
      "12234/12234 [==============================] - 1s 46us/sample - loss: 0.0013 - val_loss: 8.4034e-04\n",
      "Epoch 200/400\n",
      "12234/12234 [==============================] - 1s 53us/sample - loss: 0.0013 - val_loss: 8.3994e-04\n",
      "Epoch 201/400\n",
      "12234/12234 [==============================] - 1s 45us/sample - loss: 0.0013 - val_loss: 8.4443e-04\n",
      "Epoch 202/400\n",
      "12234/12234 [==============================] - 0s 41us/sample - loss: 0.0013 - val_loss: 8.3627e-04\n",
      "Epoch 203/400\n",
      "12234/12234 [==============================] - 0s 33us/sample - loss: 0.0013 - val_loss: 8.3108e-04\n",
      "Epoch 204/400\n",
      "12234/12234 [==============================] - 1s 51us/sample - loss: 0.0013 - val_loss: 8.1901e-04\n",
      "Epoch 205/400\n",
      "12234/12234 [==============================] - 1s 49us/sample - loss: 0.0013 - val_loss: 8.5512e-04\n",
      "Epoch 206/400\n",
      "12234/12234 [==============================] - 1s 50us/sample - loss: 0.0013 - val_loss: 0.0011\n",
      "Epoch 207/400\n",
      "12234/12234 [==============================] - 1s 53us/sample - loss: 0.0013 - val_loss: 8.2622e-04\n",
      "Epoch 208/400\n",
      "12234/12234 [==============================] - 0s 40us/sample - loss: 0.0013 - val_loss: 8.4730e-04\n",
      "Epoch 209/400\n",
      "12234/12234 [==============================] - 1s 47us/sample - loss: 0.0013 - val_loss: 8.7953e-04\n",
      "Epoch 210/400\n",
      "12234/12234 [==============================] - 1s 46us/sample - loss: 0.0013 - val_loss: 8.3696e-04\n",
      "Epoch 211/400\n",
      "12234/12234 [==============================] - 1s 46us/sample - loss: 0.0013 - val_loss: 8.3434e-04\n",
      "Epoch 212/400\n",
      "12234/12234 [==============================] - 1s 44us/sample - loss: 0.0013 - val_loss: 8.1822e-04\n",
      "Epoch 213/400\n",
      "12234/12234 [==============================] - 1s 42us/sample - loss: 0.0013 - val_loss: 8.3271e-04\n",
      "Epoch 214/400\n",
      "12234/12234 [==============================] - 1s 45us/sample - loss: 0.0013 - val_loss: 8.2899e-04\n",
      "Epoch 215/400\n",
      "12234/12234 [==============================] - 0s 30us/sample - loss: 0.0014 - val_loss: 8.9981e-04\n",
      "Epoch 216/400\n",
      "12234/12234 [==============================] - 0s 32us/sample - loss: 0.0013 - val_loss: 8.2493e-04\n",
      "Epoch 217/400\n",
      "12234/12234 [==============================] - 0s 32us/sample - loss: 0.0013 - val_loss: 8.3168e-04\n",
      "Epoch 218/400\n",
      "12234/12234 [==============================] - 0s 30us/sample - loss: 0.0013 - val_loss: 8.8619e-04\n"
     ]
    }
   ],
   "source": [
    "results = model.fit(x=X_train, y=y_train,\n",
    "                        epochs=epochs,\n",
    "                        batch_size=batch_size,\n",
    "                        validation_data=(X_test, y_test),\n",
    "                        callbacks=[early_stop]\n",
    "                    )"
   ]
  },
  {
   "cell_type": "code",
   "execution_count": 105,
   "metadata": {},
   "outputs": [
    {
     "name": "stdout",
     "output_type": "stream",
     "text": [
      "Model: \"sequential_9\"\n",
      "_________________________________________________________________\n",
      "Layer (type)                 Output Shape              Param #   \n",
      "=================================================================\n",
      "dense_62 (Dense)             multiple                  870       \n",
      "_________________________________________________________________\n",
      "dropout_53 (Dropout)         multiple                  0         \n",
      "_________________________________________________________________\n",
      "dense_63 (Dense)             multiple                  1740      \n",
      "_________________________________________________________________\n",
      "dropout_54 (Dropout)         multiple                  0         \n",
      "_________________________________________________________________\n",
      "dense_64 (Dense)             multiple                  6844      \n",
      "_________________________________________________________________\n",
      "dropout_55 (Dropout)         multiple                  0         \n",
      "_________________________________________________________________\n",
      "dense_65 (Dense)             multiple                  3393      \n",
      "_________________________________________________________________\n",
      "dropout_56 (Dropout)         multiple                  0         \n",
      "_________________________________________________________________\n",
      "dense_66 (Dense)             multiple                  420       \n",
      "_________________________________________________________________\n",
      "dropout_57 (Dropout)         multiple                  0         \n",
      "_________________________________________________________________\n",
      "dense_67 (Dense)             multiple                  15        \n",
      "=================================================================\n",
      "Total params: 13,282\n",
      "Trainable params: 13,282\n",
      "Non-trainable params: 0\n",
      "_________________________________________________________________\n"
     ]
    }
   ],
   "source": [
    "model.summary()"
   ]
  },
  {
   "cell_type": "code",
   "execution_count": 57,
   "metadata": {},
   "outputs": [],
   "source": [
    "import os"
   ]
  },
  {
   "cell_type": "code",
   "execution_count": 129,
   "metadata": {},
   "outputs": [],
   "source": [
    "losses = model.history.history\n",
    "losses['loss'] = np.asarray(losses['loss'])\n",
    "losses['val_loss'] = np.asarray(losses['val_loss'])\n",
    "final_number_of_epochs = len(losses['loss'])\n",
    "min_loss = losses['loss'].min()\n",
    "mean_loss = losses['loss'].mean()\n",
    "final_loss = losses['loss'][-1]\n",
    "min_val_loss = losses['val_loss'].min()\n",
    "mean_val_loss = losses['val_loss'].mean()\n",
    "final_val_loss = losses['val_loss'][-1]\n",
    "\n",
    "def get_model_summary():\n",
    "    output = []\n",
    "    model.summary(print_fn=lambda line: output.append(line))\n",
    "    return str(output).strip('[]')\n",
    "\n",
    "summary = get_model_summary()\n",
    "\n",
    "record = {\n",
    "    'Epochs': final_number_of_epochs,\n",
    "    'Batch_Size': batch_size,\n",
    "    'Loss_Func': loss_param,\n",
    "    'Optimizer': optimizer_param,\n",
    "    'Early_Stop_Monitor': stop_monitor,\n",
    "    'Early_Stop_Patience': stop_patience,\n",
    "    'Min_Loss': min_loss,\n",
    "    'Mean_Loss': mean_loss,\n",
    "    'Final_Loss': final_loss,\n",
    "    'Min_Val_Loss': min_val_loss,\n",
    "    'Mean_Val_Loss': mean_val_loss,\n",
    "    'Final_Val_Loss': final_val_loss,\n",
    "    'Model': summary\n",
    "}\n",
    "\n",
    "new_data = pd.DataFrame(record, index=[0])\n",
    "\n",
    "if os.path.exists('../core/records/batting_results.csv'):\n",
    "    df_records = pd.read_csv('../core/records/batting_results.csv')\n",
    "    df_records = df_records.append(new_data)\n",
    "else:\n",
    "    df_records = pd.DataFrame(new_data)\n",
    "    \n",
    "df_records.to_csv('../core/records/batting_results.csv', index=False, float_format='%g')"
   ]
  },
  {
   "cell_type": "markdown",
   "metadata": {},
   "source": [
    "<h2>Model Evaluation</h2>"
   ]
  },
  {
   "cell_type": "code",
   "execution_count": 130,
   "metadata": {},
   "outputs": [],
   "source": [
    "losses = pd.DataFrame(model.history.history)"
   ]
  },
  {
   "cell_type": "code",
   "execution_count": 131,
   "metadata": {},
   "outputs": [
    {
     "data": {
      "text/plain": [
       "<matplotlib.axes._subplots.AxesSubplot at 0x148e5fdd0>"
      ]
     },
     "execution_count": 131,
     "metadata": {},
     "output_type": "execute_result"
    },
    {
     "data": {
      "image/png": "[encoded data removed]",
      "text/plain": [
       "<Figure size 432x288 with 1 Axes>"
      ]
     },
     "metadata": {
      "needs_background": "light"
     },
     "output_type": "display_data"
    }
   ],
   "source": [
    "losses.plot()"
   ]
  },
  {
   "cell_type": "code",
   "execution_count": 61,
   "metadata": {},
   "outputs": [],
   "source": [
    "predictions = model.predict(X_test)\n",
    "predictions = [pred for sublist in predictions for pred in sublist]"
   ]
  },
  {
   "cell_type": "code",
   "execution_count": 29,
   "metadata": {},
   "outputs": [],
   "source": [
    "test_player_ratings = dict(zip(X_test_keys, predictions))"
   ]
  },
  {
   "cell_type": "code",
   "execution_count": 30,
   "metadata": {},
   "outputs": [],
   "source": [
    "player_key = df['retroID']"
   ]
  },
  {
   "cell_type": "code",
   "execution_count": 31,
   "metadata": {},
   "outputs": [
    {
     "data": {
      "text/plain": [
       "0        aardd001\n",
       "1        aaroh101\n",
       "2        aarot101\n",
       "3        aased001\n",
       "4        abada001\n",
       "           ...   \n",
       "15288    zupcb001\n",
       "15289    zupof101\n",
       "15290    zuveg101\n",
       "15291    zuvep001\n",
       "15292    zycht001\n",
       "Name: retroID, Length: 15293, dtype: object"
      ]
     },
     "execution_count": 31,
     "metadata": {},
     "output_type": "execute_result"
    }
   ],
   "source": [
    "player_key"
   ]
  },
  {
   "cell_type": "code",
   "execution_count": 32,
   "metadata": {},
   "outputs": [],
   "source": [
    "results = model.predict(tensor.to_numpy())"
   ]
  },
  {
   "cell_type": "code",
   "execution_count": 33,
   "metadata": {},
   "outputs": [
    {
     "data": {
      "text/plain": [
       "15293"
      ]
     },
     "execution_count": 33,
     "metadata": {},
     "output_type": "execute_result"
    }
   ],
   "source": [
    "len(results)"
   ]
  },
  {
   "cell_type": "code",
   "execution_count": 34,
   "metadata": {},
   "outputs": [
    {
     "data": {
      "text/plain": [
       "0.11595928"
      ]
     },
     "execution_count": 34,
     "metadata": {},
     "output_type": "execute_result"
    }
   ],
   "source": [
    "results.mean()"
   ]
  },
  {
   "cell_type": "code",
   "execution_count": 35,
   "metadata": {},
   "outputs": [
    {
     "data": {
      "text/plain": [
       "(15293,)"
      ]
     },
     "execution_count": 35,
     "metadata": {},
     "output_type": "execute_result"
    }
   ],
   "source": [
    "df['Batting'].shape"
   ]
  },
  {
   "cell_type": "code",
   "execution_count": 36,
   "metadata": {},
   "outputs": [
    {
     "data": {
      "text/plain": [
       "(15293, 1)"
      ]
     },
     "execution_count": 36,
     "metadata": {},
     "output_type": "execute_result"
    }
   ],
   "source": [
    "results.shape"
   ]
  },
  {
   "cell_type": "code",
   "execution_count": 37,
   "metadata": {},
   "outputs": [],
   "source": [
    "results = [pred for sublist in results for pred in sublist]"
   ]
  },
  {
   "cell_type": "code",
   "execution_count": 38,
   "metadata": {},
   "outputs": [],
   "source": [
    "diff = df['Batting'] - results"
   ]
  },
  {
   "cell_type": "code",
   "execution_count": 39,
   "metadata": {},
   "outputs": [
    {
     "data": {
      "text/plain": [
       "<matplotlib.axes._subplots.AxesSubplot at 0x145c29890>"
      ]
     },
     "execution_count": 39,
     "metadata": {},
     "output_type": "execute_result"
    },
    {
     "data": {
      "image/png": "[encoded data removed]",
      "text/plain": [
       "<Figure size 432x288 with 1 Axes>"
      ]
     },
     "metadata": {
      "needs_background": "light"
     },
     "output_type": "display_data"
    }
   ],
   "source": [
    "diff.plot()"
   ]
  },
  {
   "cell_type": "code",
   "execution_count": 40,
   "metadata": {},
   "outputs": [
    {
     "data": {
      "text/plain": [
       "0.005629653826018003"
      ]
     },
     "execution_count": 40,
     "metadata": {},
     "output_type": "execute_result"
    }
   ],
   "source": [
    "diff.mean()"
   ]
  },
  {
   "cell_type": "code",
   "execution_count": null,
   "metadata": {},
   "outputs": [],
   "source": []
  }
 ],
 "metadata": {
  "kernelspec": {
   "display_name": "Python 3.7.6 64-bit ('tf2env': conda)",
   "language": "python",
   "name": "python37664bittf2envconda7a5d2b04ce96452f92a2890aed430c66"
  },
  "language_info": {
   "codemirror_mode": {
    "name": "ipython",
    "version": 3
   },
   "file_extension": ".py",
   "mimetype": "text/x-python",
   "name": "python",
   "nbconvert_exporter": "python",
   "pygments_lexer": "ipython3",
   "version": "3.7.7"
  }
 },
 "nbformat": 4,
 "nbformat_minor": 4
}
