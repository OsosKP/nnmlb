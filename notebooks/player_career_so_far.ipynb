{
 "cells": [
  {
   "cell_type": "code",
   "execution_count": 1,
   "metadata": {},
   "outputs": [],
   "source": [
    "import pandas as pd\n",
    "pd.options.mode.chained_assignment = None  # default='warn'"
   ]
  },
  {
   "cell_type": "markdown",
   "metadata": {},
   "source": [
    "<h2>Position Players</h2>"
   ]
  },
  {
   "cell_type": "code",
   "execution_count": 2,
   "metadata": {},
   "outputs": [],
   "source": [
    "batters = pd.read_csv('../core/output/batters.csv')\n",
    "batter_years = pd.read_csv('../core/output/batting.csv')\n",
    "year = 2017\n",
    "batter = 'bettm001'"
   ]
  },
  {
   "cell_type": "code",
   "execution_count": 3,
   "metadata": {},
   "outputs": [],
   "source": [
    "career = batters[batters['retroID'] == batter]\n",
    "player = batter_years[(batter_years['retroID'] == batter)\n",
    "                      & (batter_years['yearID'] <= year)]\n",
    "player = player.groupby('retroID').sum()"
   ]
  },
  {
   "cell_type": "code",
   "execution_count": 4,
   "metadata": {},
   "outputs": [
    {
     "data": {
      "text/html": [
       "<div>\n",
       "<style scoped>\n",
       "    .dataframe tbody tr th:only-of-type {\n",
       "        vertical-align: middle;\n",
       "    }\n",
       "\n",
       "    .dataframe tbody tr th {\n",
       "        vertical-align: top;\n",
       "    }\n",
       "\n",
       "    .dataframe thead th {\n",
       "        text-align: right;\n",
       "    }\n",
       "</style>\n",
       "<table border=\"1\" class=\"dataframe\">\n",
       "  <thead>\n",
       "    <tr style=\"text-align: right;\">\n",
       "      <th></th>\n",
       "      <th>retroID</th>\n",
       "      <th>weight</th>\n",
       "      <th>height</th>\n",
       "      <th>pos_1B</th>\n",
       "      <th>pos_2B</th>\n",
       "      <th>pos_3B</th>\n",
       "      <th>pos_C</th>\n",
       "      <th>pos_OF</th>\n",
       "      <th>pos_P</th>\n",
       "      <th>pos_SS</th>\n",
       "      <th>...</th>\n",
       "      <th>IBB</th>\n",
       "      <th>HBP</th>\n",
       "      <th>SH</th>\n",
       "      <th>SF</th>\n",
       "      <th>GIDP</th>\n",
       "      <th>NL</th>\n",
       "      <th>wOBA</th>\n",
       "      <th>wRC+</th>\n",
       "      <th>WAR</th>\n",
       "      <th>Batting</th>\n",
       "    </tr>\n",
       "  </thead>\n",
       "  <tbody>\n",
       "    <tr>\n",
       "      <th>1074</th>\n",
       "      <td>bettm001</td>\n",
       "      <td>0.42623</td>\n",
       "      <td>0.3</td>\n",
       "      <td>0</td>\n",
       "      <td>0</td>\n",
       "      <td>0</td>\n",
       "      <td>0</td>\n",
       "      <td>1</td>\n",
       "      <td>0</td>\n",
       "      <td>0</td>\n",
       "      <td>...</td>\n",
       "      <td>25</td>\n",
       "      <td>19</td>\n",
       "      <td>4</td>\n",
       "      <td>32</td>\n",
       "      <td>41</td>\n",
       "      <td>0</td>\n",
       "      <td>0.377</td>\n",
       "      <td>135</td>\n",
       "      <td>37.2</td>\n",
       "      <td>0.245078</td>\n",
       "    </tr>\n",
       "  </tbody>\n",
       "</table>\n",
       "<p>1 rows × 37 columns</p>\n",
       "</div>"
      ],
      "text/plain": [
       "       retroID   weight  height  pos_1B  pos_2B  pos_3B  pos_C  pos_OF  pos_P  \\\n",
       "1074  bettm001  0.42623     0.3       0       0       0      0       1      0   \n",
       "\n",
       "      pos_SS  ...  IBB  HBP  SH  SF  GIDP  NL   wOBA  wRC+   WAR   Batting  \n",
       "1074       0  ...   25   19   4  32    41   0  0.377   135  37.2  0.245078  \n",
       "\n",
       "[1 rows x 37 columns]"
      ]
     },
     "execution_count": 4,
     "metadata": {},
     "output_type": "execute_result"
    }
   ],
   "source": [
    "career"
   ]
  },
  {
   "cell_type": "code",
   "execution_count": 5,
   "metadata": {},
   "outputs": [
    {
     "data": {
      "text/plain": [
       "(1, 37)"
      ]
     },
     "execution_count": 5,
     "metadata": {},
     "output_type": "execute_result"
    }
   ],
   "source": [
    "career.shape"
   ]
  },
  {
   "cell_type": "code",
   "execution_count": 6,
   "metadata": {},
   "outputs": [
    {
     "data": {
      "text/html": [
       "<div>\n",
       "<style scoped>\n",
       "    .dataframe tbody tr th:only-of-type {\n",
       "        vertical-align: middle;\n",
       "    }\n",
       "\n",
       "    .dataframe tbody tr th {\n",
       "        vertical-align: top;\n",
       "    }\n",
       "\n",
       "    .dataframe thead th {\n",
       "        text-align: right;\n",
       "    }\n",
       "</style>\n",
       "<table border=\"1\" class=\"dataframe\">\n",
       "  <thead>\n",
       "    <tr style=\"text-align: right;\">\n",
       "      <th></th>\n",
       "      <th>yearID</th>\n",
       "      <th>stint</th>\n",
       "      <th>G</th>\n",
       "      <th>AB</th>\n",
       "      <th>PA</th>\n",
       "      <th>R</th>\n",
       "      <th>H</th>\n",
       "      <th>1B</th>\n",
       "      <th>2B</th>\n",
       "      <th>3B</th>\n",
       "      <th>...</th>\n",
       "      <th>SB</th>\n",
       "      <th>CS</th>\n",
       "      <th>BB</th>\n",
       "      <th>SO</th>\n",
       "      <th>IBB</th>\n",
       "      <th>HBP</th>\n",
       "      <th>SH</th>\n",
       "      <th>SF</th>\n",
       "      <th>GIDP</th>\n",
       "      <th>NL</th>\n",
       "    </tr>\n",
       "    <tr>\n",
       "      <th>retroID</th>\n",
       "      <th></th>\n",
       "      <th></th>\n",
       "      <th></th>\n",
       "      <th></th>\n",
       "      <th></th>\n",
       "      <th></th>\n",
       "      <th></th>\n",
       "      <th></th>\n",
       "      <th></th>\n",
       "      <th></th>\n",
       "      <th></th>\n",
       "      <th></th>\n",
       "      <th></th>\n",
       "      <th></th>\n",
       "      <th></th>\n",
       "      <th></th>\n",
       "      <th></th>\n",
       "      <th></th>\n",
       "      <th></th>\n",
       "      <th></th>\n",
       "      <th></th>\n",
       "    </tr>\n",
       "  </thead>\n",
       "  <tbody>\n",
       "    <tr>\n",
       "      <th>bettm001</th>\n",
       "      <td>8062</td>\n",
       "      <td>4</td>\n",
       "      <td>508</td>\n",
       "      <td>2086</td>\n",
       "      <td>2309</td>\n",
       "      <td>349</td>\n",
       "      <td>609</td>\n",
       "      <td>373</td>\n",
       "      <td>142</td>\n",
       "      <td>16</td>\n",
       "      <td>...</td>\n",
       "      <td>80</td>\n",
       "      <td>16.0</td>\n",
       "      <td>193</td>\n",
       "      <td>272</td>\n",
       "      <td>11</td>\n",
       "      <td>8</td>\n",
       "      <td>4</td>\n",
       "      <td>18</td>\n",
       "      <td>25</td>\n",
       "      <td>0</td>\n",
       "    </tr>\n",
       "  </tbody>\n",
       "</table>\n",
       "<p>1 rows × 22 columns</p>\n",
       "</div>"
      ],
      "text/plain": [
       "          yearID  stint    G    AB    PA    R    H   1B   2B  3B  ...  SB  \\\n",
       "retroID                                                           ...       \n",
       "bettm001    8062      4  508  2086  2309  349  609  373  142  16  ...  80   \n",
       "\n",
       "            CS   BB   SO  IBB  HBP  SH  SF  GIDP  NL  \n",
       "retroID                                               \n",
       "bettm001  16.0  193  272   11    8   4  18    25   0  \n",
       "\n",
       "[1 rows x 22 columns]"
      ]
     },
     "execution_count": 6,
     "metadata": {},
     "output_type": "execute_result"
    }
   ],
   "source": [
    "player"
   ]
  },
  {
   "cell_type": "code",
   "execution_count": 7,
   "metadata": {},
   "outputs": [
    {
     "data": {
      "text/plain": [
       "Index(['retroID', 'weight', 'height', 'pos_1B', 'pos_2B', 'pos_3B', 'pos_C',\n",
       "       'pos_OF', 'pos_P', 'pos_SS', 'bats_L', 'throws_L', 'seasons', 'G', 'AB',\n",
       "       'PA', 'R', 'H', '1B', '2B', '3B', 'HR', 'RBI', 'SB', 'CS', 'BB', 'SO',\n",
       "       'IBB', 'HBP', 'SH', 'SF', 'GIDP', 'NL', 'wOBA', 'wRC+', 'WAR',\n",
       "       'Batting'],\n",
       "      dtype='object')"
      ]
     },
     "execution_count": 7,
     "metadata": {},
     "output_type": "execute_result"
    }
   ],
   "source": [
    "career.columns"
   ]
  },
  {
   "cell_type": "code",
   "execution_count": 8,
   "metadata": {},
   "outputs": [
    {
     "data": {
      "text/plain": [
       "Index(['yearID', 'stint', 'G', 'AB', 'PA', 'R', 'H', '1B', '2B', '3B', 'HR',\n",
       "       'RBI', 'SB', 'CS', 'BB', 'SO', 'IBB', 'HBP', 'SH', 'SF', 'GIDP', 'NL'],\n",
       "      dtype='object')"
      ]
     },
     "execution_count": 8,
     "metadata": {},
     "output_type": "execute_result"
    }
   ],
   "source": [
    "player.columns"
   ]
  },
  {
   "cell_type": "code",
   "execution_count": 9,
   "metadata": {},
   "outputs": [],
   "source": [
    "career_to_drop = ['debutYear', 'finalYear', 'wOBA', 'Batting']"
   ]
  },
  {
   "cell_type": "code",
   "execution_count": 10,
   "metadata": {},
   "outputs": [],
   "source": [
    "features = ['G', 'AB', 'PA', 'R', 'H', '1B', '2B', '3B',\n",
    "            'HR', 'RBI', 'SB', 'CS', 'BB', 'SO', 'IBB',\n",
    "            'HBP', 'SH', 'SF', 'GIDP']"
   ]
  },
  {
   "cell_type": "code",
   "execution_count": 11,
   "metadata": {},
   "outputs": [],
   "source": [
    "for column in career[features]:\n",
    "    career.iloc[0][column] = player.iloc[0][column]"
   ]
  },
  {
   "cell_type": "code",
   "execution_count": 12,
   "metadata": {},
   "outputs": [
    {
     "data": {
      "text/html": [
       "<div>\n",
       "<style scoped>\n",
       "    .dataframe tbody tr th:only-of-type {\n",
       "        vertical-align: middle;\n",
       "    }\n",
       "\n",
       "    .dataframe tbody tr th {\n",
       "        vertical-align: top;\n",
       "    }\n",
       "\n",
       "    .dataframe thead th {\n",
       "        text-align: right;\n",
       "    }\n",
       "</style>\n",
       "<table border=\"1\" class=\"dataframe\">\n",
       "  <thead>\n",
       "    <tr style=\"text-align: right;\">\n",
       "      <th></th>\n",
       "      <th>retroID</th>\n",
       "      <th>weight</th>\n",
       "      <th>height</th>\n",
       "      <th>pos_1B</th>\n",
       "      <th>pos_2B</th>\n",
       "      <th>pos_3B</th>\n",
       "      <th>pos_C</th>\n",
       "      <th>pos_OF</th>\n",
       "      <th>pos_P</th>\n",
       "      <th>pos_SS</th>\n",
       "      <th>...</th>\n",
       "      <th>IBB</th>\n",
       "      <th>HBP</th>\n",
       "      <th>SH</th>\n",
       "      <th>SF</th>\n",
       "      <th>GIDP</th>\n",
       "      <th>NL</th>\n",
       "      <th>wOBA</th>\n",
       "      <th>wRC+</th>\n",
       "      <th>WAR</th>\n",
       "      <th>Batting</th>\n",
       "    </tr>\n",
       "  </thead>\n",
       "  <tbody>\n",
       "    <tr>\n",
       "      <th>1074</th>\n",
       "      <td>bettm001</td>\n",
       "      <td>0.42623</td>\n",
       "      <td>0.3</td>\n",
       "      <td>0</td>\n",
       "      <td>0</td>\n",
       "      <td>0</td>\n",
       "      <td>0</td>\n",
       "      <td>1</td>\n",
       "      <td>0</td>\n",
       "      <td>0</td>\n",
       "      <td>...</td>\n",
       "      <td>25</td>\n",
       "      <td>19</td>\n",
       "      <td>4</td>\n",
       "      <td>32</td>\n",
       "      <td>41</td>\n",
       "      <td>0</td>\n",
       "      <td>0.377</td>\n",
       "      <td>135</td>\n",
       "      <td>37.2</td>\n",
       "      <td>0.245078</td>\n",
       "    </tr>\n",
       "  </tbody>\n",
       "</table>\n",
       "<p>1 rows × 37 columns</p>\n",
       "</div>"
      ],
      "text/plain": [
       "       retroID   weight  height  pos_1B  pos_2B  pos_3B  pos_C  pos_OF  pos_P  \\\n",
       "1074  bettm001  0.42623     0.3       0       0       0      0       1      0   \n",
       "\n",
       "      pos_SS  ...  IBB  HBP  SH  SF  GIDP  NL   wOBA  wRC+   WAR   Batting  \n",
       "1074       0  ...   25   19   4  32    41   0  0.377   135  37.2  0.245078  \n",
       "\n",
       "[1 rows x 37 columns]"
      ]
     },
     "execution_count": 12,
     "metadata": {},
     "output_type": "execute_result"
    }
   ],
   "source": [
    "career"
   ]
  },
  {
   "cell_type": "code",
   "execution_count": 13,
   "metadata": {},
   "outputs": [],
   "source": [
    "career = career.drop(columns=career_to_drop)"
   ]
  },
  {
   "cell_type": "code",
   "execution_count": 13,
   "metadata": {},
   "outputs": [
    {
     "data": {
      "text/html": [
       "<div>\n",
       "<style scoped>\n",
       "    .dataframe tbody tr th:only-of-type {\n",
       "        vertical-align: middle;\n",
       "    }\n",
       "\n",
       "    .dataframe tbody tr th {\n",
       "        vertical-align: top;\n",
       "    }\n",
       "\n",
       "    .dataframe thead th {\n",
       "        text-align: right;\n",
       "    }\n",
       "</style>\n",
       "<table border=\"1\" class=\"dataframe\">\n",
       "  <thead>\n",
       "    <tr style=\"text-align: right;\">\n",
       "      <th></th>\n",
       "      <th>retroID</th>\n",
       "      <th>weight</th>\n",
       "      <th>height</th>\n",
       "      <th>pos_1B</th>\n",
       "      <th>pos_2B</th>\n",
       "      <th>pos_3B</th>\n",
       "      <th>pos_C</th>\n",
       "      <th>pos_OF</th>\n",
       "      <th>pos_P</th>\n",
       "      <th>pos_SS</th>\n",
       "      <th>...</th>\n",
       "      <th>IBB</th>\n",
       "      <th>HBP</th>\n",
       "      <th>SH</th>\n",
       "      <th>SF</th>\n",
       "      <th>GIDP</th>\n",
       "      <th>NL</th>\n",
       "      <th>wOBA</th>\n",
       "      <th>wRC+</th>\n",
       "      <th>WAR</th>\n",
       "      <th>Batting</th>\n",
       "    </tr>\n",
       "  </thead>\n",
       "  <tbody>\n",
       "    <tr>\n",
       "      <th>1074</th>\n",
       "      <td>bettm001</td>\n",
       "      <td>0.42623</td>\n",
       "      <td>0.3</td>\n",
       "      <td>0</td>\n",
       "      <td>0</td>\n",
       "      <td>0</td>\n",
       "      <td>0</td>\n",
       "      <td>1</td>\n",
       "      <td>0</td>\n",
       "      <td>0</td>\n",
       "      <td>...</td>\n",
       "      <td>25</td>\n",
       "      <td>19</td>\n",
       "      <td>4</td>\n",
       "      <td>32</td>\n",
       "      <td>41</td>\n",
       "      <td>0</td>\n",
       "      <td>0.377</td>\n",
       "      <td>135</td>\n",
       "      <td>37.2</td>\n",
       "      <td>0.245078</td>\n",
       "    </tr>\n",
       "  </tbody>\n",
       "</table>\n",
       "<p>1 rows × 37 columns</p>\n",
       "</div>"
      ],
      "text/plain": [
       "       retroID   weight  height  pos_1B  pos_2B  pos_3B  pos_C  pos_OF  pos_P  \\\n",
       "1074  bettm001  0.42623     0.3       0       0       0      0       1      0   \n",
       "\n",
       "      pos_SS  ...  IBB  HBP  SH  SF  GIDP  NL   wOBA  wRC+   WAR   Batting  \n",
       "1074       0  ...   25   19   4  32    41   0  0.377   135  37.2  0.245078  \n",
       "\n",
       "[1 rows x 37 columns]"
      ]
     },
     "execution_count": 13,
     "metadata": {},
     "output_type": "execute_result"
    }
   ],
   "source": [
    "career"
   ]
  },
  {
   "cell_type": "markdown",
   "metadata": {},
   "source": [
    "<h2>Pitchers</h2>"
   ]
  },
  {
   "cell_type": "code",
   "execution_count": 14,
   "metadata": {},
   "outputs": [],
   "source": [
    "pitchers = pd.read_csv('../core/output/pitchers.csv')\n",
    "pitcher_years = pd.read_csv('../core/output/pitching.csv')\n",
    "year = 2017\n",
    "pitcher = 'kersc001'"
   ]
  },
  {
   "cell_type": "code",
   "execution_count": 15,
   "metadata": {},
   "outputs": [],
   "source": [
    "career = pitchers[pitchers['retroID'] == pitcher]\n",
    "player = pitcher_years[(pitcher_years['retroID'] == pitcher)\n",
    "                      & (pitcher_years['yearID'] <= year)]\n",
    "player = player.groupby('retroID').sum()"
   ]
  },
  {
   "cell_type": "code",
   "execution_count": 16,
   "metadata": {},
   "outputs": [
    {
     "data": {
      "text/html": [
       "<div>\n",
       "<style scoped>\n",
       "    .dataframe tbody tr th:only-of-type {\n",
       "        vertical-align: middle;\n",
       "    }\n",
       "\n",
       "    .dataframe tbody tr th {\n",
       "        vertical-align: top;\n",
       "    }\n",
       "\n",
       "    .dataframe thead th {\n",
       "        text-align: right;\n",
       "    }\n",
       "</style>\n",
       "<table border=\"1\" class=\"dataframe\">\n",
       "  <thead>\n",
       "    <tr style=\"text-align: right;\">\n",
       "      <th></th>\n",
       "      <th>retroID</th>\n",
       "      <th>weight</th>\n",
       "      <th>height</th>\n",
       "      <th>pos_1B</th>\n",
       "      <th>pos_2B</th>\n",
       "      <th>pos_3B</th>\n",
       "      <th>pos_C</th>\n",
       "      <th>pos_OF</th>\n",
       "      <th>pos_P</th>\n",
       "      <th>pos_SS</th>\n",
       "      <th>...</th>\n",
       "      <th>IP</th>\n",
       "      <th>K/9</th>\n",
       "      <th>BB/9</th>\n",
       "      <th>HR/9</th>\n",
       "      <th>BABIP</th>\n",
       "      <th>LOB%</th>\n",
       "      <th>ERA</th>\n",
       "      <th>FIP</th>\n",
       "      <th>WAR</th>\n",
       "      <th>Pitching</th>\n",
       "    </tr>\n",
       "  </thead>\n",
       "  <tbody>\n",
       "    <tr>\n",
       "      <th>3761</th>\n",
       "      <td>kersc001</td>\n",
       "      <td>0.614754</td>\n",
       "      <td>0.65</td>\n",
       "      <td>0</td>\n",
       "      <td>0</td>\n",
       "      <td>0</td>\n",
       "      <td>0</td>\n",
       "      <td>0</td>\n",
       "      <td>1</td>\n",
       "      <td>0</td>\n",
       "      <td>...</td>\n",
       "      <td>0.420829</td>\n",
       "      <td>9.75</td>\n",
       "      <td>2.28</td>\n",
       "      <td>0.68</td>\n",
       "      <td>0.27</td>\n",
       "      <td>79.4</td>\n",
       "      <td>2.44</td>\n",
       "      <td>2.74</td>\n",
       "      <td>64.5</td>\n",
       "      <td>0.799781</td>\n",
       "    </tr>\n",
       "  </tbody>\n",
       "</table>\n",
       "<p>1 rows × 43 columns</p>\n",
       "</div>"
      ],
      "text/plain": [
       "       retroID    weight  height  pos_1B  pos_2B  pos_3B  pos_C  pos_OF  \\\n",
       "3761  kersc001  0.614754    0.65       0       0       0      0       0   \n",
       "\n",
       "      pos_P  pos_SS  ...        IP   K/9  BB/9  HR/9  BABIP  LOB%   ERA   FIP  \\\n",
       "3761      1       0  ...  0.420829  9.75  2.28  0.68   0.27  79.4  2.44  2.74   \n",
       "\n",
       "       WAR  Pitching  \n",
       "3761  64.5  0.799781  \n",
       "\n",
       "[1 rows x 43 columns]"
      ]
     },
     "execution_count": 16,
     "metadata": {},
     "output_type": "execute_result"
    }
   ],
   "source": [
    "career"
   ]
  },
  {
   "cell_type": "code",
   "execution_count": 17,
   "metadata": {},
   "outputs": [
    {
     "data": {
      "text/html": [
       "<div>\n",
       "<style scoped>\n",
       "    .dataframe tbody tr th:only-of-type {\n",
       "        vertical-align: middle;\n",
       "    }\n",
       "\n",
       "    .dataframe tbody tr th {\n",
       "        vertical-align: top;\n",
       "    }\n",
       "\n",
       "    .dataframe thead th {\n",
       "        text-align: right;\n",
       "    }\n",
       "</style>\n",
       "<table border=\"1\" class=\"dataframe\">\n",
       "  <thead>\n",
       "    <tr style=\"text-align: right;\">\n",
       "      <th></th>\n",
       "      <th>yearID</th>\n",
       "      <th>W</th>\n",
       "      <th>L</th>\n",
       "      <th>G</th>\n",
       "      <th>GS</th>\n",
       "      <th>CG</th>\n",
       "      <th>SHO</th>\n",
       "      <th>SV</th>\n",
       "      <th>IPouts</th>\n",
       "      <th>H</th>\n",
       "      <th>...</th>\n",
       "      <th>IBB</th>\n",
       "      <th>WP</th>\n",
       "      <th>HBP</th>\n",
       "      <th>BK</th>\n",
       "      <th>BFP</th>\n",
       "      <th>GF</th>\n",
       "      <th>R</th>\n",
       "      <th>SH</th>\n",
       "      <th>SF</th>\n",
       "      <th>GIDP</th>\n",
       "    </tr>\n",
       "    <tr>\n",
       "      <th>retroID</th>\n",
       "      <th></th>\n",
       "      <th></th>\n",
       "      <th></th>\n",
       "      <th></th>\n",
       "      <th></th>\n",
       "      <th></th>\n",
       "      <th></th>\n",
       "      <th></th>\n",
       "      <th></th>\n",
       "      <th></th>\n",
       "      <th></th>\n",
       "      <th></th>\n",
       "      <th></th>\n",
       "      <th></th>\n",
       "      <th></th>\n",
       "      <th></th>\n",
       "      <th></th>\n",
       "      <th></th>\n",
       "      <th></th>\n",
       "      <th></th>\n",
       "      <th></th>\n",
       "    </tr>\n",
       "  </thead>\n",
       "  <tbody>\n",
       "    <tr>\n",
       "      <th>kersc001</th>\n",
       "      <td>20125</td>\n",
       "      <td>144</td>\n",
       "      <td>64</td>\n",
       "      <td>292</td>\n",
       "      <td>290</td>\n",
       "      <td>25</td>\n",
       "      <td>15</td>\n",
       "      <td>0</td>\n",
       "      <td>5805</td>\n",
       "      <td>1431</td>\n",
       "      <td>...</td>\n",
       "      <td>27</td>\n",
       "      <td>71</td>\n",
       "      <td>29</td>\n",
       "      <td>19</td>\n",
       "      <td>7602</td>\n",
       "      <td>1</td>\n",
       "      <td>554</td>\n",
       "      <td>77</td>\n",
       "      <td>23</td>\n",
       "      <td>131</td>\n",
       "    </tr>\n",
       "  </tbody>\n",
       "</table>\n",
       "<p>1 rows × 26 columns</p>\n",
       "</div>"
      ],
      "text/plain": [
       "          yearID    W   L    G   GS  CG  SHO  SV  IPouts     H  ...  IBB  WP  \\\n",
       "retroID                                                         ...            \n",
       "kersc001   20125  144  64  292  290  25   15   0    5805  1431  ...   27  71   \n",
       "\n",
       "          HBP  BK   BFP  GF    R  SH  SF  GIDP  \n",
       "retroID                                         \n",
       "kersc001   29  19  7602   1  554  77  23   131  \n",
       "\n",
       "[1 rows x 26 columns]"
      ]
     },
     "execution_count": 17,
     "metadata": {},
     "output_type": "execute_result"
    }
   ],
   "source": [
    "player"
   ]
  },
  {
   "cell_type": "code",
   "execution_count": 18,
   "metadata": {},
   "outputs": [
    {
     "data": {
      "text/plain": [
       "Index(['retroID', 'weight', 'height', 'pos_1B', 'pos_2B', 'pos_3B', 'pos_C',\n",
       "       'pos_OF', 'pos_P', 'pos_SS', 'bats_L', 'throws_L', 'seasons', 'BAOpp',\n",
       "       'CG', 'SHO', 'IPouts', 'H', 'ER', 'HR', 'BB', 'SO', 'IBB', 'WP', 'HBP',\n",
       "       'BK', 'BFP', 'GF', 'R', 'SH', 'SF', 'GIDP', 'K%', 'IP', 'K/9', 'BB/9',\n",
       "       'HR/9', 'BABIP', 'LOB%', 'ERA', 'FIP', 'WAR', 'Pitching'],\n",
       "      dtype='object')"
      ]
     },
     "execution_count": 18,
     "metadata": {},
     "output_type": "execute_result"
    }
   ],
   "source": [
    "career.columns"
   ]
  },
  {
   "cell_type": "code",
   "execution_count": 19,
   "metadata": {},
   "outputs": [
    {
     "data": {
      "text/plain": [
       "Index(['yearID', 'W', 'L', 'G', 'GS', 'CG', 'SHO', 'SV', 'IPouts', 'H', 'ER',\n",
       "       'HR', 'BB', 'SO', 'BAOpp', 'ERA', 'IBB', 'WP', 'HBP', 'BK', 'BFP', 'GF',\n",
       "       'R', 'SH', 'SF', 'GIDP'],\n",
       "      dtype='object')"
      ]
     },
     "execution_count": 19,
     "metadata": {},
     "output_type": "execute_result"
    }
   ],
   "source": [
    "player.columns"
   ]
  },
  {
   "cell_type": "code",
   "execution_count": 20,
   "metadata": {},
   "outputs": [],
   "source": [
    "career_to_drop = ['IPouts', 'BFP', 'R', 'Pitching']"
   ]
  },
  {
   "cell_type": "code",
   "execution_count": 21,
   "metadata": {},
   "outputs": [],
   "source": [
    "features = ['CG', 'SHO' , 'H', 'ER', 'HR', 'BB', 'SO',\n",
    "            'BAOpp', 'ERA', 'IBB', 'WP', 'HBP', 'BK',\n",
    "            'BFP', 'GF','R', 'SH', 'SF', 'GIDP']"
   ]
  },
  {
   "cell_type": "code",
   "execution_count": 22,
   "metadata": {},
   "outputs": [],
   "source": [
    "for column in career[features]:\n",
    "    career.iloc[0][column] = player.iloc[0][column]"
   ]
  },
  {
   "cell_type": "code",
   "execution_count": 23,
   "metadata": {},
   "outputs": [],
   "source": [
    "career = career.drop(columns=career_to_drop)"
   ]
  },
  {
   "cell_type": "code",
   "execution_count": 24,
   "metadata": {},
   "outputs": [
    {
     "data": {
      "text/html": [
       "<div>\n",
       "<style scoped>\n",
       "    .dataframe tbody tr th:only-of-type {\n",
       "        vertical-align: middle;\n",
       "    }\n",
       "\n",
       "    .dataframe tbody tr th {\n",
       "        vertical-align: top;\n",
       "    }\n",
       "\n",
       "    .dataframe thead th {\n",
       "        text-align: right;\n",
       "    }\n",
       "</style>\n",
       "<table border=\"1\" class=\"dataframe\">\n",
       "  <thead>\n",
       "    <tr style=\"text-align: right;\">\n",
       "      <th></th>\n",
       "      <th>retroID</th>\n",
       "      <th>weight</th>\n",
       "      <th>height</th>\n",
       "      <th>pos_1B</th>\n",
       "      <th>pos_2B</th>\n",
       "      <th>pos_3B</th>\n",
       "      <th>pos_C</th>\n",
       "      <th>pos_OF</th>\n",
       "      <th>pos_P</th>\n",
       "      <th>pos_SS</th>\n",
       "      <th>...</th>\n",
       "      <th>K%</th>\n",
       "      <th>IP</th>\n",
       "      <th>K/9</th>\n",
       "      <th>BB/9</th>\n",
       "      <th>HR/9</th>\n",
       "      <th>BABIP</th>\n",
       "      <th>LOB%</th>\n",
       "      <th>ERA</th>\n",
       "      <th>FIP</th>\n",
       "      <th>WAR</th>\n",
       "    </tr>\n",
       "  </thead>\n",
       "  <tbody>\n",
       "    <tr>\n",
       "      <th>3761</th>\n",
       "      <td>kersc001</td>\n",
       "      <td>0.614754</td>\n",
       "      <td>0.65</td>\n",
       "      <td>0</td>\n",
       "      <td>0</td>\n",
       "      <td>0</td>\n",
       "      <td>0</td>\n",
       "      <td>0</td>\n",
       "      <td>1</td>\n",
       "      <td>0</td>\n",
       "      <td>...</td>\n",
       "      <td>0.275061</td>\n",
       "      <td>0.420829</td>\n",
       "      <td>9.75</td>\n",
       "      <td>2.28</td>\n",
       "      <td>0.68</td>\n",
       "      <td>0.27</td>\n",
       "      <td>79.4</td>\n",
       "      <td>2.44</td>\n",
       "      <td>2.74</td>\n",
       "      <td>64.5</td>\n",
       "    </tr>\n",
       "  </tbody>\n",
       "</table>\n",
       "<p>1 rows × 39 columns</p>\n",
       "</div>"
      ],
      "text/plain": [
       "       retroID    weight  height  pos_1B  pos_2B  pos_3B  pos_C  pos_OF  \\\n",
       "3761  kersc001  0.614754    0.65       0       0       0      0       0   \n",
       "\n",
       "      pos_P  pos_SS  ...        K%        IP   K/9  BB/9  HR/9  BABIP  LOB%  \\\n",
       "3761      1       0  ...  0.275061  0.420829  9.75  2.28  0.68   0.27  79.4   \n",
       "\n",
       "       ERA   FIP   WAR  \n",
       "3761  2.44  2.74  64.5  \n",
       "\n",
       "[1 rows x 39 columns]"
      ]
     },
     "execution_count": 24,
     "metadata": {},
     "output_type": "execute_result"
    }
   ],
   "source": [
    "career"
   ]
  },
  {
   "cell_type": "code",
   "execution_count": 98,
   "metadata": {},
   "outputs": [],
   "source": [
    "scalers = {}\n",
    "career_features = {\n",
    "    'batting': [\n",
    "        'G', 'AB', 'PA', 'R', 'H', '1B', '2B', '3B',\n",
    "        'HR', 'RBI', 'SB', 'CS', 'BB', 'SO', 'IBB',\n",
    "        'HBP', 'SH', 'SF', 'GIDP'\n",
    "    ],\n",
    "    'pitching': [\n",
    "        'CG', 'SHO', 'H', 'ER', 'HR', 'BB', 'SO',\n",
    "        'BAOpp', 'ERA', 'IBB', 'WP', 'HBP', 'BK',\n",
    "        'BFP', 'GF', 'R', 'SH', 'SF', 'GIDP'\n",
    "    ]\n",
    "}\n",
    "unwanted_features = {\n",
    "    'batting': ['retroID', 'wOBA', 'Batting'],\n",
    "    'pitching': ['retroID', 'IPouts', 'BFP', 'R', 'Pitching']\n",
    "}\n",
    "players = {\n",
    "    'batting': {\n",
    "        'players': batters,\n",
    "        'years': batter_years\n",
    "    },\n",
    "    'pitching': {\n",
    "        'players': pitchers,\n",
    "        'years': pitcher_years\n",
    "    }\n",
    "}\n",
    "player_type_label = 'batting'\n",
    "year = 2017\n",
    "retro_id = 'bettm001'"
   ]
  },
  {
   "cell_type": "code",
   "execution_count": 99,
   "metadata": {},
   "outputs": [],
   "source": [
    "from sklearn.preprocessing import MinMaxScaler"
   ]
  },
  {
   "cell_type": "code",
   "execution_count": 100,
   "metadata": {},
   "outputs": [],
   "source": [
    "scaler = MinMaxScaler()"
   ]
  },
  {
   "cell_type": "code",
   "execution_count": 101,
   "metadata": {},
   "outputs": [
    {
     "data": {
      "text/plain": [
       "MinMaxScaler(copy=True, feature_range=(0, 1))"
      ]
     },
     "execution_count": 101,
     "metadata": {},
     "output_type": "execute_result"
    }
   ],
   "source": [
    "scaler.fit(players['pitching']['players'].drop(columns=['retroID']).iloc[0].values.reshape(-1, player.shape[0]))"
   ]
  },
  {
   "cell_type": "code",
   "execution_count": 102,
   "metadata": {},
   "outputs": [],
   "source": [
    "def to_tensor_input(scaler, player, label):\n",
    "    scalers[label] = scaler\n",
    "    return scaler.transform(player.values.reshape(-1, player.shape[0]))[0]"
   ]
  },
  {
   "cell_type": "code",
   "execution_count": 103,
   "metadata": {},
   "outputs": [],
   "source": [
    "def convert_single_player(retro_id, year, player_type_label):\n",
    "    player_table = players[player_type_label]['players']\n",
    "    player_so_far_table = players[player_type_label]['years']\n",
    "    player = player_table[player_table['retroID'] == retro_id]\n",
    "    player_so_far = player_so_far_table[(player_so_far_table['retroID'] == retro_id)\n",
    "                                        & (player_so_far_table['yearID'] <= year)]\n",
    "    player_so_far = player_so_far.groupby('retroID').sum()\n",
    "    features = career_features[player_type_label]\n",
    "    for column in player[features]:\n",
    "        player.iloc[0][column] = player_so_far.iloc[0][column]\n",
    "    player_columns_to_drop = unwanted_features[player_type_label]\n",
    "    player = player.drop(columns=player_columns_to_drop)\n",
    "    return to_tensor_input(scaler, player, player_type_label)"
   ]
  },
  {
   "cell_type": "code",
   "execution_count": 104,
   "metadata": {},
   "outputs": [],
   "source": [
    "def get_batter_as_tensor_input(batter, year):\n",
    "#     scaler = scalers['batting']\n",
    "    player = batters[batters['retroID'] == batter]\n",
    "    player_so_far = batter_years[(batter_years['retroID'] == batter)\n",
    "                                 & (batter_years['yearID'] <= year)]\n",
    "    player_so_far = player_so_far.groupby('retroID').sum()\n",
    "    features = ['G', 'AB', 'PA', 'R', 'H', '1B', '2B', '3B',\n",
    "                'HR', 'RBI', 'SB', 'CS', 'BB', 'SO', 'IBB',\n",
    "                'HBP', 'SH', 'SF', 'GIDP']\n",
    "    for column in player[features]:\n",
    "        player[column] = player_so_far.iloc[0][column]\n",
    "    player_columns_to_drop = ['retroID', 'wOBA', 'Batting']\n",
    "    player = player.drop(columns=player_columns_to_drop)\n",
    "    return to_tensor_input(scaler, player, 'batting')"
   ]
  },
  {
   "cell_type": "code",
   "execution_count": 105,
   "metadata": {},
   "outputs": [
    {
     "name": "stdout",
     "output_type": "stream",
     "text": [
      "(1, 34)\n"
     ]
    }
   ],
   "source": [
    "new = get_batter_as_tensor_input(retro_id, year)"
   ]
  },
  {
   "cell_type": "code",
   "execution_count": 106,
   "metadata": {},
   "outputs": [
    {
     "name": "stdout",
     "output_type": "stream",
     "text": [
      "(1, 34)\n"
     ]
    }
   ],
   "source": [
    "new = convert_single_player(retro_id, year, player_type_label)"
   ]
  },
  {
   "cell_type": "code",
   "execution_count": 107,
   "metadata": {},
   "outputs": [
    {
     "data": {
      "text/plain": [
       "array([0.00028897])"
      ]
     },
     "execution_count": 107,
     "metadata": {},
     "output_type": "execute_result"
    }
   ],
   "source": [
    "new"
   ]
  },
  {
   "cell_type": "code",
   "execution_count": null,
   "metadata": {},
   "outputs": [],
   "source": []
  }
 ],
 "metadata": {
  "kernelspec": {
   "display_name": "Python 3.7.4 64-bit ('anaconda3': virtualenv)",
   "language": "python",
   "name": "python37464bitanaconda3virtualenvd154ee3984ad4b4aa149be4cb6de0403"
  },
  "language_info": {
   "codemirror_mode": {
    "name": "ipython",
    "version": 3
   },
   "file_extension": ".py",
   "mimetype": "text/x-python",
   "name": "python",
   "nbconvert_exporter": "python",
   "pygments_lexer": "ipython3",
   "version": "3.7.4"
  }
 },
 "nbformat": 4,
 "nbformat_minor": 4
}
