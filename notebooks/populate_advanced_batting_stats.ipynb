{
 "cells": [
  {
   "cell_type": "code",
   "execution_count": 1,
   "metadata": {},
   "outputs": [],
   "source": [
    "import pandas as pd"
   ]
  },
  {
   "cell_type": "code",
   "execution_count": 2,
   "metadata": {},
   "outputs": [],
   "source": [
    "df_names = pd.read_csv('../core/data/Names.csv')\n",
    "df_stats = pd.read_csv('../core/data/FanGraphsAllStats.csv')"
   ]
  },
  {
   "cell_type": "code",
   "execution_count": 3,
   "metadata": {},
   "outputs": [],
   "source": [
    "# Player Lookup\n",
    "def get_name(retro_id):\n",
    "    return df_names[df_names['retroID'] == retro_id]['Name'].iloc[0]\n",
    "\n",
    "def get_id(name):\n",
    "    return df_names[df_names['Name'] == name]['retroID'].iloc[0]\n",
    "\n",
    "def get_by(column, data):\n",
    "    return df_names[df_names[column] == data].iloc[0]"
   ]
  },
  {
   "cell_type": "code",
   "execution_count": 4,
   "metadata": {},
   "outputs": [
    {
     "name": "stderr",
     "output_type": "stream",
     "text": [
      "/Users/uakti/opt/anaconda3/envs/tf2env/lib/python3.7/site-packages/IPython/core/interactiveshell.py:3051: DtypeWarning: Columns (8,9,10) have mixed types.Specify dtype option on import or set low_memory=False.\n",
      "  interactivity=interactivity, compiler=compiler, result=result)\n"
     ]
    }
   ],
   "source": [
    "# Get map between RSID and FGID\n",
    "df_cw = pd.read_csv('../core/data/ChadwickPeople.csv')\n",
    "df_cw = df_cw[~df_cw['key_fangraphs'].isnull()]\n",
    "df_cw = df_cw[['key_retro', 'key_fangraphs']]\n",
    "df_cw['key_fangraphs'] = df_cw['key_fangraphs'].astype(int)\n",
    "df_cw.rename(columns={'key_retro': 'retroID',\n",
    "                   'key_fangraphs': 'fangraphsID'}, inplace=True)\n",
    "df_cw = df_cw.dropna()\n",
    "\n",
    "\n",
    "def get_fg_id(retro_id):\n",
    "    return df_cw[df_cw['retroID'] == retro_id]['fangraphsID'].iloc[0] if retro_id in list(df_cw['fangraphsID']) else -1\n",
    "\n",
    "\n",
    "def get_rs_id(fangraphs_id):\n",
    "    return df_cw[df_cw['fangraphsID'] == fangraphs_id]['retroID'].iloc[0] if fangraphs_id in list(df_cw['fangraphsID']) else -1\n"
   ]
  },
  {
   "cell_type": "code",
   "execution_count": 5,
   "metadata": {},
   "outputs": [
    {
     "data": {
      "text/html": [
       "<div>\n",
       "<style scoped>\n",
       "    .dataframe tbody tr th:only-of-type {\n",
       "        vertical-align: middle;\n",
       "    }\n",
       "\n",
       "    .dataframe tbody tr th {\n",
       "        vertical-align: top;\n",
       "    }\n",
       "\n",
       "    .dataframe thead th {\n",
       "        text-align: right;\n",
       "    }\n",
       "</style>\n",
       "<table border=\"1\" class=\"dataframe\">\n",
       "  <thead>\n",
       "    <tr style=\"text-align: right;\">\n",
       "      <th></th>\n",
       "      <th>Name</th>\n",
       "      <th>Team</th>\n",
       "      <th>G</th>\n",
       "      <th>PA</th>\n",
       "      <th>HR</th>\n",
       "      <th>R</th>\n",
       "      <th>RBI</th>\n",
       "      <th>SB</th>\n",
       "      <th>BB%</th>\n",
       "      <th>K%</th>\n",
       "      <th>...</th>\n",
       "      <th>AVG</th>\n",
       "      <th>OBP</th>\n",
       "      <th>SLG</th>\n",
       "      <th>wOBA</th>\n",
       "      <th>wRC+</th>\n",
       "      <th>BsR</th>\n",
       "      <th>Off</th>\n",
       "      <th>Def</th>\n",
       "      <th>WAR</th>\n",
       "      <th>playerid</th>\n",
       "    </tr>\n",
       "  </thead>\n",
       "  <tbody>\n",
       "    <tr>\n",
       "      <th>0</th>\n",
       "      <td>Barry Bonds</td>\n",
       "      <td>- - -</td>\n",
       "      <td>2986</td>\n",
       "      <td>12606</td>\n",
       "      <td>762</td>\n",
       "      <td>2227</td>\n",
       "      <td>1996</td>\n",
       "      <td>514</td>\n",
       "      <td>20.3 %</td>\n",
       "      <td>12.2 %</td>\n",
       "      <td>...</td>\n",
       "      <td>0.298</td>\n",
       "      <td>0.444</td>\n",
       "      <td>0.607</td>\n",
       "      <td>0.435</td>\n",
       "      <td>173.0</td>\n",
       "      <td>30.4</td>\n",
       "      <td>1173.8</td>\n",
       "      <td>67.6</td>\n",
       "      <td>164.4</td>\n",
       "      <td>1109</td>\n",
       "    </tr>\n",
       "    <tr>\n",
       "      <th>1</th>\n",
       "      <td>Babe Ruth</td>\n",
       "      <td>- - -</td>\n",
       "      <td>2242</td>\n",
       "      <td>9831</td>\n",
       "      <td>694</td>\n",
       "      <td>2075</td>\n",
       "      <td>2101</td>\n",
       "      <td>117</td>\n",
       "      <td>20.1 %</td>\n",
       "      <td>12.2 %</td>\n",
       "      <td>...</td>\n",
       "      <td>0.346</td>\n",
       "      <td>0.481</td>\n",
       "      <td>0.705</td>\n",
       "      <td>0.519</td>\n",
       "      <td>200.0</td>\n",
       "      <td>-21.2</td>\n",
       "      <td>1293.8</td>\n",
       "      <td>-16.6</td>\n",
       "      <td>159.5</td>\n",
       "      <td>1011327</td>\n",
       "    </tr>\n",
       "  </tbody>\n",
       "</table>\n",
       "<p>2 rows × 22 columns</p>\n",
       "</div>"
      ],
      "text/plain": [
       "          Name   Team     G     PA   HR     R   RBI   SB     BB%      K%  ...  \\\n",
       "0  Barry Bonds  - - -  2986  12606  762  2227  1996  514  20.3 %  12.2 %  ...   \n",
       "1    Babe Ruth  - - -  2242   9831  694  2075  2101  117  20.1 %  12.2 %  ...   \n",
       "\n",
       "     AVG    OBP    SLG   wOBA   wRC+   BsR     Off   Def    WAR  playerid  \n",
       "0  0.298  0.444  0.607  0.435  173.0  30.4  1173.8  67.6  164.4      1109  \n",
       "1  0.346  0.481  0.705  0.519  200.0 -21.2  1293.8 -16.6  159.5   1011327  \n",
       "\n",
       "[2 rows x 22 columns]"
      ]
     },
     "execution_count": 5,
     "metadata": {},
     "output_type": "execute_result"
    }
   ],
   "source": [
    "df_stats.head(2)"
   ]
  },
  {
   "cell_type": "code",
   "execution_count": 6,
   "metadata": {},
   "outputs": [
    {
     "data": {
      "text/plain": [
       "'bondb001'"
      ]
     },
     "execution_count": 6,
     "metadata": {},
     "output_type": "execute_result"
    }
   ],
   "source": [
    "get_rs_id(1109)"
   ]
  },
  {
   "cell_type": "code",
   "execution_count": 7,
   "metadata": {},
   "outputs": [],
   "source": [
    "df_stats['retroID'] = df_stats.apply(lambda player: get_rs_id(player['playerid']), axis=1)"
   ]
  },
  {
   "cell_type": "code",
   "execution_count": 8,
   "metadata": {},
   "outputs": [
    {
     "data": {
      "text/plain": [
       "(1, 23)"
      ]
     },
     "execution_count": 8,
     "metadata": {},
     "output_type": "execute_result"
    }
   ],
   "source": [
    "df_stats[df_stats['retroID'] == -1].shape"
   ]
  },
  {
   "cell_type": "code",
   "execution_count": 9,
   "metadata": {},
   "outputs": [
    {
     "data": {
      "text/plain": [
       "(14400, 23)"
      ]
     },
     "execution_count": 9,
     "metadata": {},
     "output_type": "execute_result"
    }
   ],
   "source": [
    "df_stats.shape"
   ]
  },
  {
   "cell_type": "code",
   "execution_count": 10,
   "metadata": {},
   "outputs": [],
   "source": [
    "df_stats = df_stats[df_stats['retroID'] != -1]"
   ]
  },
  {
   "cell_type": "code",
   "execution_count": 11,
   "metadata": {},
   "outputs": [
    {
     "data": {
      "text/plain": [
       "(14399, 23)"
      ]
     },
     "execution_count": 11,
     "metadata": {},
     "output_type": "execute_result"
    }
   ],
   "source": [
    "df_stats.shape"
   ]
  },
  {
   "cell_type": "code",
   "execution_count": 12,
   "metadata": {},
   "outputs": [],
   "source": [
    "df_stats = df_stats[['retroID', 'wOBA', 'wRC+', 'WAR']]"
   ]
  },
  {
   "cell_type": "code",
   "execution_count": 13,
   "metadata": {},
   "outputs": [
    {
     "data": {
      "text/html": [
       "<div>\n",
       "<style scoped>\n",
       "    .dataframe tbody tr th:only-of-type {\n",
       "        vertical-align: middle;\n",
       "    }\n",
       "\n",
       "    .dataframe tbody tr th {\n",
       "        vertical-align: top;\n",
       "    }\n",
       "\n",
       "    .dataframe thead th {\n",
       "        text-align: right;\n",
       "    }\n",
       "</style>\n",
       "<table border=\"1\" class=\"dataframe\">\n",
       "  <thead>\n",
       "    <tr style=\"text-align: right;\">\n",
       "      <th></th>\n",
       "      <th>retroID</th>\n",
       "      <th>wOBA</th>\n",
       "      <th>wRC+</th>\n",
       "      <th>WAR</th>\n",
       "    </tr>\n",
       "  </thead>\n",
       "  <tbody>\n",
       "    <tr>\n",
       "      <th>0</th>\n",
       "      <td>bondb001</td>\n",
       "      <td>0.435</td>\n",
       "      <td>173.0</td>\n",
       "      <td>164.4</td>\n",
       "    </tr>\n",
       "    <tr>\n",
       "      <th>1</th>\n",
       "      <td>ruthb101</td>\n",
       "      <td>0.519</td>\n",
       "      <td>200.0</td>\n",
       "      <td>159.5</td>\n",
       "    </tr>\n",
       "    <tr>\n",
       "      <th>2</th>\n",
       "      <td>maysw101</td>\n",
       "      <td>0.409</td>\n",
       "      <td>154.0</td>\n",
       "      <td>149.9</td>\n",
       "    </tr>\n",
       "    <tr>\n",
       "      <th>3</th>\n",
       "      <td>aaroh101</td>\n",
       "      <td>0.403</td>\n",
       "      <td>153.0</td>\n",
       "      <td>136.3</td>\n",
       "    </tr>\n",
       "    <tr>\n",
       "      <th>4</th>\n",
       "      <td>willt103</td>\n",
       "      <td>0.493</td>\n",
       "      <td>188.0</td>\n",
       "      <td>130.4</td>\n",
       "    </tr>\n",
       "  </tbody>\n",
       "</table>\n",
       "</div>"
      ],
      "text/plain": [
       "    retroID   wOBA   wRC+    WAR\n",
       "0  bondb001  0.435  173.0  164.4\n",
       "1  ruthb101  0.519  200.0  159.5\n",
       "2  maysw101  0.409  154.0  149.9\n",
       "3  aaroh101  0.403  153.0  136.3\n",
       "4  willt103  0.493  188.0  130.4"
      ]
     },
     "execution_count": 13,
     "metadata": {},
     "output_type": "execute_result"
    }
   ],
   "source": [
    "df_stats.head(5)"
   ]
  },
  {
   "cell_type": "code",
   "execution_count": null,
   "metadata": {},
   "outputs": [],
   "source": []
  }
 ],
 "metadata": {
  "kernelspec": {
   "display_name": "Python 3.7.6 64-bit ('tf2env': conda)",
   "language": "python",
   "name": "python37664bittf2envconda7a5d2b04ce96452f92a2890aed430c66"
  },
  "language_info": {
   "codemirror_mode": {
    "name": "ipython",
    "version": 3
   },
   "file_extension": ".py",
   "mimetype": "text/x-python",
   "name": "python",
   "nbconvert_exporter": "python",
   "pygments_lexer": "ipython3",
   "version": "3.7.6"
  }
 },
 "nbformat": 4,
 "nbformat_minor": 4
}
