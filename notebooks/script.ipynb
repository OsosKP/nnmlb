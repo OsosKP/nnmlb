{
 "cells": [
  {
   "cell_type": "code",
   "execution_count": 285,
   "metadata": {},
   "outputs": [],
   "source": [
    "import os\n",
    "import pandas as pd\n",
    "import numpy as np"
   ]
  },
  {
   "cell_type": "code",
   "execution_count": 77,
   "metadata": {},
   "outputs": [],
   "source": [
    "df = pd.read_csv('../core/tensors/games/2015.csv', header=None)"
   ]
  },
  {
   "cell_type": "code",
   "execution_count": 78,
   "metadata": {},
   "outputs": [
    {
     "data": {
      "text/html": [
       "<div>\n",
       "<style scoped>\n",
       "    .dataframe tbody tr th:only-of-type {\n",
       "        vertical-align: middle;\n",
       "    }\n",
       "\n",
       "    .dataframe tbody tr th {\n",
       "        vertical-align: top;\n",
       "    }\n",
       "\n",
       "    .dataframe thead th {\n",
       "        text-align: right;\n",
       "    }\n",
       "</style>\n",
       "<table border=\"1\" class=\"dataframe\">\n",
       "  <thead>\n",
       "    <tr style=\"text-align: right;\">\n",
       "      <th></th>\n",
       "      <th>0</th>\n",
       "      <th>1</th>\n",
       "      <th>2</th>\n",
       "      <th>3</th>\n",
       "      <th>4</th>\n",
       "      <th>5</th>\n",
       "      <th>6</th>\n",
       "      <th>7</th>\n",
       "      <th>8</th>\n",
       "      <th>9</th>\n",
       "      <th>...</th>\n",
       "      <th>531</th>\n",
       "      <th>532</th>\n",
       "      <th>533</th>\n",
       "      <th>534</th>\n",
       "      <th>535</th>\n",
       "      <th>536</th>\n",
       "      <th>537</th>\n",
       "      <th>538</th>\n",
       "      <th>539</th>\n",
       "      <th>540</th>\n",
       "    </tr>\n",
       "  </thead>\n",
       "  <tbody>\n",
       "    <tr>\n",
       "      <th>0</th>\n",
       "      <td>0.446721</td>\n",
       "      <td>0.40</td>\n",
       "      <td>0.0</td>\n",
       "      <td>0.0</td>\n",
       "      <td>0.0</td>\n",
       "      <td>0.0</td>\n",
       "      <td>1.0</td>\n",
       "      <td>0.0</td>\n",
       "      <td>0.0</td>\n",
       "      <td>0.0</td>\n",
       "      <td>...</td>\n",
       "      <td>0.136311</td>\n",
       "      <td>0.008721</td>\n",
       "      <td>0.140351</td>\n",
       "      <td>0.089219</td>\n",
       "      <td>0.101562</td>\n",
       "      <td>0.164557</td>\n",
       "      <td>1.0</td>\n",
       "      <td>0.164568</td>\n",
       "      <td>0.116185</td>\n",
       "      <td>1.0</td>\n",
       "    </tr>\n",
       "    <tr>\n",
       "      <th>1</th>\n",
       "      <td>0.467213</td>\n",
       "      <td>0.40</td>\n",
       "      <td>0.0</td>\n",
       "      <td>0.0</td>\n",
       "      <td>0.0</td>\n",
       "      <td>0.0</td>\n",
       "      <td>1.0</td>\n",
       "      <td>0.0</td>\n",
       "      <td>0.0</td>\n",
       "      <td>1.0</td>\n",
       "      <td>...</td>\n",
       "      <td>0.212168</td>\n",
       "      <td>0.007267</td>\n",
       "      <td>0.098246</td>\n",
       "      <td>0.070632</td>\n",
       "      <td>0.085938</td>\n",
       "      <td>0.065823</td>\n",
       "      <td>1.0</td>\n",
       "      <td>0.160971</td>\n",
       "      <td>0.084971</td>\n",
       "      <td>1.0</td>\n",
       "    </tr>\n",
       "    <tr>\n",
       "      <th>2</th>\n",
       "      <td>0.409836</td>\n",
       "      <td>0.30</td>\n",
       "      <td>0.0</td>\n",
       "      <td>0.0</td>\n",
       "      <td>0.0</td>\n",
       "      <td>0.0</td>\n",
       "      <td>1.0</td>\n",
       "      <td>0.0</td>\n",
       "      <td>0.0</td>\n",
       "      <td>1.0</td>\n",
       "      <td>...</td>\n",
       "      <td>0.298806</td>\n",
       "      <td>0.015988</td>\n",
       "      <td>0.049123</td>\n",
       "      <td>0.237918</td>\n",
       "      <td>0.414062</td>\n",
       "      <td>0.225316</td>\n",
       "      <td>1.0</td>\n",
       "      <td>0.167266</td>\n",
       "      <td>0.124277</td>\n",
       "      <td>1.0</td>\n",
       "    </tr>\n",
       "    <tr>\n",
       "      <th>3</th>\n",
       "      <td>0.487705</td>\n",
       "      <td>0.45</td>\n",
       "      <td>0.0</td>\n",
       "      <td>0.0</td>\n",
       "      <td>0.0</td>\n",
       "      <td>0.0</td>\n",
       "      <td>0.0</td>\n",
       "      <td>0.0</td>\n",
       "      <td>1.0</td>\n",
       "      <td>0.0</td>\n",
       "      <td>...</td>\n",
       "      <td>0.185214</td>\n",
       "      <td>0.021802</td>\n",
       "      <td>0.129825</td>\n",
       "      <td>0.052045</td>\n",
       "      <td>0.250000</td>\n",
       "      <td>0.096203</td>\n",
       "      <td>1.0</td>\n",
       "      <td>0.178058</td>\n",
       "      <td>0.150867</td>\n",
       "      <td>0.0</td>\n",
       "    </tr>\n",
       "    <tr>\n",
       "      <th>4</th>\n",
       "      <td>0.508197</td>\n",
       "      <td>0.55</td>\n",
       "      <td>0.0</td>\n",
       "      <td>0.0</td>\n",
       "      <td>0.0</td>\n",
       "      <td>0.0</td>\n",
       "      <td>1.0</td>\n",
       "      <td>0.0</td>\n",
       "      <td>0.0</td>\n",
       "      <td>1.0</td>\n",
       "      <td>...</td>\n",
       "      <td>0.112437</td>\n",
       "      <td>0.011628</td>\n",
       "      <td>0.056140</td>\n",
       "      <td>0.070632</td>\n",
       "      <td>0.085938</td>\n",
       "      <td>0.091139</td>\n",
       "      <td>1.0</td>\n",
       "      <td>0.163669</td>\n",
       "      <td>0.076879</td>\n",
       "      <td>1.0</td>\n",
       "    </tr>\n",
       "    <tr>\n",
       "      <th>...</th>\n",
       "      <td>...</td>\n",
       "      <td>...</td>\n",
       "      <td>...</td>\n",
       "      <td>...</td>\n",
       "      <td>...</td>\n",
       "      <td>...</td>\n",
       "      <td>...</td>\n",
       "      <td>...</td>\n",
       "      <td>...</td>\n",
       "      <td>...</td>\n",
       "      <td>...</td>\n",
       "      <td>...</td>\n",
       "      <td>...</td>\n",
       "      <td>...</td>\n",
       "      <td>...</td>\n",
       "      <td>...</td>\n",
       "      <td>...</td>\n",
       "      <td>...</td>\n",
       "      <td>...</td>\n",
       "      <td>...</td>\n",
       "      <td>...</td>\n",
       "    </tr>\n",
       "    <tr>\n",
       "      <th>2423</th>\n",
       "      <td>0.500000</td>\n",
       "      <td>0.50</td>\n",
       "      <td>0.0</td>\n",
       "      <td>0.0</td>\n",
       "      <td>0.0</td>\n",
       "      <td>0.0</td>\n",
       "      <td>1.0</td>\n",
       "      <td>0.0</td>\n",
       "      <td>0.0</td>\n",
       "      <td>0.0</td>\n",
       "      <td>...</td>\n",
       "      <td>0.001155</td>\n",
       "      <td>0.000000</td>\n",
       "      <td>0.000000</td>\n",
       "      <td>0.007435</td>\n",
       "      <td>0.000000</td>\n",
       "      <td>0.000000</td>\n",
       "      <td>1.0</td>\n",
       "      <td>0.103417</td>\n",
       "      <td>0.049711</td>\n",
       "      <td>0.0</td>\n",
       "    </tr>\n",
       "    <tr>\n",
       "      <th>2424</th>\n",
       "      <td>0.508197</td>\n",
       "      <td>0.50</td>\n",
       "      <td>0.0</td>\n",
       "      <td>0.0</td>\n",
       "      <td>1.0</td>\n",
       "      <td>0.0</td>\n",
       "      <td>0.0</td>\n",
       "      <td>0.0</td>\n",
       "      <td>0.0</td>\n",
       "      <td>0.0</td>\n",
       "      <td>...</td>\n",
       "      <td>0.041201</td>\n",
       "      <td>0.000000</td>\n",
       "      <td>0.000000</td>\n",
       "      <td>0.085502</td>\n",
       "      <td>0.000000</td>\n",
       "      <td>0.020253</td>\n",
       "      <td>1.0</td>\n",
       "      <td>0.114209</td>\n",
       "      <td>0.062428</td>\n",
       "      <td>1.0</td>\n",
       "    </tr>\n",
       "    <tr>\n",
       "      <th>2425</th>\n",
       "      <td>0.385246</td>\n",
       "      <td>0.40</td>\n",
       "      <td>0.0</td>\n",
       "      <td>1.0</td>\n",
       "      <td>0.0</td>\n",
       "      <td>0.0</td>\n",
       "      <td>0.0</td>\n",
       "      <td>0.0</td>\n",
       "      <td>0.0</td>\n",
       "      <td>1.0</td>\n",
       "      <td>...</td>\n",
       "      <td>0.006931</td>\n",
       "      <td>0.000000</td>\n",
       "      <td>0.000000</td>\n",
       "      <td>0.022305</td>\n",
       "      <td>0.000000</td>\n",
       "      <td>0.000000</td>\n",
       "      <td>1.0</td>\n",
       "      <td>0.107014</td>\n",
       "      <td>0.051445</td>\n",
       "      <td>1.0</td>\n",
       "    </tr>\n",
       "    <tr>\n",
       "      <th>2426</th>\n",
       "      <td>0.487705</td>\n",
       "      <td>0.30</td>\n",
       "      <td>0.0</td>\n",
       "      <td>0.0</td>\n",
       "      <td>0.0</td>\n",
       "      <td>0.0</td>\n",
       "      <td>1.0</td>\n",
       "      <td>0.0</td>\n",
       "      <td>0.0</td>\n",
       "      <td>0.0</td>\n",
       "      <td>...</td>\n",
       "      <td>0.033115</td>\n",
       "      <td>0.000000</td>\n",
       "      <td>0.000000</td>\n",
       "      <td>0.115242</td>\n",
       "      <td>0.000000</td>\n",
       "      <td>0.002532</td>\n",
       "      <td>1.0</td>\n",
       "      <td>0.064748</td>\n",
       "      <td>0.046243</td>\n",
       "      <td>1.0</td>\n",
       "    </tr>\n",
       "    <tr>\n",
       "      <th>2427</th>\n",
       "      <td>0.590164</td>\n",
       "      <td>0.60</td>\n",
       "      <td>0.0</td>\n",
       "      <td>0.0</td>\n",
       "      <td>0.0</td>\n",
       "      <td>0.0</td>\n",
       "      <td>1.0</td>\n",
       "      <td>0.0</td>\n",
       "      <td>0.0</td>\n",
       "      <td>1.0</td>\n",
       "      <td>...</td>\n",
       "      <td>0.118598</td>\n",
       "      <td>0.000000</td>\n",
       "      <td>0.003509</td>\n",
       "      <td>0.271375</td>\n",
       "      <td>0.015625</td>\n",
       "      <td>0.002532</td>\n",
       "      <td>1.0</td>\n",
       "      <td>0.075540</td>\n",
       "      <td>0.047399</td>\n",
       "      <td>0.0</td>\n",
       "    </tr>\n",
       "  </tbody>\n",
       "</table>\n",
       "<p>2428 rows × 541 columns</p>\n",
       "</div>"
      ],
      "text/plain": [
       "           0     1    2    3    4    5    6    7    8    9    ...       531  \\\n",
       "0     0.446721  0.40  0.0  0.0  0.0  0.0  1.0  0.0  0.0  0.0  ...  0.136311   \n",
       "1     0.467213  0.40  0.0  0.0  0.0  0.0  1.0  0.0  0.0  1.0  ...  0.212168   \n",
       "2     0.409836  0.30  0.0  0.0  0.0  0.0  1.0  0.0  0.0  1.0  ...  0.298806   \n",
       "3     0.487705  0.45  0.0  0.0  0.0  0.0  0.0  0.0  1.0  0.0  ...  0.185214   \n",
       "4     0.508197  0.55  0.0  0.0  0.0  0.0  1.0  0.0  0.0  1.0  ...  0.112437   \n",
       "...        ...   ...  ...  ...  ...  ...  ...  ...  ...  ...  ...       ...   \n",
       "2423  0.500000  0.50  0.0  0.0  0.0  0.0  1.0  0.0  0.0  0.0  ...  0.001155   \n",
       "2424  0.508197  0.50  0.0  0.0  1.0  0.0  0.0  0.0  0.0  0.0  ...  0.041201   \n",
       "2425  0.385246  0.40  0.0  1.0  0.0  0.0  0.0  0.0  0.0  1.0  ...  0.006931   \n",
       "2426  0.487705  0.30  0.0  0.0  0.0  0.0  1.0  0.0  0.0  0.0  ...  0.033115   \n",
       "2427  0.590164  0.60  0.0  0.0  0.0  0.0  1.0  0.0  0.0  1.0  ...  0.118598   \n",
       "\n",
       "           532       533       534       535       536  537       538  \\\n",
       "0     0.008721  0.140351  0.089219  0.101562  0.164557  1.0  0.164568   \n",
       "1     0.007267  0.098246  0.070632  0.085938  0.065823  1.0  0.160971   \n",
       "2     0.015988  0.049123  0.237918  0.414062  0.225316  1.0  0.167266   \n",
       "3     0.021802  0.129825  0.052045  0.250000  0.096203  1.0  0.178058   \n",
       "4     0.011628  0.056140  0.070632  0.085938  0.091139  1.0  0.163669   \n",
       "...        ...       ...       ...       ...       ...  ...       ...   \n",
       "2423  0.000000  0.000000  0.007435  0.000000  0.000000  1.0  0.103417   \n",
       "2424  0.000000  0.000000  0.085502  0.000000  0.020253  1.0  0.114209   \n",
       "2425  0.000000  0.000000  0.022305  0.000000  0.000000  1.0  0.107014   \n",
       "2426  0.000000  0.000000  0.115242  0.000000  0.002532  1.0  0.064748   \n",
       "2427  0.000000  0.003509  0.271375  0.015625  0.002532  1.0  0.075540   \n",
       "\n",
       "           539  540  \n",
       "0     0.116185  1.0  \n",
       "1     0.084971  1.0  \n",
       "2     0.124277  1.0  \n",
       "3     0.150867  0.0  \n",
       "4     0.076879  1.0  \n",
       "...        ...  ...  \n",
       "2423  0.049711  0.0  \n",
       "2424  0.062428  1.0  \n",
       "2425  0.051445  1.0  \n",
       "2426  0.046243  1.0  \n",
       "2427  0.047399  0.0  \n",
       "\n",
       "[2428 rows x 541 columns]"
      ]
     },
     "execution_count": 78,
     "metadata": {},
     "output_type": "execute_result"
    }
   ],
   "source": [
    "df"
   ]
  },
  {
   "cell_type": "code",
   "execution_count": 79,
   "metadata": {},
   "outputs": [],
   "source": [
    "game0 = list(df.iloc[0])"
   ]
  },
  {
   "cell_type": "code",
   "execution_count": 80,
   "metadata": {},
   "outputs": [
    {
     "data": {
      "text/plain": [
       "541"
      ]
     },
     "execution_count": 80,
     "metadata": {},
     "output_type": "execute_result"
    }
   ],
   "source": [
    "len(game0)"
   ]
  },
  {
   "cell_type": "code",
   "execution_count": 81,
   "metadata": {},
   "outputs": [],
   "source": [
    "y0 = int(game0[-1])"
   ]
  },
  {
   "cell_type": "code",
   "execution_count": 82,
   "metadata": {},
   "outputs": [
    {
     "data": {
      "text/plain": [
       "1"
      ]
     },
     "execution_count": 82,
     "metadata": {},
     "output_type": "execute_result"
    }
   ],
   "source": [
    "y0"
   ]
  },
  {
   "cell_type": "code",
   "execution_count": 83,
   "metadata": {},
   "outputs": [
    {
     "data": {
      "text/plain": [
       "list"
      ]
     },
     "execution_count": 83,
     "metadata": {},
     "output_type": "execute_result"
    }
   ],
   "source": [
    "type(game0)"
   ]
  },
  {
   "cell_type": "code",
   "execution_count": 84,
   "metadata": {},
   "outputs": [],
   "source": [
    "game0 = game0[:-1]"
   ]
  },
  {
   "cell_type": "code",
   "execution_count": 85,
   "metadata": {},
   "outputs": [],
   "source": [
    "game0 = np.reshape(game0, (18, 30, 1))"
   ]
  },
  {
   "cell_type": "code",
   "execution_count": 86,
   "metadata": {},
   "outputs": [
    {
     "data": {
      "text/plain": [
       "(18, 30, 1)"
      ]
     },
     "execution_count": 86,
     "metadata": {},
     "output_type": "execute_result"
    }
   ],
   "source": [
    "game0.shape"
   ]
  },
  {
   "cell_type": "code",
   "execution_count": 87,
   "metadata": {},
   "outputs": [],
   "source": [
    "game1 = list(df.iloc[1])"
   ]
  },
  {
   "cell_type": "code",
   "execution_count": 88,
   "metadata": {},
   "outputs": [],
   "source": [
    "y1 = int(game1[-1])"
   ]
  },
  {
   "cell_type": "code",
   "execution_count": 89,
   "metadata": {},
   "outputs": [],
   "source": [
    "game1 = game1[:-1]"
   ]
  },
  {
   "cell_type": "code",
   "execution_count": 90,
   "metadata": {},
   "outputs": [],
   "source": [
    "game1 = np.reshape(game1, (18, 30, 1))"
   ]
  },
  {
   "cell_type": "code",
   "execution_count": 91,
   "metadata": {},
   "outputs": [],
   "source": [
    "games = [game0, game1]"
   ]
  },
  {
   "cell_type": "code",
   "execution_count": 92,
   "metadata": {},
   "outputs": [],
   "source": [
    "rows = len(games)\n",
    "cols = len(games[0])\n",
    "fors = len(games[0][0])\n",
    "last = len(games[0][0][0])"
   ]
  },
  {
   "cell_type": "code",
   "execution_count": 93,
   "metadata": {},
   "outputs": [
    {
     "data": {
      "text/plain": [
       "(2, 18, 30, 1)"
      ]
     },
     "execution_count": 93,
     "metadata": {},
     "output_type": "execute_result"
    }
   ],
   "source": [
    "(rows, cols, fors, last)"
   ]
  },
  {
   "cell_type": "code",
   "execution_count": 94,
   "metadata": {},
   "outputs": [],
   "source": [
    "game2 = list(df.iloc[2])\n",
    "y2 = int(game2[-1])\n",
    "game2 = game2[:-1]\n",
    "game2 = np.reshape(game2, (18, 30))"
   ]
  },
  {
   "cell_type": "code",
   "execution_count": 95,
   "metadata": {},
   "outputs": [],
   "source": [
    "games.append(game2)"
   ]
  },
  {
   "cell_type": "code",
   "execution_count": 105,
   "metadata": {},
   "outputs": [
    {
     "data": {
      "text/plain": [
       "(2428, 1, 18)"
      ]
     },
     "execution_count": 105,
     "metadata": {},
     "output_type": "execute_result"
    }
   ],
   "source": [
    "rows = len(games)\n",
    "cols = len(games[0])\n",
    "fors = len(games[0][0])\n",
    "(rows, cols, fors)"
   ]
  },
  {
   "cell_type": "markdown",
   "metadata": {},
   "source": [
    "<p>We've shown that this is an effective method of getting games as 3D tables from the .csv files, as well as combining them into a list of tables. We can scale this to get a list of every game, and this will be our CNN input.</p>"
   ]
  },
  {
   "cell_type": "code",
   "execution_count": 149,
   "metadata": {},
   "outputs": [
    {
     "data": {
      "text/plain": [
       "(2428, 541)"
      ]
     },
     "execution_count": 149,
     "metadata": {},
     "output_type": "execute_result"
    }
   ],
   "source": [
    "df.shape"
   ]
  },
  {
   "cell_type": "code",
   "execution_count": 234,
   "metadata": {},
   "outputs": [],
   "source": [
    "X = []\n",
    "y = []\n",
    "for index in range(0, df.shape[0]):\n",
    "    game = list(df.iloc[index])\n",
    "    y_sample = int(game[-1])\n",
    "    game = game[:-1]\n",
    "    game = np.reshape(game, ([18, 30, 1]))\n",
    "    X.append(game)\n",
    "    y.append(y_sample)\n",
    "X = np.array(X)\n",
    "y = np.array(y)"
   ]
  },
  {
   "cell_type": "code",
   "execution_count": 235,
   "metadata": {},
   "outputs": [],
   "source": [
    "y = y[..., np.newaxis]"
   ]
  },
  {
   "cell_type": "code",
   "execution_count": 236,
   "metadata": {},
   "outputs": [
    {
     "data": {
      "text/plain": [
       "(2428, 18, 30, 1)"
      ]
     },
     "execution_count": 236,
     "metadata": {},
     "output_type": "execute_result"
    }
   ],
   "source": [
    "X.shape"
   ]
  },
  {
   "cell_type": "code",
   "execution_count": 237,
   "metadata": {},
   "outputs": [
    {
     "data": {
      "text/plain": [
       "(2428, 1)"
      ]
     },
     "execution_count": 237,
     "metadata": {},
     "output_type": "execute_result"
    }
   ],
   "source": [
    "y.shape"
   ]
  },
  {
   "cell_type": "code",
   "execution_count": 238,
   "metadata": {},
   "outputs": [
    {
     "data": {
      "text/plain": [
       "(2428, 18, 30, 1)"
      ]
     },
     "execution_count": 238,
     "metadata": {},
     "output_type": "execute_result"
    }
   ],
   "source": [
    "rows = len(games)\n",
    "cols = len(games[0])\n",
    "fors = len(games[0][0])\n",
    "last = len(games[0][0][0])\n",
    "(rows, cols, fors, last)"
   ]
  },
  {
   "cell_type": "code",
   "execution_count": 239,
   "metadata": {},
   "outputs": [
    {
     "data": {
      "text/plain": [
       "2428"
      ]
     },
     "execution_count": 239,
     "metadata": {},
     "output_type": "execute_result"
    }
   ],
   "source": [
    "len(y)"
   ]
  },
  {
   "cell_type": "code",
   "execution_count": 240,
   "metadata": {},
   "outputs": [],
   "source": [
    "input_shape = (18, 30, 1)"
   ]
  },
  {
   "cell_type": "markdown",
   "metadata": {},
   "source": [
    "<p>Now we can extrapolate this to pull all games from all years into one list. This will be the last step before running our predictive model.</p>"
   ]
  },
  {
   "cell_type": "code",
   "execution_count": 241,
   "metadata": {},
   "outputs": [],
   "source": [
    "X = []\n",
    "y = []\n",
    "for year in range(1919, 2020):\n",
    "    df = pd.read_csv('../core/tensors/games/{}.csv'.format(year), header=None)\n",
    "    for index in range(0, df.shape[0]):\n",
    "        game = list(df.iloc[index])\n",
    "        y_sample = int(game[-1])\n",
    "        game = game[:-1]\n",
    "        game = np.reshape(game, ([18, 30, 1]))\n",
    "        X.append(game)\n",
    "        y.append(y_sample)"
   ]
  },
  {
   "cell_type": "code",
   "execution_count": 242,
   "metadata": {},
   "outputs": [],
   "source": [
    "X = np.array(X)\n",
    "y = np.array(y)"
   ]
  },
  {
   "cell_type": "code",
   "execution_count": 243,
   "metadata": {},
   "outputs": [],
   "source": [
    "y = y[..., np.newaxis]"
   ]
  },
  {
   "cell_type": "code",
   "execution_count": 244,
   "metadata": {},
   "outputs": [
    {
     "data": {
      "text/plain": [
       "(50995, 18, 30, 1)"
      ]
     },
     "execution_count": 244,
     "metadata": {},
     "output_type": "execute_result"
    }
   ],
   "source": [
    "rows = len(X)\n",
    "cols = len(X[0])\n",
    "fors = len(X[0][0])\n",
    "last = len(X[0][0][0])\n",
    "(rows, cols, fors, last)"
   ]
  },
  {
   "cell_type": "code",
   "execution_count": 245,
   "metadata": {},
   "outputs": [
    {
     "data": {
      "text/plain": [
       "50995"
      ]
     },
     "execution_count": 245,
     "metadata": {},
     "output_type": "execute_result"
    }
   ],
   "source": [
    "len(y)"
   ]
  },
  {
   "cell_type": "code",
   "execution_count": 246,
   "metadata": {},
   "outputs": [],
   "source": [
    "from sklearn.model_selection import train_test_split"
   ]
  },
  {
   "cell_type": "code",
   "execution_count": 247,
   "metadata": {},
   "outputs": [],
   "source": [
    "X_train, X_test, y_train, y_test = train_test_split(X, y, test_size=0.2, random_state=42)"
   ]
  },
  {
   "cell_type": "code",
   "execution_count": 248,
   "metadata": {},
   "outputs": [
    {
     "data": {
      "text/plain": [
       "40796"
      ]
     },
     "execution_count": 248,
     "metadata": {},
     "output_type": "execute_result"
    }
   ],
   "source": [
    "len(X_train)"
   ]
  },
  {
   "cell_type": "code",
   "execution_count": 265,
   "metadata": {},
   "outputs": [
    {
     "data": {
      "text/plain": [
       "(40796, 18, 30, 1)"
      ]
     },
     "execution_count": 265,
     "metadata": {},
     "output_type": "execute_result"
    }
   ],
   "source": [
    "X_train.shape"
   ]
  },
  {
   "cell_type": "code",
   "execution_count": 249,
   "metadata": {},
   "outputs": [
    {
     "data": {
      "text/plain": [
       "10199"
      ]
     },
     "execution_count": 249,
     "metadata": {},
     "output_type": "execute_result"
    }
   ],
   "source": [
    "len(X_test)"
   ]
  },
  {
   "cell_type": "code",
   "execution_count": 250,
   "metadata": {},
   "outputs": [
    {
     "data": {
      "text/plain": [
       "40796"
      ]
     },
     "execution_count": 250,
     "metadata": {},
     "output_type": "execute_result"
    }
   ],
   "source": [
    "len(y_train)"
   ]
  },
  {
   "cell_type": "code",
   "execution_count": 251,
   "metadata": {},
   "outputs": [
    {
     "data": {
      "text/plain": [
       "(40796, 1)"
      ]
     },
     "execution_count": 251,
     "metadata": {},
     "output_type": "execute_result"
    }
   ],
   "source": [
    "y_train.shape"
   ]
  },
  {
   "cell_type": "code",
   "execution_count": 252,
   "metadata": {},
   "outputs": [
    {
     "data": {
      "text/plain": [
       "10199"
      ]
     },
     "execution_count": 252,
     "metadata": {},
     "output_type": "execute_result"
    }
   ],
   "source": [
    "len(y_test)"
   ]
  },
  {
   "cell_type": "code",
   "execution_count": 253,
   "metadata": {},
   "outputs": [
    {
     "data": {
      "text/plain": [
       "array([[0],\n",
       "       [1],\n",
       "       [1],\n",
       "       ...,\n",
       "       [0],\n",
       "       [1],\n",
       "       [0]])"
      ]
     },
     "execution_count": 253,
     "metadata": {},
     "output_type": "execute_result"
    }
   ],
   "source": [
    "y_train"
   ]
  },
  {
   "cell_type": "markdown",
   "metadata": {},
   "source": [
    "<h1>Building the CNN</h1>"
   ]
  },
  {
   "cell_type": "code",
   "execution_count": 255,
   "metadata": {},
   "outputs": [],
   "source": [
    "from tensorflow.keras.models import Sequential\n",
    "from tensorflow.keras.layers import Dense, Conv2D, MaxPool2D, Dropout, Flatten"
   ]
  },
  {
   "cell_type": "code",
   "execution_count": 256,
   "metadata": {},
   "outputs": [],
   "source": [
    "image_shape=(18, 30, 1)"
   ]
  },
  {
   "cell_type": "code",
   "execution_count": 312,
   "metadata": {},
   "outputs": [],
   "source": [
    "epochs = 4000\n",
    "batch_size = 16\n",
    "loss_param = 'binary_crossentropy'\n",
    "optimizer_param = 'adam'\n",
    "stop_monitor = 'val_loss'\n",
    "metric = 'accuracy'\n",
    "stop_patience = 50"
   ]
  },
  {
   "cell_type": "code",
   "execution_count": 313,
   "metadata": {},
   "outputs": [],
   "source": [
    "model = Sequential()\n",
    "\n",
    "model.add(Conv2D(filters=32, kernel_size=(3, 3), input_shape=image_shape, activation='relu'))\n",
    "model.add(MaxPool2D(pool_size=(3, 3)))\n",
    "\n",
    "model.add(Conv2D(filters=64, kernel_size=(3, 3), activation='relu', padding=\"same\"))\n",
    "model.add(MaxPool2D(pool_size=(2, 2)))\n",
    "\n",
    "model.add(Conv2D(filters=128, kernel_size=(3, 3), activation='relu', padding=\"same\"))\n",
    "model.add(MaxPool2D(pool_size=(2, 2)))\n",
    "\n",
    "model.add(Flatten())\n",
    "\n",
    "model.add(Dense(256, activation='relu'))\n",
    "model.add(Dropout(0.5))\n",
    "\n",
    "model.add(Dense(1, activation='sigmoid'))\n",
    "\n",
    "model.compile(loss=loss_param, optimizer=optimizer_param,\n",
    "             metrics=[metric])"
   ]
  },
  {
   "cell_type": "code",
   "execution_count": 314,
   "metadata": {},
   "outputs": [
    {
     "name": "stdout",
     "output_type": "stream",
     "text": [
      "Model: \"sequential_28\"\n",
      "_________________________________________________________________\n",
      "Layer (type)                 Output Shape              Param #   \n",
      "=================================================================\n",
      "conv2d_74 (Conv2D)           (None, 16, 28, 32)        320       \n",
      "_________________________________________________________________\n",
      "max_pooling2d_64 (MaxPooling (None, 5, 9, 32)          0         \n",
      "_________________________________________________________________\n",
      "conv2d_75 (Conv2D)           (None, 5, 9, 64)          18496     \n",
      "_________________________________________________________________\n",
      "max_pooling2d_65 (MaxPooling (None, 2, 4, 64)          0         \n",
      "_________________________________________________________________\n",
      "conv2d_76 (Conv2D)           (None, 2, 4, 128)         73856     \n",
      "_________________________________________________________________\n",
      "max_pooling2d_66 (MaxPooling (None, 1, 2, 128)         0         \n",
      "_________________________________________________________________\n",
      "flatten_11 (Flatten)         (None, 256)               0         \n",
      "_________________________________________________________________\n",
      "dense_22 (Dense)             (None, 256)               65792     \n",
      "_________________________________________________________________\n",
      "dropout_11 (Dropout)         (None, 256)               0         \n",
      "_________________________________________________________________\n",
      "dense_23 (Dense)             (None, 1)                 257       \n",
      "=================================================================\n",
      "Total params: 158,721\n",
      "Trainable params: 158,721\n",
      "Non-trainable params: 0\n",
      "_________________________________________________________________\n"
     ]
    }
   ],
   "source": [
    "model.summary()"
   ]
  },
  {
   "cell_type": "code",
   "execution_count": 315,
   "metadata": {},
   "outputs": [],
   "source": [
    "from tensorflow.keras.callbacks import EarlyStopping"
   ]
  },
  {
   "cell_type": "code",
   "execution_count": 316,
   "metadata": {},
   "outputs": [],
   "source": [
    "early_stop = EarlyStopping(monitor=stop_monitor, patience=stop_patience)"
   ]
  },
  {
   "cell_type": "code",
   "execution_count": 317,
   "metadata": {},
   "outputs": [
    {
     "name": "stdout",
     "output_type": "stream",
     "text": [
      "Train on 40796 samples, validate on 10199 samples\n",
      "Epoch 1/4000\n",
      "40796/40796 [==============================] - 17s 415us/sample - loss: 0.6910 - accuracy: 0.5357 - val_loss: 0.6898 - val_accuracy: 0.5414\n",
      "Epoch 2/4000\n",
      "40796/40796 [==============================] - 17s 417us/sample - loss: 0.6894 - accuracy: 0.5373 - val_loss: 0.6859 - val_accuracy: 0.5464\n",
      "Epoch 3/4000\n",
      "40796/40796 [==============================] - 16s 389us/sample - loss: 0.6871 - accuracy: 0.5448 - val_loss: 0.6841 - val_accuracy: 0.5465\n",
      "Epoch 4/4000\n",
      "40796/40796 [==============================] - 17s 422us/sample - loss: 0.6857 - accuracy: 0.5489 - val_loss: 0.6844 - val_accuracy: 0.5538\n",
      "Epoch 5/4000\n",
      "40796/40796 [==============================] - 16s 396us/sample - loss: 0.6846 - accuracy: 0.5512 - val_loss: 0.6825 - val_accuracy: 0.5604\n",
      "Epoch 6/4000\n",
      "40796/40796 [==============================] - 17s 411us/sample - loss: 0.6842 - accuracy: 0.5551 - val_loss: 0.6823 - val_accuracy: 0.5558\n",
      "Epoch 7/4000\n",
      "40796/40796 [==============================] - 18s 437us/sample - loss: 0.6836 - accuracy: 0.5576 - val_loss: 0.6826 - val_accuracy: 0.5585\n",
      "Epoch 8/4000\n",
      "40796/40796 [==============================] - 18s 429us/sample - loss: 0.6824 - accuracy: 0.5579 - val_loss: 0.6815 - val_accuracy: 0.5641\n",
      "Epoch 9/4000\n",
      "40796/40796 [==============================] - 17s 424us/sample - loss: 0.6811 - accuracy: 0.5619 - val_loss: 0.6818 - val_accuracy: 0.5636\n",
      "Epoch 10/4000\n",
      "40796/40796 [==============================] - 17s 408us/sample - loss: 0.6802 - accuracy: 0.5642 - val_loss: 0.6823 - val_accuracy: 0.5605\n",
      "Epoch 11/4000\n",
      "40796/40796 [==============================] - 17s 416us/sample - loss: 0.6790 - accuracy: 0.5673 - val_loss: 0.6818 - val_accuracy: 0.5592\n",
      "Epoch 12/4000\n",
      "40796/40796 [==============================] - 17s 425us/sample - loss: 0.6770 - accuracy: 0.5735 - val_loss: 0.6829 - val_accuracy: 0.5598\n",
      "Epoch 13/4000\n",
      "40796/40796 [==============================] - 17s 406us/sample - loss: 0.6764 - accuracy: 0.5750 - val_loss: 0.6840 - val_accuracy: 0.5517\n",
      "Epoch 14/4000\n",
      "40796/40796 [==============================] - 17s 428us/sample - loss: 0.6742 - accuracy: 0.5780 - val_loss: 0.6846 - val_accuracy: 0.5543\n",
      "Epoch 15/4000\n",
      "40796/40796 [==============================] - 17s 412us/sample - loss: 0.6728 - accuracy: 0.5824 - val_loss: 0.6855 - val_accuracy: 0.5488\n",
      "Epoch 16/4000\n",
      "40796/40796 [==============================] - 17s 427us/sample - loss: 0.6715 - accuracy: 0.5824 - val_loss: 0.6850 - val_accuracy: 0.5593\n",
      "Epoch 17/4000\n",
      "40796/40796 [==============================] - 18s 432us/sample - loss: 0.6697 - accuracy: 0.5888 - val_loss: 0.6883 - val_accuracy: 0.5507\n",
      "Epoch 18/4000\n",
      "40796/40796 [==============================] - 17s 414us/sample - loss: 0.6669 - accuracy: 0.5911 - val_loss: 0.6885 - val_accuracy: 0.5535\n",
      "Epoch 19/4000\n",
      "40796/40796 [==============================] - 18s 449us/sample - loss: 0.6654 - accuracy: 0.5940 - val_loss: 0.6923 - val_accuracy: 0.5541\n",
      "Epoch 20/4000\n",
      "40796/40796 [==============================] - 19s 460us/sample - loss: 0.6639 - accuracy: 0.5976 - val_loss: 0.6888 - val_accuracy: 0.5476\n",
      "Epoch 21/4000\n",
      "40796/40796 [==============================] - 17s 427us/sample - loss: 0.6605 - accuracy: 0.6014 - val_loss: 0.6974 - val_accuracy: 0.5494\n",
      "Epoch 22/4000\n",
      "40796/40796 [==============================] - 17s 418us/sample - loss: 0.6581 - accuracy: 0.6054 - val_loss: 0.7024 - val_accuracy: 0.5468\n",
      "Epoch 23/4000\n",
      "40796/40796 [==============================] - 18s 437us/sample - loss: 0.6550 - accuracy: 0.6060 - val_loss: 0.6988 - val_accuracy: 0.5426\n",
      "Epoch 24/4000\n",
      "40796/40796 [==============================] - 17s 427us/sample - loss: 0.6529 - accuracy: 0.6131 - val_loss: 0.6981 - val_accuracy: 0.5509\n",
      "Epoch 25/4000\n",
      "40796/40796 [==============================] - 18s 439us/sample - loss: 0.6501 - accuracy: 0.6132 - val_loss: 0.7060 - val_accuracy: 0.5338\n",
      "Epoch 26/4000\n",
      "40796/40796 [==============================] - 18s 437us/sample - loss: 0.6467 - accuracy: 0.6170 - val_loss: 0.7066 - val_accuracy: 0.5391\n",
      "Epoch 27/4000\n",
      "40796/40796 [==============================] - 18s 434us/sample - loss: 0.6432 - accuracy: 0.6193 - val_loss: 0.7135 - val_accuracy: 0.5420\n",
      "Epoch 28/4000\n",
      "40796/40796 [==============================] - 17s 416us/sample - loss: 0.6406 - accuracy: 0.6238 - val_loss: 0.7137 - val_accuracy: 0.5386\n",
      "Epoch 29/4000\n",
      "40796/40796 [==============================] - 18s 433us/sample - loss: 0.6385 - accuracy: 0.6264 - val_loss: 0.7492 - val_accuracy: 0.5499\n",
      "Epoch 30/4000\n",
      "40796/40796 [==============================] - 17s 428us/sample - loss: 0.6331 - accuracy: 0.6329 - val_loss: 0.7239 - val_accuracy: 0.5458\n",
      "Epoch 31/4000\n",
      "40796/40796 [==============================] - 17s 414us/sample - loss: 0.6284 - accuracy: 0.6370 - val_loss: 0.7280 - val_accuracy: 0.5361\n",
      "Epoch 32/4000\n",
      "40796/40796 [==============================] - 18s 433us/sample - loss: 0.6259 - accuracy: 0.6396 - val_loss: 0.7291 - val_accuracy: 0.5450\n",
      "Epoch 33/4000\n",
      "40796/40796 [==============================] - 18s 429us/sample - loss: 0.6206 - accuracy: 0.6449 - val_loss: 0.7276 - val_accuracy: 0.5352\n",
      "Epoch 34/4000\n",
      "40796/40796 [==============================] - 18s 451us/sample - loss: 0.6158 - accuracy: 0.6490 - val_loss: 0.7427 - val_accuracy: 0.5365\n",
      "Epoch 35/4000\n",
      "40796/40796 [==============================] - 17s 426us/sample - loss: 0.6141 - accuracy: 0.6510 - val_loss: 0.7564 - val_accuracy: 0.5380\n",
      "Epoch 36/4000\n",
      "40796/40796 [==============================] - 18s 438us/sample - loss: 0.6087 - accuracy: 0.6559 - val_loss: 0.7507 - val_accuracy: 0.5368\n",
      "Epoch 37/4000\n",
      "40796/40796 [==============================] - 17s 429us/sample - loss: 0.6044 - accuracy: 0.6598 - val_loss: 0.7698 - val_accuracy: 0.5249\n",
      "Epoch 38/4000\n",
      "40796/40796 [==============================] - 18s 448us/sample - loss: 0.6009 - accuracy: 0.6618 - val_loss: 0.7635 - val_accuracy: 0.5292\n",
      "Epoch 39/4000\n",
      "40796/40796 [==============================] - 18s 442us/sample - loss: 0.5962 - accuracy: 0.6671 - val_loss: 0.7931 - val_accuracy: 0.5317\n",
      "Epoch 40/4000\n",
      "40796/40796 [==============================] - 17s 426us/sample - loss: 0.5916 - accuracy: 0.6694 - val_loss: 0.8034 - val_accuracy: 0.5246\n",
      "Epoch 41/4000\n",
      "40796/40796 [==============================] - 17s 426us/sample - loss: 0.5867 - accuracy: 0.6713 - val_loss: 0.7916 - val_accuracy: 0.5259\n",
      "Epoch 42/4000\n",
      "40796/40796 [==============================] - 18s 448us/sample - loss: 0.5818 - accuracy: 0.6795 - val_loss: 0.8073 - val_accuracy: 0.5315\n",
      "Epoch 43/4000\n",
      "40796/40796 [==============================] - 17s 427us/sample - loss: 0.5772 - accuracy: 0.6806 - val_loss: 0.8117 - val_accuracy: 0.5364\n",
      "Epoch 44/4000\n",
      "40796/40796 [==============================] - 17s 421us/sample - loss: 0.5722 - accuracy: 0.6814 - val_loss: 0.8157 - val_accuracy: 0.5264\n",
      "Epoch 45/4000\n",
      "40796/40796 [==============================] - 18s 435us/sample - loss: 0.5688 - accuracy: 0.6855 - val_loss: 0.8074 - val_accuracy: 0.5223\n",
      "Epoch 46/4000\n",
      "40796/40796 [==============================] - 18s 433us/sample - loss: 0.5653 - accuracy: 0.6890 - val_loss: 0.8446 - val_accuracy: 0.5370\n",
      "Epoch 47/4000\n",
      "40796/40796 [==============================] - 17s 415us/sample - loss: 0.5589 - accuracy: 0.6943 - val_loss: 0.8381 - val_accuracy: 0.5302\n",
      "Epoch 48/4000\n",
      "40796/40796 [==============================] - 18s 440us/sample - loss: 0.5535 - accuracy: 0.6951 - val_loss: 0.8595 - val_accuracy: 0.5293\n",
      "Epoch 49/4000\n",
      "40796/40796 [==============================] - 18s 437us/sample - loss: 0.5491 - accuracy: 0.6975 - val_loss: 0.8758 - val_accuracy: 0.5269\n",
      "Epoch 50/4000\n",
      "40796/40796 [==============================] - 17s 418us/sample - loss: 0.5454 - accuracy: 0.7037 - val_loss: 0.8566 - val_accuracy: 0.5318\n",
      "Epoch 51/4000\n",
      "40796/40796 [==============================] - 18s 431us/sample - loss: 0.5393 - accuracy: 0.7077 - val_loss: 0.8813 - val_accuracy: 0.5287\n",
      "Epoch 52/4000\n",
      "40796/40796 [==============================] - 18s 439us/sample - loss: 0.5352 - accuracy: 0.7110 - val_loss: 0.9009 - val_accuracy: 0.5323\n",
      "Epoch 53/4000\n",
      "40796/40796 [==============================] - 18s 439us/sample - loss: 0.5309 - accuracy: 0.7133 - val_loss: 0.9244 - val_accuracy: 0.5347\n",
      "Epoch 54/4000\n",
      "40796/40796 [==============================] - 19s 454us/sample - loss: 0.5254 - accuracy: 0.7168 - val_loss: 0.9658 - val_accuracy: 0.5324\n",
      "Epoch 55/4000\n",
      "40796/40796 [==============================] - 18s 437us/sample - loss: 0.5200 - accuracy: 0.7211 - val_loss: 0.9381 - val_accuracy: 0.5313\n",
      "Epoch 56/4000\n",
      "40796/40796 [==============================] - 18s 431us/sample - loss: 0.5153 - accuracy: 0.7238 - val_loss: 0.9259 - val_accuracy: 0.5302\n",
      "Epoch 57/4000\n",
      "40796/40796 [==============================] - 17s 428us/sample - loss: 0.5105 - accuracy: 0.7260 - val_loss: 0.9992 - val_accuracy: 0.5374\n",
      "Epoch 58/4000\n",
      "40796/40796 [==============================] - 18s 432us/sample - loss: 0.5087 - accuracy: 0.7294 - val_loss: 0.9933 - val_accuracy: 0.5208\n"
     ]
    }
   ],
   "source": [
    "results = model.fit(X_train, y_train, epochs=epochs,\n",
    "                             validation_data=(X_test, y_test),\n",
    "                             callbacks=[early_stop]\n",
    "                   )"
   ]
  },
  {
   "cell_type": "code",
   "execution_count": 318,
   "metadata": {},
   "outputs": [],
   "source": [
    "losses = model.history.history\n",
    "losses['loss'] = np.asarray(losses['loss'])\n",
    "losses['val_loss'] = np.asarray(losses['val_loss'])\n",
    "final_number_of_epochs = len(losses['loss'])\n",
    "min_loss = losses['loss'].min()\n",
    "mean_loss = losses['loss'].mean()\n",
    "final_loss = losses['loss'][-1]\n",
    "min_val_loss = losses['val_loss'].min()\n",
    "mean_val_loss = losses['val_loss'].mean()\n",
    "final_val_loss = losses['val_loss'][-1]\n",
    "\n",
    "def get_model_summary():\n",
    "    output = []\n",
    "    model.summary(print_fn=lambda line: output.append(line))\n",
    "    return str(output).strip('[]')\n",
    "\n",
    "\n",
    "summary = get_model_summary()\n",
    "\n",
    "record = {\n",
    "    'Epochs': final_number_of_epochs,\n",
    "    'Batch_Size': batch_size,\n",
    "    'Loss_Func': loss_param,\n",
    "    'Optimizer': optimizer_param,\n",
    "    'Early_Stop_Monitor': stop_monitor,\n",
    "    'Early_Stop_Patience': stop_patience,\n",
    "    'Min_Loss': min_loss,\n",
    "    'Mean_Loss': mean_loss,\n",
    "    'Final_Loss': final_loss,\n",
    "    'Min_Val_Loss': min_val_loss,\n",
    "    'Mean_Val_Loss': mean_val_loss,\n",
    "    'Final_Val_Loss': final_val_loss,\n",
    "    'Model': summary\n",
    "}\n",
    "\n",
    "new_data = pd.DataFrame(record, index=[0])\n",
    "\n",
    "if os.path.exists('../core/records/game_predictions.csv'):\n",
    "    df_records = pd.read_csv('../core/records/game_predictions.csv')\n",
    "    df_records = df_records.append(new_data)\n",
    "else:\n",
    "    df_records = pd.DataFrame(new_data)\n",
    "\n",
    "df_records.to_csv('../core/records/game_predictions.csv',\n",
    "                  index=False, float_format='%g')\n",
    "\n",
    "\n",
    "model.save('../core/models/model_games.h5')"
   ]
  },
  {
   "cell_type": "markdown",
   "metadata": {},
   "source": [
    "<h2>Model Evaluation</h2>"
   ]
  },
  {
   "cell_type": "code",
   "execution_count": 319,
   "metadata": {},
   "outputs": [],
   "source": [
    "losses = pd.DataFrame(model.history.history)"
   ]
  },
  {
   "cell_type": "code",
   "execution_count": 320,
   "metadata": {},
   "outputs": [
    {
     "data": {
      "text/plain": [
       "<matplotlib.axes._subplots.AxesSubplot at 0x13dc544d0>"
      ]
     },
     "execution_count": 320,
     "metadata": {},
     "output_type": "execute_result"
    },
    {
     "data": {
      "image/png": "[encoded data removed]",
      "text/plain": [
       "<Figure size 432x288 with 1 Axes>"
      ]
     },
     "metadata": {
      "needs_background": "light"
     },
     "output_type": "display_data"
    }
   ],
   "source": [
    "losses.plot()"
   ]
  },
  {
   "cell_type": "code",
   "execution_count": null,
   "metadata": {},
   "outputs": [],
   "source": []
  }
 ],
 "metadata": {
  "kernelspec": {
   "display_name": "Python 3.7.6 64-bit ('tf2env': conda)",
   "language": "python",
   "name": "python37664bittf2envconda7a5d2b04ce96452f92a2890aed430c66"
  },
  "language_info": {
   "codemirror_mode": {
    "name": "ipython",
    "version": 3
   },
   "file_extension": ".py",
   "mimetype": "text/x-python",
   "name": "python",
   "nbconvert_exporter": "python",
   "pygments_lexer": "ipython3",
   "version": "3.7.7"
  }
 },
 "nbformat": 4,
 "nbformat_minor": 4
}
