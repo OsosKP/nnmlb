{
 "cells": [
  {
   "cell_type": "code",
   "execution_count": 1,
   "metadata": {},
   "outputs": [],
   "source": [
    "import pandas as pd"
   ]
  },
  {
   "cell_type": "code",
   "execution_count": 2,
   "metadata": {},
   "outputs": [],
   "source": [
    "df = pd.read_csv('../core/data/lahman/mlb_data/Batting.csv')\n",
    "metadata_columns = ['playerID', 'yearID', 'teamID']\n",
    "df = df[metadata_columns]"
   ]
  },
  {
   "cell_type": "code",
   "execution_count": 3,
   "metadata": {},
   "outputs": [],
   "source": [
    "# This will be exported to a separate module - retroid_dict.py\n",
    "ids = pd.read_csv('../core/data/lahman/mlb_data/People.csv')\n",
    "ids = ids[['playerID', 'retroID']]\n",
    "id_dict = ids.set_index('playerID').to_dict()['retroID']\n",
    "\n",
    "def get_retroid(id):\n",
    "    return id_dict[id] if id_dict is not None else id"
   ]
  },
  {
   "cell_type": "code",
   "execution_count": 4,
   "metadata": {},
   "outputs": [],
   "source": [
    "# This will be exported to a separate module - teamid_dict.py\n",
    "teams = pd.read_csv('../core/data/lahman/mlb_data/Teams.csv')\n",
    "teams = teams[['teamID', 'franchID']]\n",
    "team_dict = teams.set_index('teamID').to_dict()['franchID']\n",
    "\n",
    "def get_team(team):\n",
    "    return team_dict[team] if id_dict is not None else team"
   ]
  },
  {
   "cell_type": "code",
   "execution_count": 5,
   "metadata": {},
   "outputs": [],
   "source": [
    "df['playerID'] = df['playerID'].apply(get_retroid)\n",
    "df.rename(columns={'playerID': 'retroID'}, inplace=True)\n",
    "df['teamID'] = df['teamID'].apply(get_team)"
   ]
  },
  {
   "cell_type": "code",
   "execution_count": 6,
   "metadata": {},
   "outputs": [],
   "source": [
    "team_dict = df.set_index(['retroID', 'yearID']).to_dict()['teamID']"
   ]
  },
  {
   "cell_type": "code",
   "execution_count": 7,
   "metadata": {},
   "outputs": [],
   "source": [
    "def get_team_for_player_and_year(retroId, yearId):\n",
    "    return team_dict[(retroId, yearId)]"
   ]
  },
  {
   "cell_type": "code",
   "execution_count": 8,
   "metadata": {},
   "outputs": [
    {
     "data": {
      "text/plain": [
       "retroID    mitcj101\n",
       "yearID         1921\n",
       "teamID          NYY\n",
       "Name: 1337, dtype: object"
      ]
     },
     "execution_count": 8,
     "metadata": {},
     "output_type": "execute_result"
    }
   ],
   "source": [
    "df.iloc[1337]"
   ]
  },
  {
   "cell_type": "code",
   "execution_count": 9,
   "metadata": {},
   "outputs": [
    {
     "data": {
      "text/plain": [
       "'NYY'"
      ]
     },
     "execution_count": 9,
     "metadata": {},
     "output_type": "execute_result"
    }
   ],
   "source": [
    "get_team_for_player_and_year('mitcj101', 1921)"
   ]
  }
 ],
 "metadata": {
  "kernelspec": {
   "display_name": "Python 3.7.6 64-bit ('tf2env': conda)",
   "language": "python",
   "name": "python37664bittf2envconda7a5d2b04ce96452f92a2890aed430c66"
  },
  "language_info": {
   "codemirror_mode": {
    "name": "ipython",
    "version": 3
   },
   "file_extension": ".py",
   "mimetype": "text/x-python",
   "name": "python",
   "nbconvert_exporter": "python",
   "pygments_lexer": "ipython3",
   "version": "3.7.6"
  }
 },
 "nbformat": 4,
 "nbformat_minor": 4
}
